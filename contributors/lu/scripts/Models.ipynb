{
 "cells": [
  {
   "cell_type": "code",
   "execution_count": 194,
   "metadata": {},
   "outputs": [],
   "source": [
    "## Packages\n",
    "# system\n",
    "import os\n",
    "# data wrangling\n",
    "import numpy as np\n",
    "import pandas as pd\n",
    "from scipy import stats\n",
    "from dfply import *\n",
    "import statistics\n",
    "# plotting\n",
    "import matplotlib.pyplot as plt\n",
    "import seaborn as sns\n",
    "# models\n",
    "from sklearn.model_selection import GridSearchCV, RandomizedSearchCV, train_test_split, KFold, StratifiedKFold, cross_val_score \n",
    "from sklearn.ensemble import RandomForestClassifier\n",
    "from sklearn.linear_model import LogisticRegression\n",
    "from sklearn.metrics import confusion_matrix, recall_score, make_scorer, accuracy_score, balanced_accuracy_score, f1_score, precision_score\n",
    "## Settings\n",
    "%matplotlib inline\n",
    "pd.set_option('display.max_columns', None)\n",
    "pd.set_option('display.max_rows', None) \n",
    "pd.set_option('display.width', 1000)"
   ]
  },
  {
   "cell_type": "markdown",
   "metadata": {},
   "source": [
    "## Data Import"
   ]
  },
  {
   "cell_type": "code",
   "execution_count": 180,
   "metadata": {},
   "outputs": [
    {
     "data": {
      "text/html": [
       "<div>\n",
       "<style scoped>\n",
       "    .dataframe tbody tr th:only-of-type {\n",
       "        vertical-align: middle;\n",
       "    }\n",
       "\n",
       "    .dataframe tbody tr th {\n",
       "        vertical-align: top;\n",
       "    }\n",
       "\n",
       "    .dataframe thead th {\n",
       "        text-align: right;\n",
       "    }\n",
       "</style>\n",
       "<table border=\"1\" class=\"dataframe\">\n",
       "  <thead>\n",
       "    <tr style=\"text-align: right;\">\n",
       "      <th></th>\n",
       "      <th>PotentialFraud</th>\n",
       "      <th>DurationMedianIP</th>\n",
       "      <th>DurationMeanIP</th>\n",
       "      <th>DurationMedianOP</th>\n",
       "      <th>DurationMeanOP</th>\n",
       "      <th>Serves</th>\n",
       "      <th>ChronCondsMedian</th>\n",
       "      <th>ChronCondsMean</th>\n",
       "      <th>ChronConsMode</th>\n",
       "      <th>PtAgeMedian</th>\n",
       "      <th>PtAgeMean</th>\n",
       "      <th>NumPtsIP</th>\n",
       "      <th>NumPtsOP</th>\n",
       "      <th>NumStatesIP</th>\n",
       "      <th>NumStatesOP</th>\n",
       "      <th>SharePhysician</th>\n",
       "      <th>MergeAvgClaimReimbursed</th>\n",
       "      <th>NumTopCodeClaim</th>\n",
       "      <th>DupClaimNum_IP</th>\n",
       "      <th>DupClaimRatio_IP</th>\n",
       "      <th>DupClaim_IP</th>\n",
       "      <th>DupClaimStatesNum_IP</th>\n",
       "      <th>DupClaimMultiState_IP</th>\n",
       "      <th>DupClaimProviderNum_IP</th>\n",
       "      <th>DupClaimMultiProvider_IP</th>\n",
       "      <th>DupClaimStartDtNum_IP</th>\n",
       "      <th>DupClaimMultiStartDt_IP</th>\n",
       "      <th>DupClaimNum_OP</th>\n",
       "      <th>DupClaimRatio_OP</th>\n",
       "      <th>DupClaim_OP</th>\n",
       "      <th>DupClaimStatesNum_OP</th>\n",
       "      <th>DupClaimMultiState_OP</th>\n",
       "      <th>DupClaimProviderNum_OP</th>\n",
       "      <th>DupClaimMultiProvider_OP</th>\n",
       "      <th>DupClaimStartDtNum_OP</th>\n",
       "      <th>DupClaimMultiStartDt_OP</th>\n",
       "      <th>AvgDuration</th>\n",
       "      <th>NumOfPt</th>\n",
       "      <th>NumOfClm</th>\n",
       "      <th>ClmPerPt</th>\n",
       "      <th>TotalRev</th>\n",
       "      <th>RevPerPt</th>\n",
       "      <th>ClmNoPhy</th>\n",
       "      <th>ClmAllPhy</th>\n",
       "      <th>ClmNoProc</th>\n",
       "      <th>ClmPerDt</th>\n",
       "    </tr>\n",
       "    <tr>\n",
       "      <th>Provider</th>\n",
       "      <th></th>\n",
       "      <th></th>\n",
       "      <th></th>\n",
       "      <th></th>\n",
       "      <th></th>\n",
       "      <th></th>\n",
       "      <th></th>\n",
       "      <th></th>\n",
       "      <th></th>\n",
       "      <th></th>\n",
       "      <th></th>\n",
       "      <th></th>\n",
       "      <th></th>\n",
       "      <th></th>\n",
       "      <th></th>\n",
       "      <th></th>\n",
       "      <th></th>\n",
       "      <th></th>\n",
       "      <th></th>\n",
       "      <th></th>\n",
       "      <th></th>\n",
       "      <th></th>\n",
       "      <th></th>\n",
       "      <th></th>\n",
       "      <th></th>\n",
       "      <th></th>\n",
       "      <th></th>\n",
       "      <th></th>\n",
       "      <th></th>\n",
       "      <th></th>\n",
       "      <th></th>\n",
       "      <th></th>\n",
       "      <th></th>\n",
       "      <th></th>\n",
       "      <th></th>\n",
       "      <th></th>\n",
       "      <th></th>\n",
       "      <th></th>\n",
       "      <th></th>\n",
       "      <th></th>\n",
       "      <th></th>\n",
       "      <th></th>\n",
       "      <th></th>\n",
       "      <th></th>\n",
       "      <th></th>\n",
       "      <th></th>\n",
       "    </tr>\n",
       "  </thead>\n",
       "  <tbody>\n",
       "    <tr>\n",
       "      <th>PRV51001</th>\n",
       "      <td>No</td>\n",
       "      <td>4.0</td>\n",
       "      <td>5.00000</td>\n",
       "      <td>0.0</td>\n",
       "      <td>0.550000</td>\n",
       "      <td>Both</td>\n",
       "      <td>6.0</td>\n",
       "      <td>5.760000</td>\n",
       "      <td>5.0</td>\n",
       "      <td>79.0</td>\n",
       "      <td>77.880000</td>\n",
       "      <td>5.0</td>\n",
       "      <td>19.0</td>\n",
       "      <td>1.0</td>\n",
       "      <td>1.0</td>\n",
       "      <td>1.0</td>\n",
       "      <td>4185.600000</td>\n",
       "      <td>5.0</td>\n",
       "      <td>0.0</td>\n",
       "      <td>0.000000</td>\n",
       "      <td>no</td>\n",
       "      <td>0.0</td>\n",
       "      <td>no</td>\n",
       "      <td>0.0</td>\n",
       "      <td>no</td>\n",
       "      <td>0.0</td>\n",
       "      <td>no</td>\n",
       "      <td>11.0</td>\n",
       "      <td>0.550000</td>\n",
       "      <td>yes</td>\n",
       "      <td>50.0</td>\n",
       "      <td>yes</td>\n",
       "      <td>422.0</td>\n",
       "      <td>yes</td>\n",
       "      <td>278.0</td>\n",
       "      <td>yes</td>\n",
       "      <td>1.44</td>\n",
       "      <td>24</td>\n",
       "      <td>25</td>\n",
       "      <td>1.04</td>\n",
       "      <td>109980</td>\n",
       "      <td>4582.50</td>\n",
       "      <td>0</td>\n",
       "      <td>2</td>\n",
       "      <td>23</td>\n",
       "      <td>1.09</td>\n",
       "    </tr>\n",
       "    <tr>\n",
       "      <th>PRV51003</th>\n",
       "      <td>Yes</td>\n",
       "      <td>4.0</td>\n",
       "      <td>5.16129</td>\n",
       "      <td>0.0</td>\n",
       "      <td>2.357143</td>\n",
       "      <td>Both</td>\n",
       "      <td>7.0</td>\n",
       "      <td>6.674242</td>\n",
       "      <td>6.0</td>\n",
       "      <td>71.0</td>\n",
       "      <td>69.083333</td>\n",
       "      <td>53.0</td>\n",
       "      <td>66.0</td>\n",
       "      <td>3.0</td>\n",
       "      <td>3.0</td>\n",
       "      <td>1.0</td>\n",
       "      <td>4588.409091</td>\n",
       "      <td>25.0</td>\n",
       "      <td>1.0</td>\n",
       "      <td>0.016129</td>\n",
       "      <td>yes</td>\n",
       "      <td>2.0</td>\n",
       "      <td>yes</td>\n",
       "      <td>2.0</td>\n",
       "      <td>yes</td>\n",
       "      <td>2.0</td>\n",
       "      <td>yes</td>\n",
       "      <td>25.0</td>\n",
       "      <td>0.357143</td>\n",
       "      <td>yes</td>\n",
       "      <td>52.0</td>\n",
       "      <td>yes</td>\n",
       "      <td>1351.0</td>\n",
       "      <td>yes</td>\n",
       "      <td>372.0</td>\n",
       "      <td>yes</td>\n",
       "      <td>3.67</td>\n",
       "      <td>117</td>\n",
       "      <td>132</td>\n",
       "      <td>1.13</td>\n",
       "      <td>671956</td>\n",
       "      <td>5743.21</td>\n",
       "      <td>0</td>\n",
       "      <td>4</td>\n",
       "      <td>93</td>\n",
       "      <td>1.19</td>\n",
       "    </tr>\n",
       "    <tr>\n",
       "      <th>PRV51004</th>\n",
       "      <td>No</td>\n",
       "      <td>0.0</td>\n",
       "      <td>0.00000</td>\n",
       "      <td>0.0</td>\n",
       "      <td>1.429530</td>\n",
       "      <td>OP</td>\n",
       "      <td>7.0</td>\n",
       "      <td>6.812081</td>\n",
       "      <td>8.0</td>\n",
       "      <td>72.0</td>\n",
       "      <td>71.261745</td>\n",
       "      <td>0.0</td>\n",
       "      <td>138.0</td>\n",
       "      <td>0.0</td>\n",
       "      <td>9.0</td>\n",
       "      <td>1.0</td>\n",
       "      <td>350.134228</td>\n",
       "      <td>5.0</td>\n",
       "      <td>0.0</td>\n",
       "      <td>0.000000</td>\n",
       "      <td>no</td>\n",
       "      <td>0.0</td>\n",
       "      <td>no</td>\n",
       "      <td>0.0</td>\n",
       "      <td>no</td>\n",
       "      <td>0.0</td>\n",
       "      <td>no</td>\n",
       "      <td>72.0</td>\n",
       "      <td>0.483221</td>\n",
       "      <td>yes</td>\n",
       "      <td>52.0</td>\n",
       "      <td>yes</td>\n",
       "      <td>3006.0</td>\n",
       "      <td>yes</td>\n",
       "      <td>375.0</td>\n",
       "      <td>yes</td>\n",
       "      <td>1.43</td>\n",
       "      <td>138</td>\n",
       "      <td>149</td>\n",
       "      <td>1.08</td>\n",
       "      <td>52480</td>\n",
       "      <td>380.29</td>\n",
       "      <td>0</td>\n",
       "      <td>12</td>\n",
       "      <td>149</td>\n",
       "      <td>1.27</td>\n",
       "    </tr>\n",
       "  </tbody>\n",
       "</table>\n",
       "</div>"
      ],
      "text/plain": [
       "         PotentialFraud  DurationMedianIP  DurationMeanIP  DurationMedianOP  DurationMeanOP Serves  ChronCondsMedian  ChronCondsMean  ChronConsMode  PtAgeMedian  PtAgeMean  NumPtsIP  NumPtsOP  NumStatesIP  NumStatesOP  SharePhysician  MergeAvgClaimReimbursed  NumTopCodeClaim  DupClaimNum_IP  DupClaimRatio_IP DupClaim_IP  DupClaimStatesNum_IP DupClaimMultiState_IP  DupClaimProviderNum_IP DupClaimMultiProvider_IP  DupClaimStartDtNum_IP DupClaimMultiStartDt_IP  DupClaimNum_OP  DupClaimRatio_OP DupClaim_OP  DupClaimStatesNum_OP DupClaimMultiState_OP  DupClaimProviderNum_OP DupClaimMultiProvider_OP  DupClaimStartDtNum_OP DupClaimMultiStartDt_OP  AvgDuration  NumOfPt  NumOfClm  ClmPerPt  TotalRev  RevPerPt  ClmNoPhy  ClmAllPhy  ClmNoProc  ClmPerDt\n",
       "Provider                                                                                                                                                                                                                                                                                                                                                                                                                                                                                                                                                                                                                                                                                                                                                                       \n",
       "PRV51001             No               4.0         5.00000               0.0        0.550000   Both               6.0        5.760000            5.0         79.0  77.880000       5.0      19.0          1.0          1.0             1.0              4185.600000              5.0             0.0          0.000000          no                   0.0                    no                     0.0                       no                    0.0                      no            11.0          0.550000         yes                  50.0                   yes                   422.0                      yes                  278.0                     yes         1.44       24        25      1.04    109980   4582.50         0          2         23      1.09\n",
       "PRV51003            Yes               4.0         5.16129               0.0        2.357143   Both               7.0        6.674242            6.0         71.0  69.083333      53.0      66.0          3.0          3.0             1.0              4588.409091             25.0             1.0          0.016129         yes                   2.0                   yes                     2.0                      yes                    2.0                     yes            25.0          0.357143         yes                  52.0                   yes                  1351.0                      yes                  372.0                     yes         3.67      117       132      1.13    671956   5743.21         0          4         93      1.19\n",
       "PRV51004             No               0.0         0.00000               0.0        1.429530     OP               7.0        6.812081            8.0         72.0  71.261745       0.0     138.0          0.0          9.0             1.0               350.134228              5.0             0.0          0.000000          no                   0.0                    no                     0.0                       no                    0.0                      no            72.0          0.483221         yes                  52.0                   yes                  3006.0                      yes                  375.0                     yes         1.43      138       149      1.08     52480    380.29         0         12        149      1.27"
      ]
     },
     "execution_count": 180,
     "metadata": {},
     "output_type": "execute_result"
    }
   ],
   "source": [
    "df = pd.read_csv('../processed_data/provider_final_new.csv')\n",
    "df.drop(['Unnamed: 0'], axis=1, inplace=True)\n",
    "df = df.set_index('Provider')\n",
    "df.head(3)"
   ]
  },
  {
   "cell_type": "markdown",
   "metadata": {},
   "source": [
    "## Exclude columns"
   ]
  },
  {
   "cell_type": "code",
   "execution_count": 111,
   "metadata": {},
   "outputs": [],
   "source": [
    "# display(df.columns[df.columns.str.contains('DupClaim')])\n",
    "# del_col = ['DupClaim_IP','DupClaim_OP','DupClaimRatio_IP','DupClaimRatio_OP',\n",
    "#            'DupClaimMultiState_IP','DupClaimMultiState_OP','DupClaimMultiProvider_IP','DupClaimMultiProvider_OP',\n",
    "#           'DupClaimMultiStartDt_IP','DupClaimMultiStartDt_OP']"
   ]
  },
  {
   "cell_type": "code",
   "execution_count": 88,
   "metadata": {},
   "outputs": [
    {
     "name": "stdout",
     "output_type": "stream",
     "text": [
      "before delete cols (5410, 46)\n",
      "after delete cols (5410, 36)\n"
     ]
    }
   ],
   "source": [
    "# print('before delete cols', df.shape)\n",
    "# df_num = df.drop(del_col, axis=1)\n",
    "# print('after delete cols', df_num.shape)"
   ]
  },
  {
   "cell_type": "markdown",
   "metadata": {},
   "source": [
    "## dummy variables"
   ]
  },
  {
   "cell_type": "code",
   "execution_count": 181,
   "metadata": {},
   "outputs": [],
   "source": [
    "def make_dummy_df(df, cols) :\n",
    "    for x in cols:\n",
    "        dums = pd.get_dummies(df[x], drop_first=True, prefix=x)\n",
    "        df = pd.concat((df, dums), axis=1)\n",
    "        df.drop([x], axis=1, inplace=True)\n",
    "    return df"
   ]
  },
  {
   "cell_type": "code",
   "execution_count": 182,
   "metadata": {},
   "outputs": [],
   "source": [
    "dummy_list_1 = ['Serves'] # for df_num\n",
    "dummy_list_2 = ['Serves','DupClaim_IP','DupClaim_OP','DupClaimRatio_IP','DupClaimRatio_OP',\n",
    "           'DupClaimMultiState_IP','DupClaimMultiState_OP','DupClaimMultiProvider_IP','DupClaimMultiProvider_OP',\n",
    "          'DupClaimMultiStartDt_IP','DupClaimMultiStartDt_OP'] # for df"
   ]
  },
  {
   "cell_type": "code",
   "execution_count": 183,
   "metadata": {},
   "outputs": [],
   "source": [
    "df_num_dum = make_dummy_df(df_num, dummy_list_1)\n",
    "df_dum = make_dummy_df(df, dummy_list_2)"
   ]
  },
  {
   "cell_type": "code",
   "execution_count": 186,
   "metadata": {},
   "outputs": [],
   "source": [
    "# this is for pos_label for precision & recall for gridsearchcv\n",
    "df_dum['PotentialFraud'] = np.where(df_num_dum['PotentialFraud']=='Yes', 1, 0)\n",
    "df_dum['PotentialFraud'] = np.where(df_num_dum['PotentialFraud']=='Yes', 1, 0)"
   ]
  },
  {
   "cell_type": "code",
   "execution_count": 187,
   "metadata": {},
   "outputs": [],
   "source": [
    "# display(df_dum.head(2))\n",
    "# display(df_num_dum.head(2))"
   ]
  },
  {
   "cell_type": "markdown",
   "metadata": {},
   "source": [
    "## split train-test"
   ]
  },
  {
   "cell_type": "code",
   "execution_count": 188,
   "metadata": {},
   "outputs": [
    {
     "name": "stdout",
     "output_type": "stream",
     "text": [
      "ytrain class ave 0.09357670979667283\n",
      "ytest class ave 0.0933456561922366\n"
     ]
    }
   ],
   "source": [
    "x = df_dum.drop(['PotentialFraud'], axis = 1)\n",
    "y = df_dum.PotentialFraud\n",
    "\n",
    "xtrain, xtest, ytrain, ytest = train_test_split(x, y, test_size=0.2, random_state=4, stratify=y)\n",
    "\n",
    "# for flag 1,0\n",
    "print('ytrain class ave', ytrain.mean())\n",
    "print('ytest class ave', ytest.mean())"
   ]
  },
  {
   "cell_type": "markdown",
   "metadata": {},
   "source": [
    "## Logistic Regression"
   ]
  },
  {
   "cell_type": "code",
   "execution_count": 209,
   "metadata": {
    "scrolled": true
   },
   "outputs": [
    {
     "name": "stdout",
     "output_type": "stream",
     "text": [
      "Fitting 5 folds for each of 14 candidates, totalling 70 fits\n"
     ]
    },
    {
     "name": "stderr",
     "output_type": "stream",
     "text": [
      "[Parallel(n_jobs=-1)]: Using backend LokyBackend with 4 concurrent workers.\n",
      "[Parallel(n_jobs=-1)]: Done  33 tasks      | elapsed:    6.4s\n"
     ]
    },
    {
     "name": "stdout",
     "output_type": "stream",
     "text": [
      "CPU times: user 670 ms, sys: 236 ms, total: 906 ms\n",
      "Wall time: 15.4 s\n"
     ]
    },
    {
     "name": "stderr",
     "output_type": "stream",
     "text": [
      "[Parallel(n_jobs=-1)]: Done  70 out of  70 | elapsed:   15.3s finished\n"
     ]
    },
    {
     "data": {
      "text/plain": [
       "GridSearchCV(cv=StratifiedKFold(n_splits=5, random_state=4, shuffle=True),\n",
       "             error_score=nan,\n",
       "             estimator=LogisticRegression(C=1.0, class_weight='balanced',\n",
       "                                          dual=False, fit_intercept=True,\n",
       "                                          intercept_scaling=1, l1_ratio=None,\n",
       "                                          max_iter=100, multi_class='auto',\n",
       "                                          n_jobs=None, penalty='l2',\n",
       "                                          random_state=4, solver='lbfgs',\n",
       "                                          tol=0.0001, verbose=0,\n",
       "                                          warm_start=False),\n",
       "             iid='deprecat...\n",
       "             pre_dispatch='2*n_jobs', refit=False, return_train_score=True,\n",
       "             scoring={'accuracy': make_scorer(balanced_accuracy_score),\n",
       "                      'f1': make_scorer(f1_score, pos_label=1, average=weighted),\n",
       "                      'precision': make_scorer(precision_score, pos_label=1, average=weighted),\n",
       "                      'recall': make_scorer(recall_score, pos_label=1, average=weighted),\n",
       "                      'specificity': make_scorer(recall_score, pos_label=0, average=weighted)},\n",
       "             verbose=2)"
      ]
     },
     "execution_count": 209,
     "metadata": {},
     "output_type": "execute_result"
    }
   ],
   "source": [
    "# recall of positive - sensitivity; recall of negative - specificity\n",
    "lr = LogisticRegression(random_state=4, class_weight='balanced')\n",
    "\n",
    "# lr_params = [{'penalty': ['l1', 'l2'], \"C\":[0.0001,0.001,0.01,0.1,1,10,100], 'max_iter':[1000]}]\n",
    "# lr_params = [{'penalty': ['elasticnet'], \"C\":[0.01, 0.1, 1,10,100],\n",
    "#              'l1_ratio': [0,0.2,0.4,0.6, 0.8,1], 'solver': ['saga']}]\n",
    "\n",
    "lr_params = [{'penalty': ['l1', 'l2'], \"C\":[0.0001,0.001,0.01,0.1,1,10,100], \n",
    "              'max_iter':[1000], 'solver':['liblinear']}] # l1=lasso\n",
    "kf5 = StratifiedKFold(n_splits = 5, shuffle = True, random_state = 4)\n",
    "scores = { 'recall': make_scorer(recall_score, pos_label = 1, average = 'weighted'), \n",
    "          'f1': make_scorer(f1_score, pos_label = 1, average = 'weighted'),\n",
    "         'precision': make_scorer(precision_score, pos_label = 1, average = 'weighted'),\n",
    "         'accuracy': make_scorer(balanced_accuracy_score),\n",
    "         'specificity': make_scorer(recall_score, pos_label = 0, average = 'weighted')}\n",
    "\n",
    "# scores = ['f1_weighted', 'recall', 'precision', 'accuracy']\n",
    "# lr_grid = GridSearchCV(estimator=lr, param_grid=lr_params, return_train_score=True, \n",
    "#                        cv = 5, verbose=2, scoring='recall', n_jobs=-1)\n",
    "\n",
    "lr_grid = GridSearchCV(estimator=lr, param_grid=lr_params, return_train_score=True, \n",
    "                       cv = kf5, verbose=2, scoring=scores, refit=False, n_jobs=-1)\n",
    "\n",
    "%time lr_grid.fit(xtrain, ytrain)"
   ]
  },
  {
   "cell_type": "code",
   "execution_count": 165,
   "metadata": {},
   "outputs": [],
   "source": [
    "# best model\n",
    "# display(lr_grid.best_params_)\n",
    "# print('lr best validation score', lr_grid.best_score_)\n",
    "# print('lr best train score', lr_grid.score(xtrain, ytrain))"
   ]
  },
  {
   "cell_type": "code",
   "execution_count": 210,
   "metadata": {},
   "outputs": [
    {
     "name": "stdout",
     "output_type": "stream",
     "text": [
      "['mean_test_recall', 'mean_test_f1', 'mean_test_precision', 'mean_test_accuracy', 'mean_test_specificity']\n",
      "['mean_train_recall', 'mean_train_f1', 'mean_train_precision', 'mean_train_accuracy', 'mean_train_specificity']\n"
     ]
    }
   ],
   "source": [
    "keys = list(lr_grid.cv_results_.keys())\n",
    "mean_test = [s for s in keys if 'mean_test' in s]\n",
    "mean_train = [s for s in keys if 'mean_train' in s]\n",
    "print(mean_test)\n",
    "print(mean_train)"
   ]
  },
  {
   "cell_type": "code",
   "execution_count": 211,
   "metadata": {},
   "outputs": [
    {
     "data": {
      "text/html": [
       "<div>\n",
       "<style scoped>\n",
       "    .dataframe tbody tr th:only-of-type {\n",
       "        vertical-align: middle;\n",
       "    }\n",
       "\n",
       "    .dataframe tbody tr th {\n",
       "        vertical-align: top;\n",
       "    }\n",
       "\n",
       "    .dataframe thead th {\n",
       "        text-align: right;\n",
       "    }\n",
       "</style>\n",
       "<table border=\"1\" class=\"dataframe\">\n",
       "  <thead>\n",
       "    <tr style=\"text-align: right;\">\n",
       "      <th></th>\n",
       "      <th>params</th>\n",
       "      <th>mean_test_recall</th>\n",
       "      <th>mean_train_recall</th>\n",
       "      <th>mean_test_f1</th>\n",
       "      <th>mean_train_f1</th>\n",
       "      <th>mean_test_precision</th>\n",
       "      <th>mean_train_precision</th>\n",
       "      <th>mean_test_accuracy</th>\n",
       "      <th>mean_train_accuracy</th>\n",
       "      <th>mean_test_specificity</th>\n",
       "      <th>mean_train_specificity</th>\n",
       "    </tr>\n",
       "  </thead>\n",
       "  <tbody>\n",
       "    <tr>\n",
       "      <th>0</th>\n",
       "      <td>{'C': 0.0001, 'max_iter': 1000, 'penalty': 'l1...</td>\n",
       "      <td>0.892101</td>\n",
       "      <td>0.892733</td>\n",
       "      <td>0.905101</td>\n",
       "      <td>0.905703</td>\n",
       "      <td>0.930753</td>\n",
       "      <td>0.931501</td>\n",
       "      <td>0.858555</td>\n",
       "      <td>0.861948</td>\n",
       "      <td>0.892101</td>\n",
       "      <td>0.892733</td>\n",
       "    </tr>\n",
       "    <tr>\n",
       "      <th>1</th>\n",
       "      <td>{'C': 0.0001, 'max_iter': 1000, 'penalty': 'l2...</td>\n",
       "      <td>0.887018</td>\n",
       "      <td>0.889845</td>\n",
       "      <td>0.901167</td>\n",
       "      <td>0.903707</td>\n",
       "      <td>0.929063</td>\n",
       "      <td>0.931773</td>\n",
       "      <td>0.854644</td>\n",
       "      <td>0.865060</td>\n",
       "      <td>0.887018</td>\n",
       "      <td>0.889845</td>\n",
       "    </tr>\n",
       "    <tr>\n",
       "      <th>2</th>\n",
       "      <td>{'C': 0.001, 'max_iter': 1000, 'penalty': 'l1'...</td>\n",
       "      <td>0.892562</td>\n",
       "      <td>0.892560</td>\n",
       "      <td>0.905630</td>\n",
       "      <td>0.905718</td>\n",
       "      <td>0.931800</td>\n",
       "      <td>0.932185</td>\n",
       "      <td>0.863238</td>\n",
       "      <td>0.865174</td>\n",
       "      <td>0.892562</td>\n",
       "      <td>0.892560</td>\n",
       "    </tr>\n",
       "    <tr>\n",
       "      <th>3</th>\n",
       "      <td>{'C': 0.001, 'max_iter': 1000, 'penalty': 'l2'...</td>\n",
       "      <td>0.887712</td>\n",
       "      <td>0.890423</td>\n",
       "      <td>0.901691</td>\n",
       "      <td>0.904214</td>\n",
       "      <td>0.929292</td>\n",
       "      <td>0.932250</td>\n",
       "      <td>0.855027</td>\n",
       "      <td>0.866762</td>\n",
       "      <td>0.887712</td>\n",
       "      <td>0.890423</td>\n",
       "    </tr>\n",
       "    <tr>\n",
       "      <th>4</th>\n",
       "      <td>{'C': 0.01, 'max_iter': 1000, 'penalty': 'l1',...</td>\n",
       "      <td>0.887019</td>\n",
       "      <td>0.888748</td>\n",
       "      <td>0.901889</td>\n",
       "      <td>0.903514</td>\n",
       "      <td>0.932656</td>\n",
       "      <td>0.934770</td>\n",
       "      <td>0.870144</td>\n",
       "      <td>0.878570</td>\n",
       "      <td>0.887019</td>\n",
       "      <td>0.888748</td>\n",
       "    </tr>\n",
       "    <tr>\n",
       "      <th>5</th>\n",
       "      <td>{'C': 0.01, 'max_iter': 1000, 'penalty': 'l2',...</td>\n",
       "      <td>0.887942</td>\n",
       "      <td>0.889383</td>\n",
       "      <td>0.902064</td>\n",
       "      <td>0.903446</td>\n",
       "      <td>0.930307</td>\n",
       "      <td>0.932104</td>\n",
       "      <td>0.859582</td>\n",
       "      <td>0.866742</td>\n",
       "      <td>0.887942</td>\n",
       "      <td>0.889383</td>\n",
       "    </tr>\n",
       "    <tr>\n",
       "      <th>6</th>\n",
       "      <td>{'C': 0.1, 'max_iter': 1000, 'penalty': 'l1', ...</td>\n",
       "      <td>0.890945</td>\n",
       "      <td>0.892733</td>\n",
       "      <td>0.905377</td>\n",
       "      <td>0.907059</td>\n",
       "      <td>0.936242</td>\n",
       "      <td>0.938493</td>\n",
       "      <td>0.883381</td>\n",
       "      <td>0.892393</td>\n",
       "      <td>0.890945</td>\n",
       "      <td>0.892733</td>\n",
       "    </tr>\n",
       "    <tr>\n",
       "      <th>7</th>\n",
       "      <td>{'C': 0.1, 'max_iter': 1000, 'penalty': 'l2', ...</td>\n",
       "      <td>0.888404</td>\n",
       "      <td>0.891636</td>\n",
       "      <td>0.902289</td>\n",
       "      <td>0.905242</td>\n",
       "      <td>0.929723</td>\n",
       "      <td>0.933092</td>\n",
       "      <td>0.856515</td>\n",
       "      <td>0.869646</td>\n",
       "      <td>0.888404</td>\n",
       "      <td>0.891636</td>\n",
       "    </tr>\n",
       "    <tr>\n",
       "      <th>8</th>\n",
       "      <td>{'C': 1, 'max_iter': 1000, 'penalty': 'l1', 's...</td>\n",
       "      <td>0.900419</td>\n",
       "      <td>0.924041</td>\n",
       "      <td>0.910781</td>\n",
       "      <td>0.932804</td>\n",
       "      <td>0.930153</td>\n",
       "      <td>0.954716</td>\n",
       "      <td>0.849857</td>\n",
       "      <td>0.942323</td>\n",
       "      <td>0.900419</td>\n",
       "      <td>0.924041</td>\n",
       "    </tr>\n",
       "    <tr>\n",
       "      <th>9</th>\n",
       "      <td>{'C': 1, 'max_iter': 1000, 'penalty': 'l2', 's...</td>\n",
       "      <td>0.889329</td>\n",
       "      <td>0.890596</td>\n",
       "      <td>0.903096</td>\n",
       "      <td>0.904486</td>\n",
       "      <td>0.930500</td>\n",
       "      <td>0.933006</td>\n",
       "      <td>0.859240</td>\n",
       "      <td>0.869902</td>\n",
       "      <td>0.889329</td>\n",
       "      <td>0.890596</td>\n",
       "    </tr>\n",
       "    <tr>\n",
       "      <th>10</th>\n",
       "      <td>{'C': 10, 'max_iter': 1000, 'penalty': 'l1', '...</td>\n",
       "      <td>0.903883</td>\n",
       "      <td>0.966902</td>\n",
       "      <td>0.909123</td>\n",
       "      <td>0.968840</td>\n",
       "      <td>0.916439</td>\n",
       "      <td>0.974096</td>\n",
       "      <td>0.779806</td>\n",
       "      <td>0.971225</td>\n",
       "      <td>0.903883</td>\n",
       "      <td>0.966902</td>\n",
       "    </tr>\n",
       "    <tr>\n",
       "      <th>11</th>\n",
       "      <td>{'C': 10, 'max_iter': 1000, 'penalty': 'l2', '...</td>\n",
       "      <td>0.887942</td>\n",
       "      <td>0.890307</td>\n",
       "      <td>0.901934</td>\n",
       "      <td>0.904087</td>\n",
       "      <td>0.929583</td>\n",
       "      <td>0.932024</td>\n",
       "      <td>0.856260</td>\n",
       "      <td>0.865868</td>\n",
       "      <td>0.887942</td>\n",
       "      <td>0.890307</td>\n",
       "    </tr>\n",
       "    <tr>\n",
       "      <th>12</th>\n",
       "      <td>{'C': 100, 'max_iter': 1000, 'penalty': 'l1', ...</td>\n",
       "      <td>0.903421</td>\n",
       "      <td>0.967826</td>\n",
       "      <td>0.907639</td>\n",
       "      <td>0.969685</td>\n",
       "      <td>0.913216</td>\n",
       "      <td>0.974761</td>\n",
       "      <td>0.764051</td>\n",
       "      <td>0.972565</td>\n",
       "      <td>0.903421</td>\n",
       "      <td>0.967826</td>\n",
       "    </tr>\n",
       "    <tr>\n",
       "      <th>13</th>\n",
       "      <td>{'C': 100, 'max_iter': 1000, 'penalty': 'l2', ...</td>\n",
       "      <td>0.886095</td>\n",
       "      <td>0.888921</td>\n",
       "      <td>0.900480</td>\n",
       "      <td>0.902992</td>\n",
       "      <td>0.928870</td>\n",
       "      <td>0.931470</td>\n",
       "      <td>0.854134</td>\n",
       "      <td>0.864273</td>\n",
       "      <td>0.886095</td>\n",
       "      <td>0.888921</td>\n",
       "    </tr>\n",
       "  </tbody>\n",
       "</table>\n",
       "</div>"
      ],
      "text/plain": [
       "                                               params  mean_test_recall  mean_train_recall  mean_test_f1  mean_train_f1  mean_test_precision  mean_train_precision  mean_test_accuracy  mean_train_accuracy  mean_test_specificity  mean_train_specificity\n",
       "0   {'C': 0.0001, 'max_iter': 1000, 'penalty': 'l1...          0.892101           0.892733      0.905101       0.905703             0.930753              0.931501            0.858555             0.861948               0.892101                0.892733\n",
       "1   {'C': 0.0001, 'max_iter': 1000, 'penalty': 'l2...          0.887018           0.889845      0.901167       0.903707             0.929063              0.931773            0.854644             0.865060               0.887018                0.889845\n",
       "2   {'C': 0.001, 'max_iter': 1000, 'penalty': 'l1'...          0.892562           0.892560      0.905630       0.905718             0.931800              0.932185            0.863238             0.865174               0.892562                0.892560\n",
       "3   {'C': 0.001, 'max_iter': 1000, 'penalty': 'l2'...          0.887712           0.890423      0.901691       0.904214             0.929292              0.932250            0.855027             0.866762               0.887712                0.890423\n",
       "4   {'C': 0.01, 'max_iter': 1000, 'penalty': 'l1',...          0.887019           0.888748      0.901889       0.903514             0.932656              0.934770            0.870144             0.878570               0.887019                0.888748\n",
       "5   {'C': 0.01, 'max_iter': 1000, 'penalty': 'l2',...          0.887942           0.889383      0.902064       0.903446             0.930307              0.932104            0.859582             0.866742               0.887942                0.889383\n",
       "6   {'C': 0.1, 'max_iter': 1000, 'penalty': 'l1', ...          0.890945           0.892733      0.905377       0.907059             0.936242              0.938493            0.883381             0.892393               0.890945                0.892733\n",
       "7   {'C': 0.1, 'max_iter': 1000, 'penalty': 'l2', ...          0.888404           0.891636      0.902289       0.905242             0.929723              0.933092            0.856515             0.869646               0.888404                0.891636\n",
       "8   {'C': 1, 'max_iter': 1000, 'penalty': 'l1', 's...          0.900419           0.924041      0.910781       0.932804             0.930153              0.954716            0.849857             0.942323               0.900419                0.924041\n",
       "9   {'C': 1, 'max_iter': 1000, 'penalty': 'l2', 's...          0.889329           0.890596      0.903096       0.904486             0.930500              0.933006            0.859240             0.869902               0.889329                0.890596\n",
       "10  {'C': 10, 'max_iter': 1000, 'penalty': 'l1', '...          0.903883           0.966902      0.909123       0.968840             0.916439              0.974096            0.779806             0.971225               0.903883                0.966902\n",
       "11  {'C': 10, 'max_iter': 1000, 'penalty': 'l2', '...          0.887942           0.890307      0.901934       0.904087             0.929583              0.932024            0.856260             0.865868               0.887942                0.890307\n",
       "12  {'C': 100, 'max_iter': 1000, 'penalty': 'l1', ...          0.903421           0.967826      0.907639       0.969685             0.913216              0.974761            0.764051             0.972565               0.903421                0.967826\n",
       "13  {'C': 100, 'max_iter': 1000, 'penalty': 'l2', ...          0.886095           0.888921      0.900480       0.902992             0.928870              0.931470            0.854134             0.864273               0.886095                0.888921"
      ]
     },
     "execution_count": 211,
     "metadata": {},
     "output_type": "execute_result"
    }
   ],
   "source": [
    "pd.DataFrame({'params': lr_grid.cv_results_['params'], \n",
    "              'mean_test_recall': lr_grid.cv_results_['mean_test_recall'],\n",
    "              'mean_train_recall': lr_grid.cv_results_['mean_train_recall'],\n",
    "              'mean_test_f1': lr_grid.cv_results_['mean_test_f1'],\n",
    "              'mean_train_f1': lr_grid.cv_results_['mean_train_f1'],\n",
    "              'mean_test_precision': lr_grid.cv_results_['mean_test_precision'],\n",
    "              'mean_train_precision': lr_grid.cv_results_['mean_train_precision'],\n",
    "              'mean_test_accuracy': lr_grid.cv_results_['mean_test_accuracy'],\n",
    "              'mean_train_accuracy': lr_grid.cv_results_['mean_train_accuracy'],\n",
    "              'mean_test_specificity': lr_grid.cv_results_['mean_test_specificity'],\n",
    "              'mean_train_specificity': lr_grid.cv_results_['mean_train_specificity'] \n",
    "             })"
   ]
  },
  {
   "cell_type": "code",
   "execution_count": null,
   "metadata": {},
   "outputs": [],
   "source": [
    "# never split data into T/F and handle them differently\n",
    "# L2 is more flexible because it is smooth function, L1 is not a smooth function\n",
    "# elasticnet may keep need to use the solver that works for L1, because L2 is more flexbile\n",
    "# preceision expected to be 90-95%\n",
    "# can change the threshold of probabilty"
   ]
  },
  {
   "cell_type": "code",
   "execution_count": 166,
   "metadata": {},
   "outputs": [
    {
     "name": "stdout",
     "output_type": "stream",
     "text": [
      "Fitting 5 folds for each of 7 candidates, totalling 35 fits\n"
     ]
    },
    {
     "name": "stderr",
     "output_type": "stream",
     "text": [
      "[Parallel(n_jobs=-1)]: Using backend LokyBackend with 4 concurrent workers.\n",
      "[Parallel(n_jobs=-1)]: Done  35 out of  35 | elapsed:   10.2s finished\n"
     ]
    },
    {
     "name": "stdout",
     "output_type": "stream",
     "text": [
      "CPU times: user 763 ms, sys: 176 ms, total: 939 ms\n",
      "Wall time: 10.7 s\n"
     ]
    },
    {
     "data": {
      "text/plain": [
       "GridSearchCV(cv=5, error_score=nan,\n",
       "             estimator=LogisticRegression(C=1.0, class_weight='balanced',\n",
       "                                          dual=False, fit_intercept=True,\n",
       "                                          intercept_scaling=1, l1_ratio=None,\n",
       "                                          max_iter=100, multi_class='auto',\n",
       "                                          n_jobs=None, penalty='l2',\n",
       "                                          random_state=4, solver='lbfgs',\n",
       "                                          tol=0.0001, verbose=0,\n",
       "                                          warm_start=False),\n",
       "             iid='deprecated', n_jobs=-1,\n",
       "             param_grid=[{'C': [0.0001, 0.001, 0.01, 0.1, 1, 10, 100],\n",
       "                          'max_iter': [1000], 'penalty': ['l1'],\n",
       "                          'solver': ['liblinear']}],\n",
       "             pre_dispatch='2*n_jobs', refit=True, return_train_score=True,\n",
       "             scoring='recall', verbose=2)"
      ]
     },
     "execution_count": 166,
     "metadata": {},
     "output_type": "execute_result"
    }
   ],
   "source": [
    "lr = LogisticRegression(random_state=4, class_weight='balanced')\n",
    "\n",
    "lr_params = [{'penalty': ['l1'], \"C\":[0.0001,0.001,0.01,0.1,1,10,100], \n",
    "              'max_iter':[1000], 'solver':['liblinear']}] # l1=lasso\n",
    "\n",
    "lr_grid = GridSearchCV(estimator=lr, param_grid=lr_params, return_train_score=True, \n",
    "                       cv = 5, verbose=2, scoring='recall', refit=True, n_jobs=-1)\n",
    "\n",
    "%time lr_grid.fit(xtrain, ytrain)"
   ]
  },
  {
   "cell_type": "code",
   "execution_count": 167,
   "metadata": {},
   "outputs": [
    {
     "data": {
      "text/html": [
       "<div>\n",
       "<style scoped>\n",
       "    .dataframe tbody tr th:only-of-type {\n",
       "        vertical-align: middle;\n",
       "    }\n",
       "\n",
       "    .dataframe tbody tr th {\n",
       "        vertical-align: top;\n",
       "    }\n",
       "\n",
       "    .dataframe thead th {\n",
       "        text-align: right;\n",
       "    }\n",
       "</style>\n",
       "<table border=\"1\" class=\"dataframe\">\n",
       "  <thead>\n",
       "    <tr style=\"text-align: right;\">\n",
       "      <th></th>\n",
       "      <th>0</th>\n",
       "      <th>1</th>\n",
       "    </tr>\n",
       "  </thead>\n",
       "  <tbody>\n",
       "    <tr>\n",
       "      <th>0</th>\n",
       "      <td>3493</td>\n",
       "      <td>430</td>\n",
       "    </tr>\n",
       "    <tr>\n",
       "      <th>1</th>\n",
       "      <td>43</td>\n",
       "      <td>362</td>\n",
       "    </tr>\n",
       "  </tbody>\n",
       "</table>\n",
       "</div>"
      ],
      "text/plain": [
       "      0    1\n",
       "0  3493  430\n",
       "1    43  362"
      ]
     },
     "metadata": {},
     "output_type": "display_data"
    },
    {
     "name": "stdout",
     "output_type": "stream",
     "text": [
      "recall: 0.89039\n",
      "precision: 0.8907\n",
      "accuracy 0.8907\n"
     ]
    },
    {
     "data": {
      "text/plain": [
       "'              precision    recall  f1-score   support\\n\\n           0       0.99      0.89      0.94      3923\\n           1       0.46      0.89      0.60       405\\n\\n    accuracy                           0.89      4328\\n   macro avg       0.72      0.89      0.77      4328\\nweighted avg       0.94      0.89      0.91      4328\\n'"
      ]
     },
     "execution_count": 167,
     "metadata": {},
     "output_type": "execute_result"
    }
   ],
   "source": [
    "# confusion matrix\n",
    "ypred = lr_grid.best_estimator_.predict(xtrain)\n",
    "\n",
    "labels = np.unique(ytrain)\n",
    "cm = confusion_matrix(ytrain, ypred, labels=labels)\n",
    "cm_df = pd.DataFrame(cm, index=labels, columns=labels)\n",
    "display(cm_df)\n",
    "\n",
    "recall = recall_score(ytrain.array, ypred, average='binary', pos_label=0) # sensitivity\n",
    "print('recall:', round(recall, ndigits=5))\n",
    "precision = lr_grid.best_estimator_.score(xtrain, ytrain) # precision\n",
    "print('precision:', round(precision, ndigits=4))\n",
    "accuracy = accuracy_score(ytrain.array, ypred) # accuracy\n",
    "print('accuracy', round(accuracy, 4))\n",
    "\n",
    "from sklearn.metrics import classification_report\n",
    "classification_report(ytrain.array, ypred)\n",
    "\n",
    "f1_sco"
   ]
  },
  {
   "cell_type": "code",
   "execution_count": 59,
   "metadata": {},
   "outputs": [
    {
     "data": {
      "text/plain": [
       "0.8907766990291263"
      ]
     },
     "execution_count": 59,
     "metadata": {},
     "output_type": "execute_result"
    }
   ],
   "source": [
    "# yes is pos\n",
    "367/(367+45)"
   ]
  },
  {
   "cell_type": "code",
   "execution_count": 62,
   "metadata": {},
   "outputs": [
    {
     "data": {
      "text/plain": [
       "0.8932584269662921"
      ]
     },
     "execution_count": 62,
     "metadata": {},
     "output_type": "execute_result"
    }
   ],
   "source": [
    "# no is pos\n",
    "3498/(3498+418)"
   ]
  },
  {
   "cell_type": "code",
   "execution_count": 53,
   "metadata": {},
   "outputs": [
    {
     "data": {
      "text/plain": [
       "0.8924198250728863"
      ]
     },
     "execution_count": 53,
     "metadata": {},
     "output_type": "execute_result"
    }
   ],
   "source": [
    "3061/(3061+369)"
   ]
  },
  {
   "cell_type": "code",
   "execution_count": 54,
   "metadata": {},
   "outputs": [
    {
     "data": {
      "text/plain": [
       "0.8932584269662921"
      ]
     },
     "execution_count": 54,
     "metadata": {},
     "output_type": "execute_result"
    }
   ],
   "source": [
    "3498/(3498+418)"
   ]
  },
  {
   "cell_type": "code",
   "execution_count": null,
   "metadata": {},
   "outputs": [],
   "source": [
    "y_true = [2, 0, 2, 2, 0, 1]\n",
    "y_pred = [0, 0, 2, 2, 0, 2]\n"
   ]
  },
  {
   "cell_type": "code",
   "execution_count": 25,
   "metadata": {},
   "outputs": [
    {
     "name": "stdout",
     "output_type": "stream",
     "text": [
      "Recall: 0.900\n"
     ]
    }
   ],
   "source": [
    "# define actual\n",
    "act_pos = [1 for _ in range(100)]\n",
    "act_neg = [0 for _ in range(10000)]\n",
    "y_true = act_pos + act_neg\n",
    "# define predictions\n",
    "pred_pos = [0 for _ in range(10)] + [1 for _ in range(90)]\n",
    "pred_neg = [0 for _ in range(10000)]\n",
    "y_pred = pred_pos + pred_neg\n",
    "# calculate recall\n",
    "recall = recall_score(y_true, y_pred, average='binary')\n",
    "print('Recall: %.3f' % recall)"
   ]
  },
  {
   "cell_type": "markdown",
   "metadata": {},
   "source": [
    "## Random Forest"
   ]
  },
  {
   "cell_type": "code",
   "execution_count": 53,
   "metadata": {},
   "outputs": [],
   "source": [
    "rf = RandomForestClassifier(random_state=4, oob_score=True)"
   ]
  },
  {
   "cell_type": "code",
   "execution_count": 105,
   "metadata": {
    "scrolled": true
   },
   "outputs": [
    {
     "name": "stdout",
     "output_type": "stream",
     "text": [
      "Fitting 5 folds for each of 45 candidates, totalling 225 fits\n",
      "[CV] max_depth=0, max_features=10, min_samples_leaf=1, n_estimators=100 \n",
      "[CV]  max_depth=0, max_features=10, min_samples_leaf=1, n_estimators=100, total=   0.1s\n",
      "[CV] max_depth=0, max_features=10, min_samples_leaf=1, n_estimators=100 \n",
      "[CV]  max_depth=0, max_features=10, min_samples_leaf=1, n_estimators=100, total=   0.1s\n",
      "[CV] max_depth=0, max_features=10, min_samples_leaf=1, n_estimators=100 \n"
     ]
    },
    {
     "name": "stderr",
     "output_type": "stream",
     "text": [
      "[Parallel(n_jobs=1)]: Using backend SequentialBackend with 1 concurrent workers.\n",
      "/Library/Frameworks/Python.framework/Versions/3.8/lib/python3.8/site-packages/sklearn/model_selection/_validation.py:532: FitFailedWarning: Estimator fit failed. The score on this train-test partition for these parameters will be set to nan. Details: \n",
      "ValueError: max_depth must be greater than zero. \n",
      "\n",
      "  warnings.warn(\"Estimator fit failed. The score on this train-test\"\n",
      "[Parallel(n_jobs=1)]: Done   1 out of   1 | elapsed:    0.1s remaining:    0.0s\n",
      "/Library/Frameworks/Python.framework/Versions/3.8/lib/python3.8/site-packages/sklearn/model_selection/_validation.py:532: FitFailedWarning: Estimator fit failed. The score on this train-test partition for these parameters will be set to nan. Details: \n",
      "ValueError: max_depth must be greater than zero. \n",
      "\n",
      "  warnings.warn(\"Estimator fit failed. The score on this train-test\"\n",
      "/Library/Frameworks/Python.framework/Versions/3.8/lib/python3.8/site-packages/sklearn/model_selection/_validation.py:532: FitFailedWarning: Estimator fit failed. The score on this train-test partition for these parameters will be set to nan. Details: \n",
      "ValueError: max_depth must be greater than zero. \n",
      "\n",
      "  warnings.warn(\"Estimator fit failed. The score on this train-test\"\n",
      "/Library/Frameworks/Python.framework/Versions/3.8/lib/python3.8/site-packages/sklearn/model_selection/_validation.py:532: FitFailedWarning: Estimator fit failed. The score on this train-test partition for these parameters will be set to nan. Details: \n",
      "ValueError: max_depth must be greater than zero. \n",
      "\n",
      "  warnings.warn(\"Estimator fit failed. The score on this train-test\"\n",
      "/Library/Frameworks/Python.framework/Versions/3.8/lib/python3.8/site-packages/sklearn/model_selection/_validation.py:532: FitFailedWarning: Estimator fit failed. The score on this train-test partition for these parameters will be set to nan. Details: \n",
      "ValueError: max_depth must be greater than zero. \n",
      "\n",
      "  warnings.warn(\"Estimator fit failed. The score on this train-test\"\n",
      "/Library/Frameworks/Python.framework/Versions/3.8/lib/python3.8/site-packages/sklearn/model_selection/_validation.py:532: FitFailedWarning: Estimator fit failed. The score on this train-test partition for these parameters will be set to nan. Details: \n",
      "ValueError: max_depth must be greater than zero. \n",
      "\n",
      "  warnings.warn(\"Estimator fit failed. The score on this train-test\"\n"
     ]
    },
    {
     "name": "stdout",
     "output_type": "stream",
     "text": [
      "[CV]  max_depth=0, max_features=10, min_samples_leaf=1, n_estimators=100, total=   0.1s\n",
      "[CV] max_depth=0, max_features=10, min_samples_leaf=1, n_estimators=100 \n",
      "[CV]  max_depth=0, max_features=10, min_samples_leaf=1, n_estimators=100, total=   0.1s\n",
      "[CV] max_depth=0, max_features=10, min_samples_leaf=1, n_estimators=100 \n",
      "[CV]  max_depth=0, max_features=10, min_samples_leaf=1, n_estimators=100, total=   0.0s\n",
      "[CV] max_depth=0, max_features=10, min_samples_leaf=3, n_estimators=100 \n",
      "[CV]  max_depth=0, max_features=10, min_samples_leaf=3, n_estimators=100, total=   0.0s\n",
      "[CV] max_depth=0, max_features=10, min_samples_leaf=3, n_estimators=100 \n"
     ]
    },
    {
     "name": "stderr",
     "output_type": "stream",
     "text": [
      "/Library/Frameworks/Python.framework/Versions/3.8/lib/python3.8/site-packages/sklearn/model_selection/_validation.py:532: FitFailedWarning: Estimator fit failed. The score on this train-test partition for these parameters will be set to nan. Details: \n",
      "ValueError: max_depth must be greater than zero. \n",
      "\n",
      "  warnings.warn(\"Estimator fit failed. The score on this train-test\"\n",
      "/Library/Frameworks/Python.framework/Versions/3.8/lib/python3.8/site-packages/sklearn/model_selection/_validation.py:532: FitFailedWarning: Estimator fit failed. The score on this train-test partition for these parameters will be set to nan. Details: \n",
      "ValueError: max_depth must be greater than zero. \n",
      "\n",
      "  warnings.warn(\"Estimator fit failed. The score on this train-test\"\n",
      "/Library/Frameworks/Python.framework/Versions/3.8/lib/python3.8/site-packages/sklearn/model_selection/_validation.py:532: FitFailedWarning: Estimator fit failed. The score on this train-test partition for these parameters will be set to nan. Details: \n",
      "ValueError: max_depth must be greater than zero. \n",
      "\n",
      "  warnings.warn(\"Estimator fit failed. The score on this train-test\"\n",
      "/Library/Frameworks/Python.framework/Versions/3.8/lib/python3.8/site-packages/sklearn/model_selection/_validation.py:532: FitFailedWarning: Estimator fit failed. The score on this train-test partition for these parameters will be set to nan. Details: \n",
      "ValueError: max_depth must be greater than zero. \n",
      "\n",
      "  warnings.warn(\"Estimator fit failed. The score on this train-test\"\n"
     ]
    },
    {
     "name": "stdout",
     "output_type": "stream",
     "text": [
      "[CV]  max_depth=0, max_features=10, min_samples_leaf=3, n_estimators=100, total=   0.1s\n",
      "[CV] max_depth=0, max_features=10, min_samples_leaf=3, n_estimators=100 \n",
      "[CV]  max_depth=0, max_features=10, min_samples_leaf=3, n_estimators=100, total=   0.1s\n",
      "[CV] max_depth=0, max_features=10, min_samples_leaf=3, n_estimators=100 \n",
      "[CV]  max_depth=0, max_features=10, min_samples_leaf=3, n_estimators=100, total=   0.1s\n",
      "[CV] max_depth=0, max_features=10, min_samples_leaf=3, n_estimators=100 \n",
      "[CV]  max_depth=0, max_features=10, min_samples_leaf=3, n_estimators=100, total=   0.0s\n",
      "[CV] max_depth=0, max_features=10, min_samples_leaf=5, n_estimators=100 \n"
     ]
    },
    {
     "name": "stderr",
     "output_type": "stream",
     "text": [
      "/Library/Frameworks/Python.framework/Versions/3.8/lib/python3.8/site-packages/sklearn/model_selection/_validation.py:532: FitFailedWarning: Estimator fit failed. The score on this train-test partition for these parameters will be set to nan. Details: \n",
      "ValueError: max_depth must be greater than zero. \n",
      "\n",
      "  warnings.warn(\"Estimator fit failed. The score on this train-test\"\n",
      "/Library/Frameworks/Python.framework/Versions/3.8/lib/python3.8/site-packages/sklearn/model_selection/_validation.py:532: FitFailedWarning: Estimator fit failed. The score on this train-test partition for these parameters will be set to nan. Details: \n",
      "ValueError: max_depth must be greater than zero. \n",
      "\n",
      "  warnings.warn(\"Estimator fit failed. The score on this train-test\"\n",
      "/Library/Frameworks/Python.framework/Versions/3.8/lib/python3.8/site-packages/sklearn/model_selection/_validation.py:532: FitFailedWarning: Estimator fit failed. The score on this train-test partition for these parameters will be set to nan. Details: \n",
      "ValueError: max_depth must be greater than zero. \n",
      "\n",
      "  warnings.warn(\"Estimator fit failed. The score on this train-test\"\n",
      "/Library/Frameworks/Python.framework/Versions/3.8/lib/python3.8/site-packages/sklearn/model_selection/_validation.py:532: FitFailedWarning: Estimator fit failed. The score on this train-test partition for these parameters will be set to nan. Details: \n",
      "ValueError: max_depth must be greater than zero. \n",
      "\n",
      "  warnings.warn(\"Estimator fit failed. The score on this train-test\"\n"
     ]
    },
    {
     "name": "stdout",
     "output_type": "stream",
     "text": [
      "[CV]  max_depth=0, max_features=10, min_samples_leaf=5, n_estimators=100, total=   0.1s\n",
      "[CV] max_depth=0, max_features=10, min_samples_leaf=5, n_estimators=100 \n",
      "[CV]  max_depth=0, max_features=10, min_samples_leaf=5, n_estimators=100, total=   0.1s\n",
      "[CV] max_depth=0, max_features=10, min_samples_leaf=5, n_estimators=100 \n",
      "[CV]  max_depth=0, max_features=10, min_samples_leaf=5, n_estimators=100, total=   0.0s\n",
      "[CV] max_depth=0, max_features=10, min_samples_leaf=5, n_estimators=100 \n",
      "[CV]  max_depth=0, max_features=10, min_samples_leaf=5, n_estimators=100, total=   0.0s\n",
      "[CV] max_depth=0, max_features=10, min_samples_leaf=5, n_estimators=100 \n"
     ]
    },
    {
     "name": "stderr",
     "output_type": "stream",
     "text": [
      "/Library/Frameworks/Python.framework/Versions/3.8/lib/python3.8/site-packages/sklearn/model_selection/_validation.py:532: FitFailedWarning: Estimator fit failed. The score on this train-test partition for these parameters will be set to nan. Details: \n",
      "ValueError: max_depth must be greater than zero. \n",
      "\n",
      "  warnings.warn(\"Estimator fit failed. The score on this train-test\"\n",
      "/Library/Frameworks/Python.framework/Versions/3.8/lib/python3.8/site-packages/sklearn/model_selection/_validation.py:532: FitFailedWarning: Estimator fit failed. The score on this train-test partition for these parameters will be set to nan. Details: \n",
      "ValueError: max_depth must be greater than zero. \n",
      "\n",
      "  warnings.warn(\"Estimator fit failed. The score on this train-test\"\n",
      "/Library/Frameworks/Python.framework/Versions/3.8/lib/python3.8/site-packages/sklearn/model_selection/_validation.py:532: FitFailedWarning: Estimator fit failed. The score on this train-test partition for these parameters will be set to nan. Details: \n",
      "ValueError: max_depth must be greater than zero. \n",
      "\n",
      "  warnings.warn(\"Estimator fit failed. The score on this train-test\"\n",
      "/Library/Frameworks/Python.framework/Versions/3.8/lib/python3.8/site-packages/sklearn/model_selection/_validation.py:532: FitFailedWarning: Estimator fit failed. The score on this train-test partition for these parameters will be set to nan. Details: \n",
      "ValueError: max_depth must be greater than zero. \n",
      "\n",
      "  warnings.warn(\"Estimator fit failed. The score on this train-test\"\n"
     ]
    },
    {
     "name": "stdout",
     "output_type": "stream",
     "text": [
      "[CV]  max_depth=0, max_features=10, min_samples_leaf=5, n_estimators=100, total=   0.1s\n",
      "[CV] max_depth=0, max_features=10, min_samples_leaf=7, n_estimators=100 \n",
      "[CV]  max_depth=0, max_features=10, min_samples_leaf=7, n_estimators=100, total=   0.1s\n",
      "[CV] max_depth=0, max_features=10, min_samples_leaf=7, n_estimators=100 \n",
      "[CV]  max_depth=0, max_features=10, min_samples_leaf=7, n_estimators=100, total=   0.1s\n",
      "[CV] max_depth=0, max_features=10, min_samples_leaf=7, n_estimators=100 \n",
      "[CV]  max_depth=0, max_features=10, min_samples_leaf=7, n_estimators=100, total=   0.1s\n",
      "[CV] max_depth=0, max_features=10, min_samples_leaf=7, n_estimators=100 \n"
     ]
    },
    {
     "name": "stderr",
     "output_type": "stream",
     "text": [
      "/Library/Frameworks/Python.framework/Versions/3.8/lib/python3.8/site-packages/sklearn/model_selection/_validation.py:532: FitFailedWarning: Estimator fit failed. The score on this train-test partition for these parameters will be set to nan. Details: \n",
      "ValueError: max_depth must be greater than zero. \n",
      "\n",
      "  warnings.warn(\"Estimator fit failed. The score on this train-test\"\n",
      "/Library/Frameworks/Python.framework/Versions/3.8/lib/python3.8/site-packages/sklearn/model_selection/_validation.py:532: FitFailedWarning: Estimator fit failed. The score on this train-test partition for these parameters will be set to nan. Details: \n",
      "ValueError: max_depth must be greater than zero. \n",
      "\n",
      "  warnings.warn(\"Estimator fit failed. The score on this train-test\"\n",
      "/Library/Frameworks/Python.framework/Versions/3.8/lib/python3.8/site-packages/sklearn/model_selection/_validation.py:532: FitFailedWarning: Estimator fit failed. The score on this train-test partition for these parameters will be set to nan. Details: \n",
      "ValueError: max_depth must be greater than zero. \n",
      "\n",
      "  warnings.warn(\"Estimator fit failed. The score on this train-test\"\n",
      "/Library/Frameworks/Python.framework/Versions/3.8/lib/python3.8/site-packages/sklearn/model_selection/_validation.py:532: FitFailedWarning: Estimator fit failed. The score on this train-test partition for these parameters will be set to nan. Details: \n",
      "ValueError: max_depth must be greater than zero. \n",
      "\n",
      "  warnings.warn(\"Estimator fit failed. The score on this train-test\"\n"
     ]
    },
    {
     "name": "stdout",
     "output_type": "stream",
     "text": [
      "[CV]  max_depth=0, max_features=10, min_samples_leaf=7, n_estimators=100, total=   0.1s\n",
      "[CV] max_depth=0, max_features=10, min_samples_leaf=7, n_estimators=100 \n",
      "[CV]  max_depth=0, max_features=10, min_samples_leaf=7, n_estimators=100, total=   0.1s\n",
      "[CV] max_depth=0, max_features=10, min_samples_leaf=9, n_estimators=100 \n",
      "[CV]  max_depth=0, max_features=10, min_samples_leaf=9, n_estimators=100, total=   0.1s\n",
      "[CV] max_depth=0, max_features=10, min_samples_leaf=9, n_estimators=100 \n",
      "[CV]  max_depth=0, max_features=10, min_samples_leaf=9, n_estimators=100, total=   0.1s\n",
      "[CV] max_depth=0, max_features=10, min_samples_leaf=9, n_estimators=100 \n"
     ]
    },
    {
     "name": "stderr",
     "output_type": "stream",
     "text": [
      "/Library/Frameworks/Python.framework/Versions/3.8/lib/python3.8/site-packages/sklearn/model_selection/_validation.py:532: FitFailedWarning: Estimator fit failed. The score on this train-test partition for these parameters will be set to nan. Details: \n",
      "ValueError: max_depth must be greater than zero. \n",
      "\n",
      "  warnings.warn(\"Estimator fit failed. The score on this train-test\"\n",
      "/Library/Frameworks/Python.framework/Versions/3.8/lib/python3.8/site-packages/sklearn/model_selection/_validation.py:532: FitFailedWarning: Estimator fit failed. The score on this train-test partition for these parameters will be set to nan. Details: \n",
      "ValueError: max_depth must be greater than zero. \n",
      "\n",
      "  warnings.warn(\"Estimator fit failed. The score on this train-test\"\n",
      "/Library/Frameworks/Python.framework/Versions/3.8/lib/python3.8/site-packages/sklearn/model_selection/_validation.py:532: FitFailedWarning: Estimator fit failed. The score on this train-test partition for these parameters will be set to nan. Details: \n",
      "ValueError: max_depth must be greater than zero. \n",
      "\n",
      "  warnings.warn(\"Estimator fit failed. The score on this train-test\"\n",
      "/Library/Frameworks/Python.framework/Versions/3.8/lib/python3.8/site-packages/sklearn/model_selection/_validation.py:532: FitFailedWarning: Estimator fit failed. The score on this train-test partition for these parameters will be set to nan. Details: \n",
      "ValueError: max_depth must be greater than zero. \n",
      "\n",
      "  warnings.warn(\"Estimator fit failed. The score on this train-test\"\n"
     ]
    },
    {
     "name": "stdout",
     "output_type": "stream",
     "text": [
      "[CV]  max_depth=0, max_features=10, min_samples_leaf=9, n_estimators=100, total=   0.1s\n",
      "[CV] max_depth=0, max_features=10, min_samples_leaf=9, n_estimators=100 \n",
      "[CV]  max_depth=0, max_features=10, min_samples_leaf=9, n_estimators=100, total=   0.1s\n",
      "[CV] max_depth=0, max_features=10, min_samples_leaf=9, n_estimators=100 \n",
      "[CV]  max_depth=0, max_features=10, min_samples_leaf=9, n_estimators=100, total=   0.1s\n",
      "[CV] max_depth=0, max_features=20, min_samples_leaf=1, n_estimators=100 \n",
      "[CV]  max_depth=0, max_features=20, min_samples_leaf=1, n_estimators=100, total=   0.1s\n",
      "[CV] max_depth=0, max_features=20, min_samples_leaf=1, n_estimators=100 \n"
     ]
    },
    {
     "name": "stderr",
     "output_type": "stream",
     "text": [
      "/Library/Frameworks/Python.framework/Versions/3.8/lib/python3.8/site-packages/sklearn/model_selection/_validation.py:532: FitFailedWarning: Estimator fit failed. The score on this train-test partition for these parameters will be set to nan. Details: \n",
      "ValueError: max_depth must be greater than zero. \n",
      "\n",
      "  warnings.warn(\"Estimator fit failed. The score on this train-test\"\n"
     ]
    },
    {
     "name": "stdout",
     "output_type": "stream",
     "text": [
      "[CV]  max_depth=0, max_features=20, min_samples_leaf=1, n_estimators=100, total=   0.1s\n",
      "[CV] max_depth=0, max_features=20, min_samples_leaf=1, n_estimators=100 \n"
     ]
    },
    {
     "ename": "KeyboardInterrupt",
     "evalue": "",
     "output_type": "error",
     "traceback": [
      "\u001b[0;31m---------------------------------------------------------------------------\u001b[0m",
      "\u001b[0;31mKeyboardInterrupt\u001b[0m                         Traceback (most recent call last)",
      "\u001b[0;32m<timed eval>\u001b[0m in \u001b[0;36m<module>\u001b[0;34m\u001b[0m\n",
      "\u001b[0;32m/Library/Frameworks/Python.framework/Versions/3.8/lib/python3.8/site-packages/sklearn/model_selection/_search.py\u001b[0m in \u001b[0;36mfit\u001b[0;34m(self, X, y, groups, **fit_params)\u001b[0m\n\u001b[1;32m    708\u001b[0m                 \u001b[0;32mreturn\u001b[0m \u001b[0mresults\u001b[0m\u001b[0;34m\u001b[0m\u001b[0;34m\u001b[0m\u001b[0m\n\u001b[1;32m    709\u001b[0m \u001b[0;34m\u001b[0m\u001b[0m\n\u001b[0;32m--> 710\u001b[0;31m             \u001b[0mself\u001b[0m\u001b[0;34m.\u001b[0m\u001b[0m_run_search\u001b[0m\u001b[0;34m(\u001b[0m\u001b[0mevaluate_candidates\u001b[0m\u001b[0;34m)\u001b[0m\u001b[0;34m\u001b[0m\u001b[0;34m\u001b[0m\u001b[0m\n\u001b[0m\u001b[1;32m    711\u001b[0m \u001b[0;34m\u001b[0m\u001b[0m\n\u001b[1;32m    712\u001b[0m         \u001b[0;31m# For multi-metric evaluation, store the best_index_, best_params_ and\u001b[0m\u001b[0;34m\u001b[0m\u001b[0;34m\u001b[0m\u001b[0;34m\u001b[0m\u001b[0m\n",
      "\u001b[0;32m/Library/Frameworks/Python.framework/Versions/3.8/lib/python3.8/site-packages/sklearn/model_selection/_search.py\u001b[0m in \u001b[0;36m_run_search\u001b[0;34m(self, evaluate_candidates)\u001b[0m\n\u001b[1;32m   1149\u001b[0m     \u001b[0;32mdef\u001b[0m \u001b[0m_run_search\u001b[0m\u001b[0;34m(\u001b[0m\u001b[0mself\u001b[0m\u001b[0;34m,\u001b[0m \u001b[0mevaluate_candidates\u001b[0m\u001b[0;34m)\u001b[0m\u001b[0;34m:\u001b[0m\u001b[0;34m\u001b[0m\u001b[0;34m\u001b[0m\u001b[0m\n\u001b[1;32m   1150\u001b[0m         \u001b[0;34m\"\"\"Search all candidates in param_grid\"\"\"\u001b[0m\u001b[0;34m\u001b[0m\u001b[0;34m\u001b[0m\u001b[0m\n\u001b[0;32m-> 1151\u001b[0;31m         \u001b[0mevaluate_candidates\u001b[0m\u001b[0;34m(\u001b[0m\u001b[0mParameterGrid\u001b[0m\u001b[0;34m(\u001b[0m\u001b[0mself\u001b[0m\u001b[0;34m.\u001b[0m\u001b[0mparam_grid\u001b[0m\u001b[0;34m)\u001b[0m\u001b[0;34m)\u001b[0m\u001b[0;34m\u001b[0m\u001b[0;34m\u001b[0m\u001b[0m\n\u001b[0m\u001b[1;32m   1152\u001b[0m \u001b[0;34m\u001b[0m\u001b[0m\n\u001b[1;32m   1153\u001b[0m \u001b[0;34m\u001b[0m\u001b[0m\n",
      "\u001b[0;32m/Library/Frameworks/Python.framework/Versions/3.8/lib/python3.8/site-packages/sklearn/model_selection/_search.py\u001b[0m in \u001b[0;36mevaluate_candidates\u001b[0;34m(candidate_params)\u001b[0m\n\u001b[1;32m    680\u001b[0m                               n_splits, n_candidates, n_candidates * n_splits))\n\u001b[1;32m    681\u001b[0m \u001b[0;34m\u001b[0m\u001b[0m\n\u001b[0;32m--> 682\u001b[0;31m                 out = parallel(delayed(_fit_and_score)(clone(base_estimator),\n\u001b[0m\u001b[1;32m    683\u001b[0m                                                        \u001b[0mX\u001b[0m\u001b[0;34m,\u001b[0m \u001b[0my\u001b[0m\u001b[0;34m,\u001b[0m\u001b[0;34m\u001b[0m\u001b[0;34m\u001b[0m\u001b[0m\n\u001b[1;32m    684\u001b[0m                                                        \u001b[0mtrain\u001b[0m\u001b[0;34m=\u001b[0m\u001b[0mtrain\u001b[0m\u001b[0;34m,\u001b[0m \u001b[0mtest\u001b[0m\u001b[0;34m=\u001b[0m\u001b[0mtest\u001b[0m\u001b[0;34m,\u001b[0m\u001b[0;34m\u001b[0m\u001b[0;34m\u001b[0m\u001b[0m\n",
      "\u001b[0;32m/Library/Frameworks/Python.framework/Versions/3.8/lib/python3.8/site-packages/joblib/parallel.py\u001b[0m in \u001b[0;36m__call__\u001b[0;34m(self, iterable)\u001b[0m\n\u001b[1;32m   1005\u001b[0m                 \u001b[0mself\u001b[0m\u001b[0;34m.\u001b[0m\u001b[0m_iterating\u001b[0m \u001b[0;34m=\u001b[0m \u001b[0mself\u001b[0m\u001b[0;34m.\u001b[0m\u001b[0m_original_iterator\u001b[0m \u001b[0;32mis\u001b[0m \u001b[0;32mnot\u001b[0m \u001b[0;32mNone\u001b[0m\u001b[0;34m\u001b[0m\u001b[0;34m\u001b[0m\u001b[0m\n\u001b[1;32m   1006\u001b[0m \u001b[0;34m\u001b[0m\u001b[0m\n\u001b[0;32m-> 1007\u001b[0;31m             \u001b[0;32mwhile\u001b[0m \u001b[0mself\u001b[0m\u001b[0;34m.\u001b[0m\u001b[0mdispatch_one_batch\u001b[0m\u001b[0;34m(\u001b[0m\u001b[0miterator\u001b[0m\u001b[0;34m)\u001b[0m\u001b[0;34m:\u001b[0m\u001b[0;34m\u001b[0m\u001b[0;34m\u001b[0m\u001b[0m\n\u001b[0m\u001b[1;32m   1008\u001b[0m                 \u001b[0;32mpass\u001b[0m\u001b[0;34m\u001b[0m\u001b[0;34m\u001b[0m\u001b[0m\n\u001b[1;32m   1009\u001b[0m \u001b[0;34m\u001b[0m\u001b[0m\n",
      "\u001b[0;32m/Library/Frameworks/Python.framework/Versions/3.8/lib/python3.8/site-packages/joblib/parallel.py\u001b[0m in \u001b[0;36mdispatch_one_batch\u001b[0;34m(self, iterator)\u001b[0m\n\u001b[1;32m    833\u001b[0m                 \u001b[0;32mreturn\u001b[0m \u001b[0;32mFalse\u001b[0m\u001b[0;34m\u001b[0m\u001b[0;34m\u001b[0m\u001b[0m\n\u001b[1;32m    834\u001b[0m             \u001b[0;32melse\u001b[0m\u001b[0;34m:\u001b[0m\u001b[0;34m\u001b[0m\u001b[0;34m\u001b[0m\u001b[0m\n\u001b[0;32m--> 835\u001b[0;31m                 \u001b[0mself\u001b[0m\u001b[0;34m.\u001b[0m\u001b[0m_dispatch\u001b[0m\u001b[0;34m(\u001b[0m\u001b[0mtasks\u001b[0m\u001b[0;34m)\u001b[0m\u001b[0;34m\u001b[0m\u001b[0;34m\u001b[0m\u001b[0m\n\u001b[0m\u001b[1;32m    836\u001b[0m                 \u001b[0;32mreturn\u001b[0m \u001b[0;32mTrue\u001b[0m\u001b[0;34m\u001b[0m\u001b[0;34m\u001b[0m\u001b[0m\n\u001b[1;32m    837\u001b[0m \u001b[0;34m\u001b[0m\u001b[0m\n",
      "\u001b[0;32m/Library/Frameworks/Python.framework/Versions/3.8/lib/python3.8/site-packages/joblib/parallel.py\u001b[0m in \u001b[0;36m_dispatch\u001b[0;34m(self, batch)\u001b[0m\n\u001b[1;32m    752\u001b[0m         \u001b[0;32mwith\u001b[0m \u001b[0mself\u001b[0m\u001b[0;34m.\u001b[0m\u001b[0m_lock\u001b[0m\u001b[0;34m:\u001b[0m\u001b[0;34m\u001b[0m\u001b[0;34m\u001b[0m\u001b[0m\n\u001b[1;32m    753\u001b[0m             \u001b[0mjob_idx\u001b[0m \u001b[0;34m=\u001b[0m \u001b[0mlen\u001b[0m\u001b[0;34m(\u001b[0m\u001b[0mself\u001b[0m\u001b[0;34m.\u001b[0m\u001b[0m_jobs\u001b[0m\u001b[0;34m)\u001b[0m\u001b[0;34m\u001b[0m\u001b[0;34m\u001b[0m\u001b[0m\n\u001b[0;32m--> 754\u001b[0;31m             \u001b[0mjob\u001b[0m \u001b[0;34m=\u001b[0m \u001b[0mself\u001b[0m\u001b[0;34m.\u001b[0m\u001b[0m_backend\u001b[0m\u001b[0;34m.\u001b[0m\u001b[0mapply_async\u001b[0m\u001b[0;34m(\u001b[0m\u001b[0mbatch\u001b[0m\u001b[0;34m,\u001b[0m \u001b[0mcallback\u001b[0m\u001b[0;34m=\u001b[0m\u001b[0mcb\u001b[0m\u001b[0;34m)\u001b[0m\u001b[0;34m\u001b[0m\u001b[0;34m\u001b[0m\u001b[0m\n\u001b[0m\u001b[1;32m    755\u001b[0m             \u001b[0;31m# A job can complete so quickly than its callback is\u001b[0m\u001b[0;34m\u001b[0m\u001b[0;34m\u001b[0m\u001b[0;34m\u001b[0m\u001b[0m\n\u001b[1;32m    756\u001b[0m             \u001b[0;31m# called before we get here, causing self._jobs to\u001b[0m\u001b[0;34m\u001b[0m\u001b[0;34m\u001b[0m\u001b[0;34m\u001b[0m\u001b[0m\n",
      "\u001b[0;32m/Library/Frameworks/Python.framework/Versions/3.8/lib/python3.8/site-packages/joblib/_parallel_backends.py\u001b[0m in \u001b[0;36mapply_async\u001b[0;34m(self, func, callback)\u001b[0m\n\u001b[1;32m    207\u001b[0m     \u001b[0;32mdef\u001b[0m \u001b[0mapply_async\u001b[0m\u001b[0;34m(\u001b[0m\u001b[0mself\u001b[0m\u001b[0;34m,\u001b[0m \u001b[0mfunc\u001b[0m\u001b[0;34m,\u001b[0m \u001b[0mcallback\u001b[0m\u001b[0;34m=\u001b[0m\u001b[0;32mNone\u001b[0m\u001b[0;34m)\u001b[0m\u001b[0;34m:\u001b[0m\u001b[0;34m\u001b[0m\u001b[0;34m\u001b[0m\u001b[0m\n\u001b[1;32m    208\u001b[0m         \u001b[0;34m\"\"\"Schedule a func to be run\"\"\"\u001b[0m\u001b[0;34m\u001b[0m\u001b[0;34m\u001b[0m\u001b[0m\n\u001b[0;32m--> 209\u001b[0;31m         \u001b[0mresult\u001b[0m \u001b[0;34m=\u001b[0m \u001b[0mImmediateResult\u001b[0m\u001b[0;34m(\u001b[0m\u001b[0mfunc\u001b[0m\u001b[0;34m)\u001b[0m\u001b[0;34m\u001b[0m\u001b[0;34m\u001b[0m\u001b[0m\n\u001b[0m\u001b[1;32m    210\u001b[0m         \u001b[0;32mif\u001b[0m \u001b[0mcallback\u001b[0m\u001b[0;34m:\u001b[0m\u001b[0;34m\u001b[0m\u001b[0;34m\u001b[0m\u001b[0m\n\u001b[1;32m    211\u001b[0m             \u001b[0mcallback\u001b[0m\u001b[0;34m(\u001b[0m\u001b[0mresult\u001b[0m\u001b[0;34m)\u001b[0m\u001b[0;34m\u001b[0m\u001b[0;34m\u001b[0m\u001b[0m\n",
      "\u001b[0;32m/Library/Frameworks/Python.framework/Versions/3.8/lib/python3.8/site-packages/joblib/_parallel_backends.py\u001b[0m in \u001b[0;36m__init__\u001b[0;34m(self, batch)\u001b[0m\n\u001b[1;32m    588\u001b[0m         \u001b[0;31m# Don't delay the application, to avoid keeping the input\u001b[0m\u001b[0;34m\u001b[0m\u001b[0;34m\u001b[0m\u001b[0;34m\u001b[0m\u001b[0m\n\u001b[1;32m    589\u001b[0m         \u001b[0;31m# arguments in memory\u001b[0m\u001b[0;34m\u001b[0m\u001b[0;34m\u001b[0m\u001b[0;34m\u001b[0m\u001b[0m\n\u001b[0;32m--> 590\u001b[0;31m         \u001b[0mself\u001b[0m\u001b[0;34m.\u001b[0m\u001b[0mresults\u001b[0m \u001b[0;34m=\u001b[0m \u001b[0mbatch\u001b[0m\u001b[0;34m(\u001b[0m\u001b[0;34m)\u001b[0m\u001b[0;34m\u001b[0m\u001b[0;34m\u001b[0m\u001b[0m\n\u001b[0m\u001b[1;32m    591\u001b[0m \u001b[0;34m\u001b[0m\u001b[0m\n\u001b[1;32m    592\u001b[0m     \u001b[0;32mdef\u001b[0m \u001b[0mget\u001b[0m\u001b[0;34m(\u001b[0m\u001b[0mself\u001b[0m\u001b[0;34m)\u001b[0m\u001b[0;34m:\u001b[0m\u001b[0;34m\u001b[0m\u001b[0;34m\u001b[0m\u001b[0m\n",
      "\u001b[0;32m/Library/Frameworks/Python.framework/Versions/3.8/lib/python3.8/site-packages/joblib/parallel.py\u001b[0m in \u001b[0;36m__call__\u001b[0;34m(self)\u001b[0m\n\u001b[1;32m    253\u001b[0m         \u001b[0;31m# change the default number of processes to -1\u001b[0m\u001b[0;34m\u001b[0m\u001b[0;34m\u001b[0m\u001b[0;34m\u001b[0m\u001b[0m\n\u001b[1;32m    254\u001b[0m         \u001b[0;32mwith\u001b[0m \u001b[0mparallel_backend\u001b[0m\u001b[0;34m(\u001b[0m\u001b[0mself\u001b[0m\u001b[0;34m.\u001b[0m\u001b[0m_backend\u001b[0m\u001b[0;34m,\u001b[0m \u001b[0mn_jobs\u001b[0m\u001b[0;34m=\u001b[0m\u001b[0mself\u001b[0m\u001b[0;34m.\u001b[0m\u001b[0m_n_jobs\u001b[0m\u001b[0;34m)\u001b[0m\u001b[0;34m:\u001b[0m\u001b[0;34m\u001b[0m\u001b[0;34m\u001b[0m\u001b[0m\n\u001b[0;32m--> 255\u001b[0;31m             return [func(*args, **kwargs)\n\u001b[0m\u001b[1;32m    256\u001b[0m                     for func, args, kwargs in self.items]\n\u001b[1;32m    257\u001b[0m \u001b[0;34m\u001b[0m\u001b[0m\n",
      "\u001b[0;32m/Library/Frameworks/Python.framework/Versions/3.8/lib/python3.8/site-packages/joblib/parallel.py\u001b[0m in \u001b[0;36m<listcomp>\u001b[0;34m(.0)\u001b[0m\n\u001b[1;32m    253\u001b[0m         \u001b[0;31m# change the default number of processes to -1\u001b[0m\u001b[0;34m\u001b[0m\u001b[0;34m\u001b[0m\u001b[0;34m\u001b[0m\u001b[0m\n\u001b[1;32m    254\u001b[0m         \u001b[0;32mwith\u001b[0m \u001b[0mparallel_backend\u001b[0m\u001b[0;34m(\u001b[0m\u001b[0mself\u001b[0m\u001b[0;34m.\u001b[0m\u001b[0m_backend\u001b[0m\u001b[0;34m,\u001b[0m \u001b[0mn_jobs\u001b[0m\u001b[0;34m=\u001b[0m\u001b[0mself\u001b[0m\u001b[0;34m.\u001b[0m\u001b[0m_n_jobs\u001b[0m\u001b[0;34m)\u001b[0m\u001b[0;34m:\u001b[0m\u001b[0;34m\u001b[0m\u001b[0;34m\u001b[0m\u001b[0m\n\u001b[0;32m--> 255\u001b[0;31m             return [func(*args, **kwargs)\n\u001b[0m\u001b[1;32m    256\u001b[0m                     for func, args, kwargs in self.items]\n\u001b[1;32m    257\u001b[0m \u001b[0;34m\u001b[0m\u001b[0m\n",
      "\u001b[0;32m/Library/Frameworks/Python.framework/Versions/3.8/lib/python3.8/site-packages/sklearn/model_selection/_validation.py\u001b[0m in \u001b[0;36m_fit_and_score\u001b[0;34m(estimator, X, y, scorer, train, test, verbose, parameters, fit_params, return_train_score, return_parameters, return_n_test_samples, return_times, return_estimator, error_score)\u001b[0m\n\u001b[1;32m    513\u001b[0m             \u001b[0mestimator\u001b[0m\u001b[0;34m.\u001b[0m\u001b[0mfit\u001b[0m\u001b[0;34m(\u001b[0m\u001b[0mX_train\u001b[0m\u001b[0;34m,\u001b[0m \u001b[0;34m**\u001b[0m\u001b[0mfit_params\u001b[0m\u001b[0;34m)\u001b[0m\u001b[0;34m\u001b[0m\u001b[0;34m\u001b[0m\u001b[0m\n\u001b[1;32m    514\u001b[0m         \u001b[0;32melse\u001b[0m\u001b[0;34m:\u001b[0m\u001b[0;34m\u001b[0m\u001b[0;34m\u001b[0m\u001b[0m\n\u001b[0;32m--> 515\u001b[0;31m             \u001b[0mestimator\u001b[0m\u001b[0;34m.\u001b[0m\u001b[0mfit\u001b[0m\u001b[0;34m(\u001b[0m\u001b[0mX_train\u001b[0m\u001b[0;34m,\u001b[0m \u001b[0my_train\u001b[0m\u001b[0;34m,\u001b[0m \u001b[0;34m**\u001b[0m\u001b[0mfit_params\u001b[0m\u001b[0;34m)\u001b[0m\u001b[0;34m\u001b[0m\u001b[0;34m\u001b[0m\u001b[0m\n\u001b[0m\u001b[1;32m    516\u001b[0m \u001b[0;34m\u001b[0m\u001b[0m\n\u001b[1;32m    517\u001b[0m     \u001b[0;32mexcept\u001b[0m \u001b[0mException\u001b[0m \u001b[0;32mas\u001b[0m \u001b[0me\u001b[0m\u001b[0;34m:\u001b[0m\u001b[0;34m\u001b[0m\u001b[0;34m\u001b[0m\u001b[0m\n",
      "\u001b[0;32m/Library/Frameworks/Python.framework/Versions/3.8/lib/python3.8/site-packages/sklearn/ensemble/_forest.py\u001b[0m in \u001b[0;36mfit\u001b[0;34m(self, X, y, sample_weight)\u001b[0m\n\u001b[1;32m    365\u001b[0m                 \u001b[0mrandom_state\u001b[0m\u001b[0;34m.\u001b[0m\u001b[0mrandint\u001b[0m\u001b[0;34m(\u001b[0m\u001b[0mMAX_INT\u001b[0m\u001b[0;34m,\u001b[0m \u001b[0msize\u001b[0m\u001b[0;34m=\u001b[0m\u001b[0mlen\u001b[0m\u001b[0;34m(\u001b[0m\u001b[0mself\u001b[0m\u001b[0;34m.\u001b[0m\u001b[0mestimators_\u001b[0m\u001b[0;34m)\u001b[0m\u001b[0;34m)\u001b[0m\u001b[0;34m\u001b[0m\u001b[0;34m\u001b[0m\u001b[0m\n\u001b[1;32m    366\u001b[0m \u001b[0;34m\u001b[0m\u001b[0m\n\u001b[0;32m--> 367\u001b[0;31m             trees = [self._make_estimator(append=False,\n\u001b[0m\u001b[1;32m    368\u001b[0m                                           random_state=random_state)\n\u001b[1;32m    369\u001b[0m                      for i in range(n_more_estimators)]\n",
      "\u001b[0;32m/Library/Frameworks/Python.framework/Versions/3.8/lib/python3.8/site-packages/sklearn/ensemble/_forest.py\u001b[0m in \u001b[0;36m<listcomp>\u001b[0;34m(.0)\u001b[0m\n\u001b[1;32m    365\u001b[0m                 \u001b[0mrandom_state\u001b[0m\u001b[0;34m.\u001b[0m\u001b[0mrandint\u001b[0m\u001b[0;34m(\u001b[0m\u001b[0mMAX_INT\u001b[0m\u001b[0;34m,\u001b[0m \u001b[0msize\u001b[0m\u001b[0;34m=\u001b[0m\u001b[0mlen\u001b[0m\u001b[0;34m(\u001b[0m\u001b[0mself\u001b[0m\u001b[0;34m.\u001b[0m\u001b[0mestimators_\u001b[0m\u001b[0;34m)\u001b[0m\u001b[0;34m)\u001b[0m\u001b[0;34m\u001b[0m\u001b[0;34m\u001b[0m\u001b[0m\n\u001b[1;32m    366\u001b[0m \u001b[0;34m\u001b[0m\u001b[0m\n\u001b[0;32m--> 367\u001b[0;31m             trees = [self._make_estimator(append=False,\n\u001b[0m\u001b[1;32m    368\u001b[0m                                           random_state=random_state)\n\u001b[1;32m    369\u001b[0m                      for i in range(n_more_estimators)]\n",
      "\u001b[0;32m/Library/Frameworks/Python.framework/Versions/3.8/lib/python3.8/site-packages/sklearn/ensemble/_base.py\u001b[0m in \u001b[0;36m_make_estimator\u001b[0;34m(self, append, random_state)\u001b[0m\n\u001b[1;32m    150\u001b[0m \u001b[0;34m\u001b[0m\u001b[0m\n\u001b[1;32m    151\u001b[0m         \u001b[0;32mif\u001b[0m \u001b[0mrandom_state\u001b[0m \u001b[0;32mis\u001b[0m \u001b[0;32mnot\u001b[0m \u001b[0;32mNone\u001b[0m\u001b[0;34m:\u001b[0m\u001b[0;34m\u001b[0m\u001b[0;34m\u001b[0m\u001b[0m\n\u001b[0;32m--> 152\u001b[0;31m             \u001b[0m_set_random_states\u001b[0m\u001b[0;34m(\u001b[0m\u001b[0mestimator\u001b[0m\u001b[0;34m,\u001b[0m \u001b[0mrandom_state\u001b[0m\u001b[0;34m)\u001b[0m\u001b[0;34m\u001b[0m\u001b[0;34m\u001b[0m\u001b[0m\n\u001b[0m\u001b[1;32m    153\u001b[0m \u001b[0;34m\u001b[0m\u001b[0m\n\u001b[1;32m    154\u001b[0m         \u001b[0;32mif\u001b[0m \u001b[0mappend\u001b[0m\u001b[0;34m:\u001b[0m\u001b[0;34m\u001b[0m\u001b[0;34m\u001b[0m\u001b[0m\n",
      "\u001b[0;32m/Library/Frameworks/Python.framework/Versions/3.8/lib/python3.8/site-packages/sklearn/ensemble/_base.py\u001b[0m in \u001b[0;36m_set_random_states\u001b[0;34m(estimator, random_state)\u001b[0m\n\u001b[1;32m     68\u001b[0m     \u001b[0mrandom_state\u001b[0m \u001b[0;34m=\u001b[0m \u001b[0mcheck_random_state\u001b[0m\u001b[0;34m(\u001b[0m\u001b[0mrandom_state\u001b[0m\u001b[0;34m)\u001b[0m\u001b[0;34m\u001b[0m\u001b[0;34m\u001b[0m\u001b[0m\n\u001b[1;32m     69\u001b[0m     \u001b[0mto_set\u001b[0m \u001b[0;34m=\u001b[0m \u001b[0;34m{\u001b[0m\u001b[0;34m}\u001b[0m\u001b[0;34m\u001b[0m\u001b[0;34m\u001b[0m\u001b[0m\n\u001b[0;32m---> 70\u001b[0;31m     \u001b[0;32mfor\u001b[0m \u001b[0mkey\u001b[0m \u001b[0;32min\u001b[0m \u001b[0msorted\u001b[0m\u001b[0;34m(\u001b[0m\u001b[0mestimator\u001b[0m\u001b[0;34m.\u001b[0m\u001b[0mget_params\u001b[0m\u001b[0;34m(\u001b[0m\u001b[0mdeep\u001b[0m\u001b[0;34m=\u001b[0m\u001b[0;32mTrue\u001b[0m\u001b[0;34m)\u001b[0m\u001b[0;34m)\u001b[0m\u001b[0;34m:\u001b[0m\u001b[0;34m\u001b[0m\u001b[0;34m\u001b[0m\u001b[0m\n\u001b[0m\u001b[1;32m     71\u001b[0m         \u001b[0;32mif\u001b[0m \u001b[0mkey\u001b[0m \u001b[0;34m==\u001b[0m \u001b[0;34m'random_state'\u001b[0m \u001b[0;32mor\u001b[0m \u001b[0mkey\u001b[0m\u001b[0;34m.\u001b[0m\u001b[0mendswith\u001b[0m\u001b[0;34m(\u001b[0m\u001b[0;34m'__random_state'\u001b[0m\u001b[0;34m)\u001b[0m\u001b[0;34m:\u001b[0m\u001b[0;34m\u001b[0m\u001b[0;34m\u001b[0m\u001b[0m\n\u001b[1;32m     72\u001b[0m             \u001b[0mto_set\u001b[0m\u001b[0;34m[\u001b[0m\u001b[0mkey\u001b[0m\u001b[0;34m]\u001b[0m \u001b[0;34m=\u001b[0m \u001b[0mrandom_state\u001b[0m\u001b[0;34m.\u001b[0m\u001b[0mrandint\u001b[0m\u001b[0;34m(\u001b[0m\u001b[0mnp\u001b[0m\u001b[0;34m.\u001b[0m\u001b[0miinfo\u001b[0m\u001b[0;34m(\u001b[0m\u001b[0mnp\u001b[0m\u001b[0;34m.\u001b[0m\u001b[0mint32\u001b[0m\u001b[0;34m)\u001b[0m\u001b[0;34m.\u001b[0m\u001b[0mmax\u001b[0m\u001b[0;34m)\u001b[0m\u001b[0;34m\u001b[0m\u001b[0;34m\u001b[0m\u001b[0m\n",
      "\u001b[0;32m/Library/Frameworks/Python.framework/Versions/3.8/lib/python3.8/site-packages/sklearn/base.py\u001b[0m in \u001b[0;36mget_params\u001b[0;34m(self, deep)\u001b[0m\n\u001b[1;32m    187\u001b[0m         \"\"\"\n\u001b[1;32m    188\u001b[0m         \u001b[0mout\u001b[0m \u001b[0;34m=\u001b[0m \u001b[0mdict\u001b[0m\u001b[0;34m(\u001b[0m\u001b[0;34m)\u001b[0m\u001b[0;34m\u001b[0m\u001b[0;34m\u001b[0m\u001b[0m\n\u001b[0;32m--> 189\u001b[0;31m         \u001b[0;32mfor\u001b[0m \u001b[0mkey\u001b[0m \u001b[0;32min\u001b[0m \u001b[0mself\u001b[0m\u001b[0;34m.\u001b[0m\u001b[0m_get_param_names\u001b[0m\u001b[0;34m(\u001b[0m\u001b[0;34m)\u001b[0m\u001b[0;34m:\u001b[0m\u001b[0;34m\u001b[0m\u001b[0;34m\u001b[0m\u001b[0m\n\u001b[0m\u001b[1;32m    190\u001b[0m             \u001b[0;32mtry\u001b[0m\u001b[0;34m:\u001b[0m\u001b[0;34m\u001b[0m\u001b[0;34m\u001b[0m\u001b[0m\n\u001b[1;32m    191\u001b[0m                 \u001b[0mvalue\u001b[0m \u001b[0;34m=\u001b[0m \u001b[0mgetattr\u001b[0m\u001b[0;34m(\u001b[0m\u001b[0mself\u001b[0m\u001b[0;34m,\u001b[0m \u001b[0mkey\u001b[0m\u001b[0;34m)\u001b[0m\u001b[0;34m\u001b[0m\u001b[0;34m\u001b[0m\u001b[0m\n",
      "\u001b[0;32m/Library/Frameworks/Python.framework/Versions/3.8/lib/python3.8/site-packages/sklearn/base.py\u001b[0m in \u001b[0;36m_get_param_names\u001b[0;34m(cls)\u001b[0m\n\u001b[1;32m    156\u001b[0m         \u001b[0;31m# introspect the constructor arguments to find the model parameters\u001b[0m\u001b[0;34m\u001b[0m\u001b[0;34m\u001b[0m\u001b[0;34m\u001b[0m\u001b[0m\n\u001b[1;32m    157\u001b[0m         \u001b[0;31m# to represent\u001b[0m\u001b[0;34m\u001b[0m\u001b[0;34m\u001b[0m\u001b[0;34m\u001b[0m\u001b[0m\n\u001b[0;32m--> 158\u001b[0;31m         \u001b[0minit_signature\u001b[0m \u001b[0;34m=\u001b[0m \u001b[0minspect\u001b[0m\u001b[0;34m.\u001b[0m\u001b[0msignature\u001b[0m\u001b[0;34m(\u001b[0m\u001b[0minit\u001b[0m\u001b[0;34m)\u001b[0m\u001b[0;34m\u001b[0m\u001b[0;34m\u001b[0m\u001b[0m\n\u001b[0m\u001b[1;32m    159\u001b[0m         \u001b[0;31m# Consider the constructor parameters excluding 'self'\u001b[0m\u001b[0;34m\u001b[0m\u001b[0;34m\u001b[0m\u001b[0;34m\u001b[0m\u001b[0m\n\u001b[1;32m    160\u001b[0m         parameters = [p for p in init_signature.parameters.values()\n",
      "\u001b[0;32m/Library/Frameworks/Python.framework/Versions/3.8/lib/python3.8/inspect.py\u001b[0m in \u001b[0;36msignature\u001b[0;34m(obj, follow_wrapped)\u001b[0m\n\u001b[1;32m   3091\u001b[0m \u001b[0;32mdef\u001b[0m \u001b[0msignature\u001b[0m\u001b[0;34m(\u001b[0m\u001b[0mobj\u001b[0m\u001b[0;34m,\u001b[0m \u001b[0;34m*\u001b[0m\u001b[0;34m,\u001b[0m \u001b[0mfollow_wrapped\u001b[0m\u001b[0;34m=\u001b[0m\u001b[0;32mTrue\u001b[0m\u001b[0;34m)\u001b[0m\u001b[0;34m:\u001b[0m\u001b[0;34m\u001b[0m\u001b[0;34m\u001b[0m\u001b[0m\n\u001b[1;32m   3092\u001b[0m     \u001b[0;34m\"\"\"Get a signature object for the passed callable.\"\"\"\u001b[0m\u001b[0;34m\u001b[0m\u001b[0;34m\u001b[0m\u001b[0m\n\u001b[0;32m-> 3093\u001b[0;31m     \u001b[0;32mreturn\u001b[0m \u001b[0mSignature\u001b[0m\u001b[0;34m.\u001b[0m\u001b[0mfrom_callable\u001b[0m\u001b[0;34m(\u001b[0m\u001b[0mobj\u001b[0m\u001b[0;34m,\u001b[0m \u001b[0mfollow_wrapped\u001b[0m\u001b[0;34m=\u001b[0m\u001b[0mfollow_wrapped\u001b[0m\u001b[0;34m)\u001b[0m\u001b[0;34m\u001b[0m\u001b[0;34m\u001b[0m\u001b[0m\n\u001b[0m\u001b[1;32m   3094\u001b[0m \u001b[0;34m\u001b[0m\u001b[0m\n\u001b[1;32m   3095\u001b[0m \u001b[0;34m\u001b[0m\u001b[0m\n",
      "\u001b[0;32m/Library/Frameworks/Python.framework/Versions/3.8/lib/python3.8/inspect.py\u001b[0m in \u001b[0;36mfrom_callable\u001b[0;34m(cls, obj, follow_wrapped)\u001b[0m\n\u001b[1;32m   2840\u001b[0m     \u001b[0;32mdef\u001b[0m \u001b[0mfrom_callable\u001b[0m\u001b[0;34m(\u001b[0m\u001b[0mcls\u001b[0m\u001b[0;34m,\u001b[0m \u001b[0mobj\u001b[0m\u001b[0;34m,\u001b[0m \u001b[0;34m*\u001b[0m\u001b[0;34m,\u001b[0m \u001b[0mfollow_wrapped\u001b[0m\u001b[0;34m=\u001b[0m\u001b[0;32mTrue\u001b[0m\u001b[0;34m)\u001b[0m\u001b[0;34m:\u001b[0m\u001b[0;34m\u001b[0m\u001b[0;34m\u001b[0m\u001b[0m\n\u001b[1;32m   2841\u001b[0m         \u001b[0;34m\"\"\"Constructs Signature for the given callable object.\"\"\"\u001b[0m\u001b[0;34m\u001b[0m\u001b[0;34m\u001b[0m\u001b[0m\n\u001b[0;32m-> 2842\u001b[0;31m         return _signature_from_callable(obj, sigcls=cls,\n\u001b[0m\u001b[1;32m   2843\u001b[0m                                         follow_wrapper_chains=follow_wrapped)\n\u001b[1;32m   2844\u001b[0m \u001b[0;34m\u001b[0m\u001b[0m\n",
      "\u001b[0;32m/Library/Frameworks/Python.framework/Versions/3.8/lib/python3.8/inspect.py\u001b[0m in \u001b[0;36m_signature_from_callable\u001b[0;34m(obj, follow_wrapper_chains, skip_bound_arg, sigcls)\u001b[0m\n\u001b[1;32m   2290\u001b[0m         \u001b[0;31m# If it's a pure Python function, or an object that is duck type\u001b[0m\u001b[0;34m\u001b[0m\u001b[0;34m\u001b[0m\u001b[0;34m\u001b[0m\u001b[0m\n\u001b[1;32m   2291\u001b[0m         \u001b[0;31m# of a Python function (Cython functions, for instance), then:\u001b[0m\u001b[0;34m\u001b[0m\u001b[0;34m\u001b[0m\u001b[0;34m\u001b[0m\u001b[0m\n\u001b[0;32m-> 2292\u001b[0;31m         return _signature_from_function(sigcls, obj,\n\u001b[0m\u001b[1;32m   2293\u001b[0m                                         skip_bound_arg=skip_bound_arg)\n\u001b[1;32m   2294\u001b[0m \u001b[0;34m\u001b[0m\u001b[0m\n",
      "\u001b[0;32m/Library/Frameworks/Python.framework/Versions/3.8/lib/python3.8/inspect.py\u001b[0m in \u001b[0;36m_signature_from_function\u001b[0;34m(cls, func, skip_bound_arg)\u001b[0m\n\u001b[1;32m   2160\u001b[0m \u001b[0;34m\u001b[0m\u001b[0m\n\u001b[1;32m   2161\u001b[0m     \u001b[0;31m# ... w/ defaults.\u001b[0m\u001b[0;34m\u001b[0m\u001b[0;34m\u001b[0m\u001b[0;34m\u001b[0m\u001b[0m\n\u001b[0;32m-> 2162\u001b[0;31m     \u001b[0;32mfor\u001b[0m \u001b[0moffset\u001b[0m\u001b[0;34m,\u001b[0m \u001b[0mname\u001b[0m \u001b[0;32min\u001b[0m \u001b[0menumerate\u001b[0m\u001b[0;34m(\u001b[0m\u001b[0mpositional\u001b[0m\u001b[0;34m[\u001b[0m\u001b[0mnon_default_count\u001b[0m\u001b[0;34m:\u001b[0m\u001b[0;34m]\u001b[0m\u001b[0;34m)\u001b[0m\u001b[0;34m:\u001b[0m\u001b[0;34m\u001b[0m\u001b[0;34m\u001b[0m\u001b[0m\n\u001b[0m\u001b[1;32m   2163\u001b[0m         \u001b[0mkind\u001b[0m \u001b[0;34m=\u001b[0m \u001b[0m_POSITIONAL_ONLY\u001b[0m \u001b[0;32mif\u001b[0m \u001b[0mposonly_left\u001b[0m \u001b[0;32melse\u001b[0m \u001b[0m_POSITIONAL_OR_KEYWORD\u001b[0m\u001b[0;34m\u001b[0m\u001b[0;34m\u001b[0m\u001b[0m\n\u001b[1;32m   2164\u001b[0m         \u001b[0mannotation\u001b[0m \u001b[0;34m=\u001b[0m \u001b[0mannotations\u001b[0m\u001b[0;34m.\u001b[0m\u001b[0mget\u001b[0m\u001b[0;34m(\u001b[0m\u001b[0mname\u001b[0m\u001b[0;34m,\u001b[0m \u001b[0m_empty\u001b[0m\u001b[0;34m)\u001b[0m\u001b[0;34m\u001b[0m\u001b[0;34m\u001b[0m\u001b[0m\n",
      "\u001b[0;31mKeyboardInterrupt\u001b[0m: "
     ]
    }
   ],
   "source": [
    "rf_params = [{'max_features': range(10,40,10),'n_estimators': [100],\n",
    "             'min_samples_leaf': range(1,10,2),'max_depth': range(0,36,12)}]\n",
    "kf5 = StratifiedKFold(n_splits = 5, shuffle = True, random_state = 4)\n",
    "\n",
    "rf_grid = GridSearchCV(estimator=rf, param_grid=rf_params, return_train_score=True, \n",
    "                       cv = kf5, verbose=2, scoring='f1')\n",
    "%time rf_grid.fit(xtrain, ytrain)"
   ]
  },
  {
   "cell_type": "code",
   "execution_count": 98,
   "metadata": {},
   "outputs": [
    {
     "data": {
      "text/plain": [
       "RandomForestClassifier(bootstrap=True, ccp_alpha=0.0, class_weight=None,\n",
       "                       criterion='gini', max_depth=12, max_features=30,\n",
       "                       max_leaf_nodes=None, max_samples=None,\n",
       "                       min_impurity_decrease=0.0, min_impurity_split=None,\n",
       "                       min_samples_leaf=5, min_samples_split=2,\n",
       "                       min_weight_fraction_leaf=0.0, n_estimators=100,\n",
       "                       n_jobs=None, oob_score=True, random_state=4, verbose=0,\n",
       "                       warm_start=False)"
      ]
     },
     "metadata": {},
     "output_type": "display_data"
    },
    {
     "name": "stdout",
     "output_type": "stream",
     "text": [
      "RF best validation score 0.7589387536376049\n",
      "RF best train score 0.8799832898638397\n"
     ]
    }
   ],
   "source": [
    "# second try\n",
    "display(rf_grid.best_estimator_)\n",
    "print('RF best validation score', rf_grid.best_score_)\n",
    "print('RF best train score', rf_grid.score(xtrain, ytrain))"
   ]
  },
  {
   "cell_type": "code",
   "execution_count": 63,
   "metadata": {},
   "outputs": [
    {
     "data": {
      "text/plain": [
       "RandomForestClassifier(bootstrap=True, ccp_alpha=0.0, class_weight=None,\n",
       "                       criterion='gini', max_depth=None, max_features=30,\n",
       "                       max_leaf_nodes=None, max_samples=None,\n",
       "                       min_impurity_decrease=0.0, min_impurity_split=None,\n",
       "                       min_samples_leaf=5, min_samples_split=2,\n",
       "                       min_weight_fraction_leaf=0.0, n_estimators=100,\n",
       "                       n_jobs=None, oob_score=True, random_state=4, verbose=0,\n",
       "                       warm_start=False)"
      ]
     },
     "metadata": {},
     "output_type": "display_data"
    },
    {
     "name": "stdout",
     "output_type": "stream",
     "text": [
      "RF best validation score 0.9396950967173504\n",
      "RF best train score 0.9743530499075785\n"
     ]
    }
   ],
   "source": [
    "# first try\n",
    "display(rf_grid.best_estimator_)\n",
    "print('RF best validation score', rf_grid.best_score_)\n",
    "print('RF best train score', rf_grid.score(xtrain, ytrain))"
   ]
  },
  {
   "cell_type": "code",
   "execution_count": null,
   "metadata": {},
   "outputs": [],
   "source": [
    "# recall & precision\n"
   ]
  },
  {
   "cell_type": "code",
   "execution_count": null,
   "metadata": {},
   "outputs": [],
   "source": [
    "# sklearn.feature_selection import selectFromModel\n",
    "# compute_class_weight"
   ]
  }
 ],
 "metadata": {
  "kernelspec": {
   "display_name": "Python 3",
   "language": "python",
   "name": "python3"
  },
  "language_info": {
   "codemirror_mode": {
    "name": "ipython",
    "version": 3
   },
   "file_extension": ".py",
   "mimetype": "text/x-python",
   "name": "python",
   "nbconvert_exporter": "python",
   "pygments_lexer": "ipython3",
   "version": "3.7.3"
  }
 },
 "nbformat": 4,
 "nbformat_minor": 2
}
