{
 "cells": [
  {
   "cell_type": "code",
   "execution_count": 13,
   "metadata": {},
   "outputs": [],
   "source": [
    "## Packages\n",
    "# data wrangling\n",
    "import numpy as np\n",
    "import pandas as pd\n",
    "from scipy import stats\n",
    "from dfply import *\n",
    "# plotting\n",
    "import matplotlib.pyplot as plt\n",
    "import seaborn as sns\n",
    "\n",
    "## Settings\n",
    "%matplotlib inline\n",
    "pd.set_option('display.max_columns', None)\n",
    "pd.set_option('display.max_rows', None)  "
   ]
  },
  {
   "cell_type": "markdown",
   "metadata": {},
   "source": [
    "### Data Import"
   ]
  },
  {
   "cell_type": "code",
   "execution_count": 14,
   "metadata": {},
   "outputs": [],
   "source": [
    "inpt = pd.read_csv(\"../../../raw_data/Train_Inpatientdata-1542865627584.csv\")\n",
    "outpt = pd.read_csv(\"../../../raw_data/Train_Outpatientdata-1542865627584.csv\")\n",
    "bene = pd.read_csv(\"../../../raw_data/Train_Beneficiarydata-1542865627584.csv\")\n",
    "flag = pd.read_csv(\"../../../raw_data/Train-1542865627584.csv\")"
   ]
  },
  {
   "cell_type": "markdown",
   "metadata": {},
   "source": [
    "### Data Wrangling"
   ]
  },
  {
   "cell_type": "code",
   "execution_count": 11,
   "metadata": {},
   "outputs": [],
   "source": [
    "# convert date columns to date format\n",
    "def col_to_date(df, col_list) :\n",
    "    for x in col_list:\n",
    "        df[x] = pd.to_datetime(df[x])\n",
    "    return df\n",
    "\n",
    "bene = col_to_date(bene, ['DOB','DOD'])\n",
    "inpt = col_to_date(inpt, ['ClaimStartDt','ClaimEndDt','AdmissionDt','DischargeDt'])\n",
    "outpt = col_to_date(outpt, ['ClaimStartDt','ClaimEndDt'])\n",
    "\n",
    "# calculate duration\n",
    "inpt['ClaimDuration'] = inpt.ClaimEndDt - inpt.ClaimStartDt\n",
    "inpt['HospitalDuration'] = inpt.DischargeDt - inpt.AdmissionDt\n",
    "inpt['TotalPaid'] = inpt.DeductibleAmtPaid + inpt.InscClaimAmtReimbursed\n",
    "outpt['ClaimDuration'] = outpt.ClaimEndDt - outpt.ClaimStartDt\n",
    "outpt['TotalPaid'] = outpt.DeductibleAmtPaid + outpt.InscClaimAmtReimbursed"
   ]
  },
  {
   "cell_type": "code",
   "execution_count": 64,
   "metadata": {},
   "outputs": [
    {
     "data": {
      "text/plain": [
       "2092"
      ]
     },
     "execution_count": 64,
     "metadata": {},
     "output_type": "execute_result"
    }
   ],
   "source": [
    "inpt.Provider.nunique()"
   ]
  },
  {
   "cell_type": "markdown",
   "metadata": {},
   "source": [
    "### Distributions"
   ]
  },
  {
   "cell_type": "code",
   "execution_count": 8,
   "metadata": {},
   "outputs": [
    {
     "name": "stdout",
     "output_type": "stream",
     "text": [
      "inpatient physicians 11604\n",
      "outpatient physicians 74109\n",
      "in-out overlapping physicans 3651\n"
     ]
    }
   ],
   "source": [
    "print('inpatient physicians', inpt.AttendingPhysician.nunique())\n",
    "print('outpatient physicians', outpt.AttendingPhysician.nunique())\n",
    "# overlap physicians for inpatient & outpatient\n",
    "# [x for x in inpt.AttendingPhysician.unique() if x in outpt.AttendingPhysician.unique()]\n",
    "print('in-out overlapping physicans', len(set(inpt.AttendingPhysician.unique()).intersection(outpt.AttendingPhysician.unique())))"
   ]
  },
  {
   "cell_type": "code",
   "execution_count": 9,
   "metadata": {},
   "outputs": [
    {
     "name": "stdout",
     "output_type": "stream",
     "text": [
      "inpatient beneficiary 31289\n",
      "outpatient beneficiary 133980\n",
      "in-out overlapping beneficiary 26713\n"
     ]
    }
   ],
   "source": [
    "# patients\n",
    "print('inpatient beneficiary', inpt.BeneID.nunique())\n",
    "print('outpatient beneficiary', outpt.BeneID.nunique())\n",
    "print('in-out overlapping beneficiary', len(set(inpt.BeneID.unique()).intersection(outpt.BeneID.unique())))"
   ]
  },
  {
   "cell_type": "code",
   "execution_count": 10,
   "metadata": {},
   "outputs": [],
   "source": [
    "# Do those inpatient patients show worse health conditions (in terms of chronic diseases) than typical outpatient patients, or do those who have more visits to the providers have worse health conditions? Provide an analysis on these issues."
   ]
  },
  {
   "cell_type": "code",
   "execution_count": 11,
   "metadata": {
    "scrolled": false
   },
   "outputs": [
    {
     "data": {
      "text/html": [
       "<div>\n",
       "<style scoped>\n",
       "    .dataframe tbody tr th:only-of-type {\n",
       "        vertical-align: middle;\n",
       "    }\n",
       "\n",
       "    .dataframe tbody tr th {\n",
       "        vertical-align: top;\n",
       "    }\n",
       "\n",
       "    .dataframe thead th {\n",
       "        text-align: right;\n",
       "    }\n",
       "</style>\n",
       "<table border=\"1\" class=\"dataframe\">\n",
       "  <thead>\n",
       "    <tr style=\"text-align: right;\">\n",
       "      <th></th>\n",
       "      <th>BeneID</th>\n",
       "      <th>ClaimID</th>\n",
       "      <th>ClaimStartDt</th>\n",
       "      <th>ClaimEndDt</th>\n",
       "      <th>Provider</th>\n",
       "      <th>InscClaimAmtReimbursed</th>\n",
       "      <th>AttendingPhysician</th>\n",
       "      <th>OperatingPhysician</th>\n",
       "      <th>OtherPhysician</th>\n",
       "      <th>AdmissionDt</th>\n",
       "      <th>ClmAdmitDiagnosisCode</th>\n",
       "      <th>DeductibleAmtPaid</th>\n",
       "      <th>DischargeDt</th>\n",
       "      <th>DiagnosisGroupCode</th>\n",
       "      <th>ClmDiagnosisCode_1</th>\n",
       "      <th>ClmDiagnosisCode_2</th>\n",
       "      <th>ClmDiagnosisCode_3</th>\n",
       "      <th>ClmDiagnosisCode_4</th>\n",
       "      <th>ClmDiagnosisCode_5</th>\n",
       "      <th>ClmDiagnosisCode_6</th>\n",
       "      <th>ClmDiagnosisCode_7</th>\n",
       "      <th>ClmDiagnosisCode_8</th>\n",
       "      <th>ClmDiagnosisCode_9</th>\n",
       "      <th>ClmDiagnosisCode_10</th>\n",
       "      <th>ClmProcedureCode_1</th>\n",
       "      <th>ClmProcedureCode_2</th>\n",
       "      <th>ClmProcedureCode_3</th>\n",
       "      <th>ClmProcedureCode_4</th>\n",
       "      <th>ClmProcedureCode_5</th>\n",
       "      <th>ClmProcedureCode_6</th>\n",
       "    </tr>\n",
       "  </thead>\n",
       "  <tbody>\n",
       "    <tr>\n",
       "      <th>6991</th>\n",
       "      <td>BENE36364</td>\n",
       "      <td>CLM47465</td>\n",
       "      <td>2009-04-18</td>\n",
       "      <td>2009-04-20</td>\n",
       "      <td>PRV54337</td>\n",
       "      <td>3000</td>\n",
       "      <td>PHY311147</td>\n",
       "      <td>NaN</td>\n",
       "      <td>NaN</td>\n",
       "      <td>2009-04-18</td>\n",
       "      <td>78650</td>\n",
       "      <td>1068.0</td>\n",
       "      <td>2009-04-20</td>\n",
       "      <td>313</td>\n",
       "      <td>41401</td>\n",
       "      <td>4019</td>\n",
       "      <td>30000</td>\n",
       "      <td>3004</td>\n",
       "      <td>4139</td>\n",
       "      <td>5859</td>\n",
       "      <td>NaN</td>\n",
       "      <td>NaN</td>\n",
       "      <td>NaN</td>\n",
       "      <td>NaN</td>\n",
       "      <td>NaN</td>\n",
       "      <td>NaN</td>\n",
       "      <td>NaN</td>\n",
       "      <td>NaN</td>\n",
       "      <td>NaN</td>\n",
       "      <td>NaN</td>\n",
       "    </tr>\n",
       "    <tr>\n",
       "      <th>10700</th>\n",
       "      <td>BENE50418</td>\n",
       "      <td>CLM59069</td>\n",
       "      <td>2009-07-10</td>\n",
       "      <td>2009-07-11</td>\n",
       "      <td>PRV54337</td>\n",
       "      <td>0</td>\n",
       "      <td>PHY311147</td>\n",
       "      <td>NaN</td>\n",
       "      <td>NaN</td>\n",
       "      <td>2009-07-10</td>\n",
       "      <td>41401</td>\n",
       "      <td>1068.0</td>\n",
       "      <td>2009-07-11</td>\n",
       "      <td>OTH</td>\n",
       "      <td>27801</td>\n",
       "      <td>25541</td>\n",
       "      <td>V4581</td>\n",
       "      <td>27651</td>\n",
       "      <td>41401</td>\n",
       "      <td>2900</td>\n",
       "      <td>2948</td>\n",
       "      <td>56400</td>\n",
       "      <td>5789</td>\n",
       "      <td>NaN</td>\n",
       "      <td>NaN</td>\n",
       "      <td>NaN</td>\n",
       "      <td>NaN</td>\n",
       "      <td>NaN</td>\n",
       "      <td>NaN</td>\n",
       "      <td>NaN</td>\n",
       "    </tr>\n",
       "    <tr>\n",
       "      <th>15405</th>\n",
       "      <td>BENE67688</td>\n",
       "      <td>CLM74296</td>\n",
       "      <td>2009-11-01</td>\n",
       "      <td>2009-11-09</td>\n",
       "      <td>PRV54402</td>\n",
       "      <td>20000</td>\n",
       "      <td>PHY311147</td>\n",
       "      <td>NaN</td>\n",
       "      <td>NaN</td>\n",
       "      <td>2009-11-01</td>\n",
       "      <td>V5789</td>\n",
       "      <td>1068.0</td>\n",
       "      <td>2009-11-09</td>\n",
       "      <td>941</td>\n",
       "      <td>V5789</td>\n",
       "      <td>5856</td>\n",
       "      <td>25000</td>\n",
       "      <td>2724</td>\n",
       "      <td>4019</td>\n",
       "      <td>25060</td>\n",
       "      <td>V5413</td>\n",
       "      <td>V5419</td>\n",
       "      <td>5849</td>\n",
       "      <td>NaN</td>\n",
       "      <td>NaN</td>\n",
       "      <td>NaN</td>\n",
       "      <td>NaN</td>\n",
       "      <td>NaN</td>\n",
       "      <td>NaN</td>\n",
       "      <td>NaN</td>\n",
       "    </tr>\n",
       "    <tr>\n",
       "      <th>26510</th>\n",
       "      <td>BENE108215</td>\n",
       "      <td>CLM72119</td>\n",
       "      <td>2009-10-15</td>\n",
       "      <td>2009-10-23</td>\n",
       "      <td>PRV54337</td>\n",
       "      <td>6000</td>\n",
       "      <td>PHY311147</td>\n",
       "      <td>NaN</td>\n",
       "      <td>NaN</td>\n",
       "      <td>2009-10-15</td>\n",
       "      <td>496</td>\n",
       "      <td>1068.0</td>\n",
       "      <td>2009-10-23</td>\n",
       "      <td>164</td>\n",
       "      <td>49121</td>\n",
       "      <td>51883</td>\n",
       "      <td>2841</td>\n",
       "      <td>NaN</td>\n",
       "      <td>NaN</td>\n",
       "      <td>NaN</td>\n",
       "      <td>NaN</td>\n",
       "      <td>NaN</td>\n",
       "      <td>NaN</td>\n",
       "      <td>NaN</td>\n",
       "      <td>NaN</td>\n",
       "      <td>NaN</td>\n",
       "      <td>NaN</td>\n",
       "      <td>NaN</td>\n",
       "      <td>NaN</td>\n",
       "      <td>NaN</td>\n",
       "    </tr>\n",
       "    <tr>\n",
       "      <th>35334</th>\n",
       "      <td>BENE140846</td>\n",
       "      <td>CLM47306</td>\n",
       "      <td>2009-04-17</td>\n",
       "      <td>2009-04-26</td>\n",
       "      <td>PRV54337</td>\n",
       "      <td>12000</td>\n",
       "      <td>PHY311147</td>\n",
       "      <td>NaN</td>\n",
       "      <td>NaN</td>\n",
       "      <td>2009-04-17</td>\n",
       "      <td>4280</td>\n",
       "      <td>1068.0</td>\n",
       "      <td>2009-04-26</td>\n",
       "      <td>296</td>\n",
       "      <td>42830</td>\n",
       "      <td>4269</td>\n",
       "      <td>99591</td>\n",
       "      <td>4280</td>\n",
       "      <td>5854</td>\n",
       "      <td>4254</td>\n",
       "      <td>5693</td>\n",
       "      <td>25000</td>\n",
       "      <td>5849</td>\n",
       "      <td>NaN</td>\n",
       "      <td>NaN</td>\n",
       "      <td>NaN</td>\n",
       "      <td>NaN</td>\n",
       "      <td>NaN</td>\n",
       "      <td>NaN</td>\n",
       "      <td>NaN</td>\n",
       "    </tr>\n",
       "    <tr>\n",
       "      <th>36434</th>\n",
       "      <td>BENE144675</td>\n",
       "      <td>CLM35449</td>\n",
       "      <td>2009-01-25</td>\n",
       "      <td>2009-01-26</td>\n",
       "      <td>PRV54337</td>\n",
       "      <td>21000</td>\n",
       "      <td>PHY311147</td>\n",
       "      <td>PHY430456</td>\n",
       "      <td>NaN</td>\n",
       "      <td>2009-01-25</td>\n",
       "      <td>64883</td>\n",
       "      <td>1068.0</td>\n",
       "      <td>2009-01-26</td>\n",
       "      <td>779</td>\n",
       "      <td>64893</td>\n",
       "      <td>7840</td>\n",
       "      <td>78903</td>\n",
       "      <td>5559</td>\n",
       "      <td>64813</td>\n",
       "      <td>30560</td>\n",
       "      <td>5609</td>\n",
       "      <td>7823</td>\n",
       "      <td>NaN</td>\n",
       "      <td>NaN</td>\n",
       "      <td>734.0</td>\n",
       "      <td>NaN</td>\n",
       "      <td>NaN</td>\n",
       "      <td>NaN</td>\n",
       "      <td>NaN</td>\n",
       "      <td>NaN</td>\n",
       "    </tr>\n",
       "  </tbody>\n",
       "</table>\n",
       "</div>"
      ],
      "text/plain": [
       "           BeneID   ClaimID ClaimStartDt  ClaimEndDt  Provider  \\\n",
       "6991    BENE36364  CLM47465   2009-04-18  2009-04-20  PRV54337   \n",
       "10700   BENE50418  CLM59069   2009-07-10  2009-07-11  PRV54337   \n",
       "15405   BENE67688  CLM74296   2009-11-01  2009-11-09  PRV54402   \n",
       "26510  BENE108215  CLM72119   2009-10-15  2009-10-23  PRV54337   \n",
       "35334  BENE140846  CLM47306   2009-04-17  2009-04-26  PRV54337   \n",
       "36434  BENE144675  CLM35449   2009-01-25  2009-01-26  PRV54337   \n",
       "\n",
       "       InscClaimAmtReimbursed AttendingPhysician OperatingPhysician  \\\n",
       "6991                     3000          PHY311147                NaN   \n",
       "10700                       0          PHY311147                NaN   \n",
       "15405                   20000          PHY311147                NaN   \n",
       "26510                    6000          PHY311147                NaN   \n",
       "35334                   12000          PHY311147                NaN   \n",
       "36434                   21000          PHY311147          PHY430456   \n",
       "\n",
       "      OtherPhysician AdmissionDt ClmAdmitDiagnosisCode  DeductibleAmtPaid  \\\n",
       "6991             NaN  2009-04-18                 78650             1068.0   \n",
       "10700            NaN  2009-07-10                 41401             1068.0   \n",
       "15405            NaN  2009-11-01                 V5789             1068.0   \n",
       "26510            NaN  2009-10-15                   496             1068.0   \n",
       "35334            NaN  2009-04-17                  4280             1068.0   \n",
       "36434            NaN  2009-01-25                 64883             1068.0   \n",
       "\n",
       "      DischargeDt DiagnosisGroupCode ClmDiagnosisCode_1 ClmDiagnosisCode_2  \\\n",
       "6991   2009-04-20                313              41401               4019   \n",
       "10700  2009-07-11                OTH              27801              25541   \n",
       "15405  2009-11-09                941              V5789               5856   \n",
       "26510  2009-10-23                164              49121              51883   \n",
       "35334  2009-04-26                296              42830               4269   \n",
       "36434  2009-01-26                779              64893               7840   \n",
       "\n",
       "      ClmDiagnosisCode_3 ClmDiagnosisCode_4 ClmDiagnosisCode_5  \\\n",
       "6991               30000               3004               4139   \n",
       "10700              V4581              27651              41401   \n",
       "15405              25000               2724               4019   \n",
       "26510               2841                NaN                NaN   \n",
       "35334              99591               4280               5854   \n",
       "36434              78903               5559              64813   \n",
       "\n",
       "      ClmDiagnosisCode_6 ClmDiagnosisCode_7 ClmDiagnosisCode_8  \\\n",
       "6991                5859                NaN                NaN   \n",
       "10700               2900               2948              56400   \n",
       "15405              25060              V5413              V5419   \n",
       "26510                NaN                NaN                NaN   \n",
       "35334               4254               5693              25000   \n",
       "36434              30560               5609               7823   \n",
       "\n",
       "      ClmDiagnosisCode_9 ClmDiagnosisCode_10  ClmProcedureCode_1  \\\n",
       "6991                 NaN                 NaN                 NaN   \n",
       "10700               5789                 NaN                 NaN   \n",
       "15405               5849                 NaN                 NaN   \n",
       "26510                NaN                 NaN                 NaN   \n",
       "35334               5849                 NaN                 NaN   \n",
       "36434                NaN                 NaN               734.0   \n",
       "\n",
       "       ClmProcedureCode_2  ClmProcedureCode_3  ClmProcedureCode_4  \\\n",
       "6991                  NaN                 NaN                 NaN   \n",
       "10700                 NaN                 NaN                 NaN   \n",
       "15405                 NaN                 NaN                 NaN   \n",
       "26510                 NaN                 NaN                 NaN   \n",
       "35334                 NaN                 NaN                 NaN   \n",
       "36434                 NaN                 NaN                 NaN   \n",
       "\n",
       "       ClmProcedureCode_5  ClmProcedureCode_6  \n",
       "6991                  NaN                 NaN  \n",
       "10700                 NaN                 NaN  \n",
       "15405                 NaN                 NaN  \n",
       "26510                 NaN                 NaN  \n",
       "35334                 NaN                 NaN  \n",
       "36434                 NaN                 NaN  "
      ]
     },
     "execution_count": 11,
     "metadata": {},
     "output_type": "execute_result"
    }
   ],
   "source": [
    "test = inpt.groupby('AttendingPhysician')\n",
    "test.get_group('PHY311147')"
   ]
  },
  {
   "cell_type": "code",
   "execution_count": 30,
   "metadata": {},
   "outputs": [
    {
     "data": {
      "text/plain": [
       "'inpateint'"
      ]
     },
     "metadata": {},
     "output_type": "display_data"
    },
    {
     "data": {
      "text/html": [
       "<div>\n",
       "<style scoped>\n",
       "    .dataframe tbody tr th:only-of-type {\n",
       "        vertical-align: middle;\n",
       "    }\n",
       "\n",
       "    .dataframe tbody tr th {\n",
       "        vertical-align: top;\n",
       "    }\n",
       "\n",
       "    .dataframe thead th {\n",
       "        text-align: right;\n",
       "    }\n",
       "</style>\n",
       "<table border=\"1\" class=\"dataframe\">\n",
       "  <thead>\n",
       "    <tr style=\"text-align: right;\">\n",
       "      <th></th>\n",
       "      <th>provider_num</th>\n",
       "      <th>Physicians</th>\n",
       "    </tr>\n",
       "  </thead>\n",
       "  <tbody>\n",
       "    <tr>\n",
       "      <th>0</th>\n",
       "      <td>1</td>\n",
       "      <td>11409</td>\n",
       "    </tr>\n",
       "    <tr>\n",
       "      <th>1</th>\n",
       "      <td>2</td>\n",
       "      <td>190</td>\n",
       "    </tr>\n",
       "    <tr>\n",
       "      <th>2</th>\n",
       "      <td>3</td>\n",
       "      <td>5</td>\n",
       "    </tr>\n",
       "  </tbody>\n",
       "</table>\n",
       "</div>"
      ],
      "text/plain": [
       "   provider_num  Physicians\n",
       "0             1       11409\n",
       "1             2         190\n",
       "2             3           5"
      ]
     },
     "metadata": {},
     "output_type": "display_data"
    },
    {
     "data": {
      "text/plain": [
       "'outpatient'"
      ]
     },
     "metadata": {},
     "output_type": "display_data"
    },
    {
     "data": {
      "text/html": [
       "<div>\n",
       "<style scoped>\n",
       "    .dataframe tbody tr th:only-of-type {\n",
       "        vertical-align: middle;\n",
       "    }\n",
       "\n",
       "    .dataframe tbody tr th {\n",
       "        vertical-align: top;\n",
       "    }\n",
       "\n",
       "    .dataframe thead th {\n",
       "        text-align: right;\n",
       "    }\n",
       "</style>\n",
       "<table border=\"1\" class=\"dataframe\">\n",
       "  <thead>\n",
       "    <tr style=\"text-align: right;\">\n",
       "      <th></th>\n",
       "      <th>provider_num</th>\n",
       "      <th>Physicians</th>\n",
       "    </tr>\n",
       "  </thead>\n",
       "  <tbody>\n",
       "    <tr>\n",
       "      <th>0</th>\n",
       "      <td>1</td>\n",
       "      <td>69523</td>\n",
       "    </tr>\n",
       "    <tr>\n",
       "      <th>1</th>\n",
       "      <td>2</td>\n",
       "      <td>4145</td>\n",
       "    </tr>\n",
       "    <tr>\n",
       "      <th>2</th>\n",
       "      <td>3</td>\n",
       "      <td>349</td>\n",
       "    </tr>\n",
       "    <tr>\n",
       "      <th>3</th>\n",
       "      <td>4</td>\n",
       "      <td>63</td>\n",
       "    </tr>\n",
       "    <tr>\n",
       "      <th>4</th>\n",
       "      <td>5</td>\n",
       "      <td>18</td>\n",
       "    </tr>\n",
       "    <tr>\n",
       "      <th>5</th>\n",
       "      <td>6</td>\n",
       "      <td>8</td>\n",
       "    </tr>\n",
       "    <tr>\n",
       "      <th>6</th>\n",
       "      <td>8</td>\n",
       "      <td>2</td>\n",
       "    </tr>\n",
       "    <tr>\n",
       "      <th>7</th>\n",
       "      <td>7</td>\n",
       "      <td>1</td>\n",
       "    </tr>\n",
       "  </tbody>\n",
       "</table>\n",
       "</div>"
      ],
      "text/plain": [
       "   provider_num  Physicians\n",
       "0             1       69523\n",
       "1             2        4145\n",
       "2             3         349\n",
       "3             4          63\n",
       "4             5          18\n",
       "5             6           8\n",
       "6             8           2\n",
       "7             7           1"
      ]
     },
     "metadata": {},
     "output_type": "display_data"
    },
    {
     "data": {
      "image/png": "[encoded data removed]",
      "text/plain": [
       "<Figure size 432x288 with 1 Axes>"
      ]
     },
     "metadata": {
      "needs_background": "light"
     },
     "output_type": "display_data"
    },
    {
     "data": {
      "image/png": "[encoded data removed]",
      "text/plain": [
       "<Figure size 432x288 with 1 Axes>"
      ]
     },
     "metadata": {
      "needs_background": "light"
     },
     "output_type": "display_data"
    }
   ],
   "source": [
    "# doctors serve for diff providers\n",
    "provider_per_doc_inpt = pd.DataFrame(inpt.groupby('AttendingPhysician').Provider.nunique().value_counts()).rename_axis('provider_num').reset_index().rename({'Provider': 'Physicians'},axis =1)\n",
    "provider_per_doc_outpt = pd.DataFrame(outpt.groupby('AttendingPhysician').Provider.nunique().value_counts()).rename_axis('provider_num').reset_index().rename({'Provider': 'Physicians'},axis =1)\n",
    "\n",
    "display('inpateint', provider_per_doc_inpt)\n",
    "display('outpatient', provider_per_doc_outpt)\n",
    "\n",
    "g = sns.barplot(x = provider_per_doc_inpt.index, y = \"Physicians\", data = provider_per_doc_inpt)\n",
    "g.set(xlabel = \"# of physicians\")\n",
    "g.set_title('inpatient')\n",
    "for index, row in provider_per_doc_inpt.iterrows():\n",
    "    g.text(row.name,row.Physicians, row.Physicians, color='black', ha=\"center\")\n",
    "plt.show()\n",
    "\n",
    "k = sns.barplot(x = provider_per_doc_outpt.index, y = \"Physicians\", data = provider_per_doc_outpt)\n",
    "for index, row in provider_per_doc_outpt.iterrows():\n",
    "    k.text(row.name,row.Physicians, row.Physicians, color='black', ha=\"center\")\n",
    "k.set(xlabel = \"# of physicians\")\n",
    "k.set_title('outpatient')\n",
    "plt.show()\n",
    "\n",
    "# check out the 5 physicians that work for 3 clinics "
   ]
  },
  {
   "cell_type": "code",
   "execution_count": 63,
   "metadata": {},
   "outputs": [
    {
     "data": {
      "text/plain": [
       "1    26694\n",
       "2     3965\n",
       "3      541\n",
       "4       76\n",
       "5       13\n",
       "Name: Provider, dtype: int64"
      ]
     },
     "execution_count": 63,
     "metadata": {},
     "output_type": "execute_result"
    }
   ],
   "source": [
    "# patients go to diff hospitals\n",
    "inpt.groupby('BeneID').Provider.nunique().value_counts()"
   ]
  },
  {
   "cell_type": "code",
   "execution_count": null,
   "metadata": {},
   "outputs": [],
   "source": [
    "inpt.groupby('AttendingPhysician').Provider.nunique().bar()\n",
    "plt.xlabel('# of providers')\n",
    "plt.ylabel('# of physicians')\n",
    "plt.show()\n",
    "# outpt.groupby('AttendingPhysician').Provider.nunique().hist(bins = 7)\n",
    "# plt.xlabel('# of providers')\n",
    "# plt.ylabel('# of physicians')\n",
    "# plt.show()"
   ]
  },
  {
   "cell_type": "code",
   "execution_count": 75,
   "metadata": {},
   "outputs": [
    {
     "data": {
      "text/html": [
       "<div>\n",
       "<style scoped>\n",
       "    .dataframe tbody tr th:only-of-type {\n",
       "        vertical-align: middle;\n",
       "    }\n",
       "\n",
       "    .dataframe tbody tr th {\n",
       "        vertical-align: top;\n",
       "    }\n",
       "\n",
       "    .dataframe thead th {\n",
       "        text-align: right;\n",
       "    }\n",
       "</style>\n",
       "<table border=\"1\" class=\"dataframe\">\n",
       "  <thead>\n",
       "    <tr style=\"text-align: right;\">\n",
       "      <th></th>\n",
       "      <th>Provider</th>\n",
       "    </tr>\n",
       "  </thead>\n",
       "  <tbody>\n",
       "    <tr>\n",
       "      <th>1</th>\n",
       "      <td>11409</td>\n",
       "    </tr>\n",
       "    <tr>\n",
       "      <th>2</th>\n",
       "      <td>190</td>\n",
       "    </tr>\n",
       "    <tr>\n",
       "      <th>3</th>\n",
       "      <td>5</td>\n",
       "    </tr>\n",
       "  </tbody>\n",
       "</table>\n",
       "</div>"
      ],
      "text/plain": [
       "   Provider\n",
       "1     11409\n",
       "2       190\n",
       "3         5"
      ]
     },
     "execution_count": 75,
     "metadata": {},
     "output_type": "execute_result"
    }
   ],
   "source": []
  },
  {
   "cell_type": "code",
   "execution_count": 51,
   "metadata": {},
   "outputs": [
    {
     "data": {
      "text/plain": [
       "1    69523\n",
       "2     4145\n",
       "3      349\n",
       "4       63\n",
       "5       18\n",
       "6        8\n",
       "8        2\n",
       "7        1\n",
       "Name: Provider, dtype: int64"
      ]
     },
     "execution_count": 51,
     "metadata": {},
     "output_type": "execute_result"
    }
   ],
   "source": []
  },
  {
   "cell_type": "code",
   "execution_count": 50,
   "metadata": {},
   "outputs": [
    {
     "data": {
      "text/plain": [
       "1    69523\n",
       "2     4145\n",
       "3      349\n",
       "4       63\n",
       "5       18\n",
       "6        8\n",
       "8        2\n",
       "7        1\n",
       "Name: Provider, dtype: int64"
      ]
     },
     "execution_count": 50,
     "metadata": {},
     "output_type": "execute_result"
    }
   ],
   "source": []
  },
  {
   "cell_type": "code",
   "execution_count": 18,
   "metadata": {},
   "outputs": [],
   "source": [
    "inpt_bene = inpt.merge(bene, on = 'BeneID')"
   ]
  },
  {
   "cell_type": "code",
   "execution_count": 32,
   "metadata": {},
   "outputs": [],
   "source": [
    "inpt_bene_cond = inpt_bene[inpt_bene.columns[inpt_bene.columns.str.contains(pat = 'ChronicCond')]].sum(axis=1).value_counts()"
   ]
  },
  {
   "cell_type": "code",
   "execution_count": 28,
   "metadata": {},
   "outputs": [],
   "source": [
    "outpt_bene = outpt.merge(bene, on = 'BeneID')"
   ]
  },
  {
   "cell_type": "code",
   "execution_count": 31,
   "metadata": {},
   "outputs": [],
   "source": [
    "outpt_bene_cond = outpt_bene[outpt_bene.columns[outpt_bene.columns.str.contains(pat = 'ChronicCond')]].sum(axis=1).value_counts()"
   ]
  },
  {
   "cell_type": "code",
   "execution_count": null,
   "metadata": {},
   "outputs": [],
   "source": []
  }
 ],
 "metadata": {
  "kernelspec": {
   "display_name": "Python 3",
   "language": "python",
   "name": "python3"
  },
  "language_info": {
   "codemirror_mode": {
    "name": "ipython",
    "version": 3
   },
   "file_extension": ".py",
   "mimetype": "text/x-python",
   "name": "python",
   "nbconvert_exporter": "python",
   "pygments_lexer": "ipython3",
   "version": "3.8.1"
  }
 },
 "nbformat": 4,
 "nbformat_minor": 2
}
