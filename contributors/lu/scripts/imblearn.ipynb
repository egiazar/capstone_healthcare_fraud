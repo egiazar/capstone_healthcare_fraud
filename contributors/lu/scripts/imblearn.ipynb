{
 "cells": [
  {
   "cell_type": "code",
   "execution_count": 4,
   "metadata": {},
   "outputs": [
    {
     "ename": "ModuleNotFoundError",
     "evalue": "No module named 'imblearn'",
     "output_type": "error",
     "traceback": [
      "\u001b[0;31m---------------------------------------------------------------------------\u001b[0m",
      "\u001b[0;31mModuleNotFoundError\u001b[0m                       Traceback (most recent call last)",
      "\u001b[0;32m<ipython-input-4-f327d60d7013>\u001b[0m in \u001b[0;36m<module>\u001b[0;34m\u001b[0m\n\u001b[0;32m----> 1\u001b[0;31m \u001b[0;32mimport\u001b[0m \u001b[0mimblearn\u001b[0m\u001b[0;34m\u001b[0m\u001b[0;34m\u001b[0m\u001b[0m\n\u001b[0m",
      "\u001b[0;31mModuleNotFoundError\u001b[0m: No module named 'imblearn'"
     ]
    }
   ],
   "source": [
    "import imblearn"
   ]
  },
  {
   "cell_type": "code",
   "execution_count": 5,
   "metadata": {},
   "outputs": [
    {
     "ename": "ModuleNotFoundError",
     "evalue": "No module named 'imblearn'",
     "output_type": "error",
     "traceback": [
      "\u001b[0;31m---------------------------------------------------------------------------\u001b[0m",
      "\u001b[0;31mModuleNotFoundError\u001b[0m                       Traceback (most recent call last)",
      "\u001b[0;32m<ipython-input-5-0b052d41b57a>\u001b[0m in \u001b[0;36m<module>\u001b[0;34m\u001b[0m\n\u001b[0;32m----> 1\u001b[0;31m \u001b[0;32mfrom\u001b[0m \u001b[0mimblearn\u001b[0m\u001b[0;34m.\u001b[0m\u001b[0mover_sampling\u001b[0m \u001b[0;32mimport\u001b[0m \u001b[0mSMOTE\u001b[0m\u001b[0;34m\u001b[0m\u001b[0;34m\u001b[0m\u001b[0m\n\u001b[0m",
      "\u001b[0;31mModuleNotFoundError\u001b[0m: No module named 'imblearn'"
     ]
    }
   ],
   "source": [
    "from imblearn.over_sampling import SMOTE"
   ]
  },
  {
   "cell_type": "code",
   "execution_count": null,
   "metadata": {},
   "outputs": [],
   "source": [
    "!echo $PATH"
   ]
  },
  {
   "cell_type": "code",
   "execution_count": 4,
   "metadata": {},
   "outputs": [
    {
     "name": "stdout",
     "output_type": "stream",
     "text": [
      "Requirement already satisfied: imblearn in /Users/luyu/opt/anaconda3/lib/python3.7/site-packages (0.0)\n",
      "Requirement already satisfied: imbalanced-learn in /Users/luyu/opt/anaconda3/lib/python3.7/site-packages (from imblearn) (0.7.0)\n",
      "Requirement already satisfied: numpy>=1.13.3 in /Users/luyu/opt/anaconda3/lib/python3.7/site-packages (from imbalanced-learn->imblearn) (1.17.2)\n",
      "Requirement already satisfied: joblib>=0.11 in /Users/luyu/opt/anaconda3/lib/python3.7/site-packages (from imbalanced-learn->imblearn) (0.13.2)\n",
      "Requirement already satisfied: scikit-learn>=0.23 in /Users/luyu/opt/anaconda3/lib/python3.7/site-packages (from imbalanced-learn->imblearn) (0.23.1)\n",
      "Requirement already satisfied: scipy>=0.19.1 in /Users/luyu/opt/anaconda3/lib/python3.7/site-packages (from imbalanced-learn->imblearn) (1.3.1)\n",
      "Requirement already satisfied: threadpoolctl>=2.0.0 in /Users/luyu/opt/anaconda3/lib/python3.7/site-packages (from scikit-learn>=0.23->imbalanced-learn->imblearn) (2.1.0)\n"
     ]
    }
   ],
   "source": [
    "!pip install imblearn"
   ]
  },
  {
   "cell_type": "code",
   "execution_count": 5,
   "metadata": {},
   "outputs": [
    {
     "name": "stdout",
     "output_type": "stream",
     "text": [
      "Collecting package metadata (current_repodata.json): done\n",
      "Solving environment: failed with initial frozen solve. Retrying with flexible solve.\n",
      "Collecting package metadata (repodata.json): done\n",
      "Solving environment: failed with initial frozen solve. Retrying with flexible solve.\n",
      "\n",
      "PackagesNotFoundError: The following packages are not available from current channels:\n",
      "\n",
      "  - imblearn\n",
      "\n",
      "Current channels:\n",
      "\n",
      "  - https://repo.anaconda.com/pkgs/main/osx-64\n",
      "  - https://repo.anaconda.com/pkgs/main/noarch\n",
      "  - https://repo.anaconda.com/pkgs/r/osx-64\n",
      "  - https://repo.anaconda.com/pkgs/r/noarch\n",
      "\n",
      "To search for alternate channels that may provide the conda package you're\n",
      "looking for, navigate to\n",
      "\n",
      "    https://anaconda.org\n",
      "\n",
      "and use the search bar at the top of the page.\n",
      "\n",
      "\n"
     ]
    }
   ],
   "source": [
    "!conda install imblearn"
   ]
  },
  {
   "cell_type": "code",
   "execution_count": 8,
   "metadata": {},
   "outputs": [
    {
     "name": "stdout",
     "output_type": "stream",
     "text": [
      "Collecting package metadata (current_repodata.json): done\n",
      "Solving environment: failed with initial frozen solve. Retrying with flexible solve.\n",
      "Collecting package metadata (repodata.json): done\n",
      "Solving environment: failed with initial frozen solve. Retrying with flexible solve.\n",
      "\n",
      "PackagesNotFoundError: The following packages are not available from current channels:\n",
      "\n",
      "  - imblearn\n",
      "\n",
      "Current channels:\n",
      "\n",
      "  - https://conda.anaconda.org/conda-forge/osx-64\n",
      "  - https://conda.anaconda.org/conda-forge/noarch\n",
      "  - https://repo.anaconda.com/pkgs/main/osx-64\n",
      "  - https://repo.anaconda.com/pkgs/main/noarch\n",
      "  - https://repo.anaconda.com/pkgs/r/osx-64\n",
      "  - https://repo.anaconda.com/pkgs/r/noarch\n",
      "\n",
      "To search for alternate channels that may provide the conda package you're\n",
      "looking for, navigate to\n",
      "\n",
      "    https://anaconda.org\n",
      "\n",
      "and use the search bar at the top of the page.\n",
      "\n",
      "\n"
     ]
    }
   ],
   "source": [
    "!conda install -c conda-forge imblearn"
   ]
  },
  {
   "cell_type": "code",
   "execution_count": 14,
   "metadata": {},
   "outputs": [
    {
     "name": "stdout",
     "output_type": "stream",
     "text": [
      "Warning: 'conda-forge' already in 'channels' list, moving to the bottom\n"
     ]
    }
   ],
   "source": [
    "!conda config --append channels conda-forge"
   ]
  },
  {
   "cell_type": "code",
   "execution_count": null,
   "metadata": {},
   "outputs": [
    {
     "name": "stdout",
     "output_type": "stream",
     "text": [
      "Collecting package metadata (current_repodata.json): done\n",
      "Solving environment: / \n",
      "The environment is inconsistent, please check the package plan carefully\n",
      "The following packages are causing the inconsistency:\n",
      "\n",
      "  - defaults/osx-64::widgetsnbextension==3.5.1=py37_0\n",
      "  - defaults/noarch::anaconda-project==0.8.3=py_0\n",
      "  - defaults/noarch::ipywidgets==7.5.1=py_0\n",
      "  - defaults/osx-64::anaconda-navigator==1.9.12=py37_0\n",
      "  - defaults/osx-64::bkcharts==0.2=py37_0\n",
      "  - defaults/noarch::jupyterlab_server==1.0.6=py_0\n",
      "  - defaults/noarch::jupyterlab==1.1.4=pyhf63ae98_0\n",
      "  - defaults/osx-64::anaconda==2019.10=py37_0\n",
      "  - defaults/osx-64::spyder-kernels==0.5.2=py37_0\n",
      "  - defaults/osx-64::twisted==20.3.0=py37h1de35cc_0\n",
      "  - defaults/osx-64::scrapy==1.6.0=py37_0\n",
      "  - conda-forge/label/cf201901/noarch::imbalanced-learn==0.4.3=py_0\n",
      "  - defaults/osx-64::statsmodels==0.10.1=py37h1d22016_0\n",
      "  - defaults/osx-64::seaborn==0.9.0=py37_0\n",
      "  - defaults/osx-64::anaconda-client==1.7.2=py37_0\n",
      "  - defaults/osx-64::_ipyw_jlab_nb_ext_conf==0.1.0=py37_0\n",
      "  - defaults/osx-64::ipykernel==5.1.2=py37h39e3cac_0\n",
      "  - defaults/osx-64::spyder==3.3.6=py37_0\n",
      "  - defaults/noarch::dask==2.5.2=py_0\n",
      "done\n",
      "\n",
      "## Package Plan ##\n",
      "\n",
      "  environment location: /Users/luyu/opt/anaconda3\n",
      "\n",
      "  added / updated specs:\n",
      "    - scikit-learn=0.22\n",
      "\n",
      "\n",
      "The following packages will be downloaded:\n",
      "\n",
      "    package                    |            build\n",
      "    ---------------------------|-----------------\n",
      "    _anaconda_depends-2020.02  |           py37_0           6 KB\n",
      "    anaconda-custom            |           py37_1           3 KB\n",
      "    applaunchservices-0.2.1    |             py_0           9 KB\n",
      "    argh-0.26.2                |           py37_0          36 KB\n",
      "    autopep8-1.4.3             |           py37_0          73 KB\n",
      "    certifi-2020.6.20          |           py37_0         156 KB\n",
      "    diff-match-patch-20181111  |             py_0          35 KB\n",
      "    flake8-3.7.9               |           py37_0         173 KB\n",
      "    hypothesis-5.16.1          |             py_0         233 KB\n",
      "    intervaltree-3.0.2         |             py_0          25 KB\n",
      "    jupyter_client-6.1.3       |             py_0          82 KB\n",
      "    jupyter_console-6.1.0      |             py_0          24 KB\n",
      "    jupyter_core-4.6.3         |           py37_0          70 KB\n",
      "    libspatialindex-1.9.3      |       h0a44026_0         328 KB\n",
      "    matplotlib-base-3.1.3      |   py37h9aa3819_0         4.9 MB\n",
      "    nbconvert-5.6.1            |           py37_0         458 KB\n",
      "    nbformat-5.0.7             |             py_0          89 KB\n",
      "    notebook-6.0.3             |           py37_0         4.0 MB\n",
      "    openssl-1.1.1g             |       h1de35cc_0         2.2 MB\n",
      "    pandas-1.0.1               |   py37h6c726b0_0         7.7 MB\n",
      "    path-14.0.1                |           py37_0          38 KB\n",
      "    pathtools-0.1.2            |             py_1          10 KB\n",
      "    pip-20.1.1                 |           py37_1         1.7 MB\n",
      "    pydocstyle-5.0.2           |             py_0          37 KB\n",
      "    pytest-astropy-header-0.1.2|             py_0          12 KB\n",
      "    python-jsonrpc-server-0.3.4|             py_0          13 KB\n",
      "    python-language-server-0.31.10|           py37_0          77 KB\n",
      "    qdarkstyle-2.8.1           |             py_0         176 KB\n",
      "    qtconsole-4.7.5            |             py_0          96 KB\n",
      "    rtree-0.9.4                |           py37_1          47 KB\n",
      "    scikit-learn-0.22.1        |   py37h27c97d8_0         4.7 MB\n",
      "    ujson-1.35                 |   py37h1de35cc_0          23 KB\n",
      "    watchdog-0.10.2            |   py37h1de35cc_0          95 KB\n",
      "    yapf-0.29.0                |             py_0         124 KB\n",
      "    ------------------------------------------------------------\n",
      "                                           Total:        27.7 MB\n",
      "\n",
      "The following NEW packages will be INSTALLED:\n",
      "\n",
      "  _anaconda_depends  pkgs/main/osx-64::_anaconda_depends-2020.02-py37_0\n",
      "  applaunchservices  pkgs/main/noarch::applaunchservices-0.2.1-py_0\n",
      "  argh               pkgs/main/osx-64::argh-0.26.2-py37_0\n",
      "  autopep8           pkgs/main/osx-64::autopep8-1.4.3-py37_0\n",
      "  diff-match-patch   pkgs/main/noarch::diff-match-patch-20181111-py_0\n",
      "  flake8             pkgs/main/osx-64::flake8-3.7.9-py37_0\n",
      "  hypothesis         pkgs/main/noarch::hypothesis-5.16.1-py_0\n",
      "  intervaltree       pkgs/main/noarch::intervaltree-3.0.2-py_0\n",
      "  jupyter            pkgs/main/osx-64::jupyter-1.0.0-py37_7\n",
      "  jupyter_client     pkgs/main/noarch::jupyter_client-6.1.3-py_0\n",
      "  jupyter_console    pkgs/main/noarch::jupyter_console-6.1.0-py_0\n",
      "  jupyter_core       pkgs/main/osx-64::jupyter_core-4.6.3-py37_0\n",
      "  libspatialindex    pkgs/main/osx-64::libspatialindex-1.9.3-h0a44026_0\n",
      "  matplotlib-base    pkgs/main/osx-64::matplotlib-base-3.1.3-py37h9aa3819_0\n",
      "  nbconvert          pkgs/main/osx-64::nbconvert-5.6.1-py37_0\n",
      "  nbformat           pkgs/main/noarch::nbformat-5.0.7-py_0\n",
      "  notebook           pkgs/main/osx-64::notebook-6.0.3-py37_0\n",
      "  pandas             pkgs/main/osx-64::pandas-1.0.1-py37h6c726b0_0\n",
      "  path               pkgs/main/osx-64::path-14.0.1-py37_0\n",
      "  pathtools          pkgs/main/noarch::pathtools-0.1.2-py_1\n",
      "  pip                pkgs/main/osx-64::pip-20.1.1-py37_1\n",
      "  pydocstyle         pkgs/main/noarch::pydocstyle-5.0.2-py_0\n",
      "  pytest-astropy-he~ pkgs/main/noarch::pytest-astropy-header-0.1.2-py_0\n",
      "  python-jsonrpc-se~ pkgs/main/noarch::python-jsonrpc-server-0.3.4-py_0\n",
      "  python-language-s~ pkgs/main/osx-64::python-language-server-0.31.10-py37_0\n",
      "  qdarkstyle         pkgs/main/noarch::qdarkstyle-2.8.1-py_0\n",
      "  qtconsole          pkgs/main/noarch::qtconsole-4.7.5-py_0\n",
      "  rtree              pkgs/main/osx-64::rtree-0.9.4-py37_1\n",
      "  scikit-learn       pkgs/main/osx-64::scikit-learn-0.22.1-py37h27c97d8_0\n",
      "  ujson              pkgs/main/osx-64::ujson-1.35-py37h1de35cc_0\n",
      "  watchdog           pkgs/main/osx-64::watchdog-0.10.2-py37h1de35cc_0\n",
      "  yapf               pkgs/main/noarch::yapf-0.29.0-py_0\n",
      "\n",
      "The following packages will be UPDATED:\n",
      "\n",
      "  ca-certificates                               2019.8.28-0 --> 2020.1.1-0\n",
      "  certifi             conda-forge::certifi-2019.9.11-py37_0 --> pkgs/main::certifi-2020.6.20-py37_0\n",
      "  openssl                                 1.1.1d-h1de35cc_2 --> 1.1.1g-h1de35cc_0\n",
      "\n",
      "The following packages will be SUPERSEDED by a higher-priority channel:\n",
      "\n",
      "  conda              conda-forge::conda-4.8.3-py37hc8dfbb8~ --> pkgs/main::conda-4.8.3-py37_0\n",
      "\n",
      "The following packages will be DOWNGRADED:\n",
      "\n",
      "  anaconda                                   2019.10-py37_0 --> custom-py37_1\n",
      "\n",
      "\n",
      "Proceed ([y]/n)? "
     ]
    }
   ],
   "source": [
    "!conda install scikit-learn=0.22"
   ]
  },
  {
   "cell_type": "code",
   "execution_count": 7,
   "metadata": {},
   "outputs": [
    {
     "name": "stdout",
     "output_type": "stream",
     "text": [
      "/Users/luyu/opt/anaconda3/bin/python\n"
     ]
    }
   ],
   "source": [
    "!which python"
   ]
  },
  {
   "cell_type": "code",
   "execution_count": 9,
   "metadata": {},
   "outputs": [],
   "source": [
    "import six"
   ]
  },
  {
   "cell_type": "code",
   "execution_count": null,
   "metadata": {},
   "outputs": [],
   "source": [
    "import imbalanced-learn"
   ]
  }
 ],
 "metadata": {
  "kernelspec": {
   "display_name": "Python 3",
   "language": "python",
   "name": "python3"
  },
  "language_info": {
   "codemirror_mode": {
    "name": "ipython",
    "version": 3
   },
   "file_extension": ".py",
   "mimetype": "text/x-python",
   "name": "python",
   "nbconvert_exporter": "python",
   "pygments_lexer": "ipython3",
   "version": "3.8.1"
  }
 },
 "nbformat": 4,
 "nbformat_minor": 4
}
