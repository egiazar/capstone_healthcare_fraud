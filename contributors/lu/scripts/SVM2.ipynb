{
 "cells": [
  {
   "cell_type": "code",
   "execution_count": 1,
   "metadata": {},
   "outputs": [
    {
     "name": "stderr",
     "output_type": "stream",
     "text": [
      "/Users/luyu/opt/anaconda3/lib/python3.7/site-packages/statsmodels/tools/_testing.py:19: FutureWarning: pandas.util.testing is deprecated. Use the functions in the public API at pandas.testing instead.\n",
      "  import pandas.util.testing as tm\n",
      "/Users/luyu/opt/anaconda3/lib/python3.7/site-packages/sklearn/utils/deprecation.py:143: FutureWarning: The sklearn.neighbors.base module is  deprecated in version 0.22 and will be removed in version 0.24. The corresponding classes / functions should instead be imported from sklearn.neighbors. Anything that cannot be imported from sklearn.neighbors is now part of the private API.\n",
      "  warnings.warn(message, FutureWarning)\n"
     ]
    }
   ],
   "source": [
    "## Packages\n",
    "# system\n",
    "import os\n",
    "import math\n",
    "# data wrangling\n",
    "import numpy as np\n",
    "import pandas as pd\n",
    "from scipy import stats\n",
    "from dfply import *\n",
    "import statistics\n",
    "# plotting\n",
    "import matplotlib.pyplot as plt\n",
    "import seaborn as sns\n",
    "# models\n",
    "from sklearn.model_selection import GridSearchCV, RandomizedSearchCV, train_test_split, KFold, StratifiedKFold, cross_val_score \n",
    "from sklearn.ensemble import RandomForestClassifier, GradientBoostingClassifier\n",
    "from sklearn.linear_model import LogisticRegression\n",
    "from sklearn.metrics import confusion_matrix, classification_report, recall_score, make_scorer, accuracy_score, balanced_accuracy_score, f1_score, precision_score, roc_auc_score\n",
    "from sklearn.preprocessing import normalize, StandardScaler\n",
    "from imblearn.over_sampling import SMOTE\n",
    "from sklearn.svm import SVC\n",
    "## Settings\n",
    "%matplotlib inline\n",
    "pd.set_option('display.max_columns', None)\n",
    "pd.set_option('display.max_rows', None) \n",
    "pd.set_option('display.width', 1000)"
   ]
  },
  {
   "cell_type": "markdown",
   "metadata": {},
   "source": [
    "## Data Import"
   ]
  },
  {
   "cell_type": "code",
   "execution_count": 2,
   "metadata": {},
   "outputs": [
    {
     "data": {
      "text/plain": [
       "(5410, 46)"
      ]
     },
     "metadata": {},
     "output_type": "display_data"
    },
    {
     "name": "stdout",
     "output_type": "stream",
     "text": [
      "['PotentialFraud', 'Serves', 'DupClaim_IP', 'DupClaimMultiState_IP', 'DupClaimMultiProvider_IP', 'DupClaimMultiStartDt_IP', 'DupClaim_OP', 'DupClaimMultiState_OP', 'DupClaimMultiProvider_OP', 'DupClaimMultiStartDt_OP']\n"
     ]
    },
    {
     "data": {
      "text/plain": [
       "(5410, 47)"
      ]
     },
     "metadata": {},
     "output_type": "display_data"
    }
   ],
   "source": [
    "df = pd.read_csv('../processed_data/provider_final_new.csv')\n",
    "df.drop(['Unnamed: 0'], axis=1, inplace=True)\n",
    "df = df.set_index('Provider')\n",
    "display(df.shape)\n",
    "\n",
    "# Make dummies\n",
    "encode_cols = df[~df.applymap(np.isreal)].dropna(axis=1).columns.to_list()\n",
    "print(encode_cols)\n",
    "df[encode_cols[2:]] = df[encode_cols[2:]].applymap(lambda x: 1 if x.lower() == 'yes' else 0)\n",
    "dummies = pd.get_dummies(df['Serves'],prefix='Serves_',drop_first=True)\n",
    "df_dum = pd.concat([df.drop('Serves',axis=1),dummies],axis=1)\n",
    "display(df_dum.shape)\n",
    "\n",
    "# this is for pos_label for precision & recall for gridsearchcv\n",
    "df_dum['PotentialFraud'] = np.where(df_dum['PotentialFraud']=='Yes', 1, 0)"
   ]
  },
  {
   "cell_type": "markdown",
   "metadata": {},
   "source": [
    "## SVM"
   ]
  },
  {
   "cell_type": "markdown",
   "metadata": {},
   "source": [
    "### train-test-split"
   ]
  },
  {
   "cell_type": "code",
   "execution_count": 4,
   "metadata": {},
   "outputs": [
    {
     "name": "stderr",
     "output_type": "stream",
     "text": [
      "/Users/luyu/opt/anaconda3/lib/python3.7/site-packages/sklearn/utils/deprecation.py:86: FutureWarning: Function safe_indexing is deprecated; safe_indexing is deprecated in version 0.22 and will be removed in version 0.24.\n",
      "  warnings.warn(msg, category=FutureWarning)\n"
     ]
    }
   ],
   "source": [
    "# remove Duration MedianIP\n",
    "df_dum_drop = df_dum.drop(['DurationMedianIP'], axis=1)\n",
    "\n",
    "# train-test-split\n",
    "x = df_dum_drop.drop(['PotentialFraud'], axis = 1)\n",
    "y = df_dum_drop.PotentialFraud\n",
    "xtrain, xtest, ytrain, ytest = train_test_split(x, y, test_size=0.2, random_state=4, stratify=y)\n",
    "\n",
    "# upsampling by SMOTE\n",
    "sm = SMOTE(random_state=4)\n",
    "xtrain, ytrain = sm.fit_sample(xtrain, ytrain)"
   ]
  },
  {
   "cell_type": "code",
   "execution_count": null,
   "metadata": {
    "scrolled": true
   },
   "outputs": [
    {
     "name": "stdout",
     "output_type": "stream",
     "text": [
      "Fitting 10 folds for each of 3 candidates, totalling 30 fits\n",
      "[CV] C=0.1, kernel=linear ............................................\n"
     ]
    },
    {
     "name": "stderr",
     "output_type": "stream",
     "text": [
      "[Parallel(n_jobs=1)]: Using backend SequentialBackend with 1 concurrent workers.\n"
     ]
    }
   ],
   "source": [
    "svc = SVC()\n",
    "\n",
    "# svc_params = [{'kernel':['linear', 'poly', 'rbf'], 'C':[0.1, 1, 10] , 'degree':[2,3,4]}]\n",
    "svc_params = [{'kernel':['linear'], 'C':[0.1, 1, 10]}]\n",
    "# svc_params = [{'kernel':['poly', 'rbf'], 'C':[0.1, 1, 10], 'degree':[3,4,5]}]\n",
    "\n",
    "kf = StratifiedKFold(n_splits = 10, shuffle = True, random_state = 4) # cv = 5\n",
    "\n",
    "scores = { 'recall': make_scorer(recall_score, pos_label = 1, average = 'binary'), \n",
    "          'f1': make_scorer(f1_score, pos_label = 1, average = 'binary'), # use binary not weighted\n",
    "         'precision': make_scorer(precision_score, pos_label = 1, average = 'binary'),\n",
    "         'accuracy': make_scorer(accuracy_score), # not use balanced_accurarcy_score\n",
    "         'specificity': make_scorer(recall_score, pos_label = 0, average = 'binary'), \n",
    "         'roc_auc_score': make_scorer(roc_auc_score, average = 'macro')\n",
    "         }\n",
    "\n",
    "\n",
    "svc_grid_ln = GridSearchCV(estimator=svc, param_grid=svc_params, return_train_score=True, \n",
    "                       cv = kf, verbose=2, scoring=scores, refit=False)\n",
    "\n",
    "%time svc_grid_ln.fit(xtrain, ytrain)"
   ]
  },
  {
   "cell_type": "code",
   "execution_count": null,
   "metadata": {},
   "outputs": [],
   "source": []
  }
 ],
 "metadata": {
  "kernelspec": {
   "display_name": "Python 3",
   "language": "python",
   "name": "python3"
  },
  "language_info": {
   "codemirror_mode": {
    "name": "ipython",
    "version": 3
   },
   "file_extension": ".py",
   "mimetype": "text/x-python",
   "name": "python",
   "nbconvert_exporter": "python",
   "pygments_lexer": "ipython3",
   "version": "3.7.4"
  }
 },
 "nbformat": 4,
 "nbformat_minor": 4
}
