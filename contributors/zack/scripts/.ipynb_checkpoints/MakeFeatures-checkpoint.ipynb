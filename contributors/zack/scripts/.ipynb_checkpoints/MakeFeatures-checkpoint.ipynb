{
 "cells": [
  {
   "cell_type": "code",
   "execution_count": 114,
   "metadata": {},
   "outputs": [],
   "source": [
    "import numpy as np\n",
    "import pandas as pd\n",
    "import matplotlib.pyplot as plt\n",
    "import seaborn as sns\n",
    "from dateutil.relativedelta import relativedelta\n",
    "from datetime import datetime\n",
    "\n",
    "pd.set_option('display.max_columns',None)\n",
    "pd.set_option('display.min_rows',0)\n",
    "pd.set_option('display.max_rows',None)"
   ]
  },
  {
   "cell_type": "code",
   "execution_count": 115,
   "metadata": {},
   "outputs": [],
   "source": [
    "ip = pd.read_csv('../processed_data/ip_pt_pro.csv')\n",
    "op = pd.read_csv('../processed_data/op_pt_pro.csv')\n",
    "flags = pd.read_csv('../../../raw_data/Train-1542865627584.csv')"
   ]
  },
  {
   "cell_type": "code",
   "execution_count": 116,
   "metadata": {},
   "outputs": [
    {
     "data": {
      "text/html": [
       "<div>\n",
       "<style scoped>\n",
       "    .dataframe tbody tr th:only-of-type {\n",
       "        vertical-align: middle;\n",
       "    }\n",
       "\n",
       "    .dataframe tbody tr th {\n",
       "        vertical-align: top;\n",
       "    }\n",
       "\n",
       "    .dataframe thead th {\n",
       "        text-align: right;\n",
       "    }\n",
       "</style>\n",
       "<table border=\"1\" class=\"dataframe\">\n",
       "  <thead>\n",
       "    <tr style=\"text-align: right;\">\n",
       "      <th></th>\n",
       "      <th>Unnamed: 0</th>\n",
       "      <th>BeneID</th>\n",
       "      <th>ClaimID</th>\n",
       "      <th>ClaimStartDt</th>\n",
       "      <th>ClaimEndDt</th>\n",
       "      <th>Provider</th>\n",
       "      <th>InscClaimAmtReimbursed</th>\n",
       "      <th>AttendingPhysician</th>\n",
       "      <th>OperatingPhysician</th>\n",
       "      <th>OtherPhysician</th>\n",
       "      <th>AdmissionDt</th>\n",
       "      <th>ClmAdmitDiagnosisCode</th>\n",
       "      <th>DeductibleAmtPaid</th>\n",
       "      <th>DischargeDt</th>\n",
       "      <th>DiagnosisGroupCode</th>\n",
       "      <th>ClmDiagnosisCode_1</th>\n",
       "      <th>ClmDiagnosisCode_2</th>\n",
       "      <th>ClmDiagnosisCode_3</th>\n",
       "      <th>ClmDiagnosisCode_4</th>\n",
       "      <th>ClmDiagnosisCode_5</th>\n",
       "      <th>ClmDiagnosisCode_6</th>\n",
       "      <th>ClmDiagnosisCode_7</th>\n",
       "      <th>ClmDiagnosisCode_8</th>\n",
       "      <th>ClmDiagnosisCode_9</th>\n",
       "      <th>ClmDiagnosisCode_10</th>\n",
       "      <th>ClmProcedureCode_1</th>\n",
       "      <th>ClmProcedureCode_2</th>\n",
       "      <th>ClmProcedureCode_3</th>\n",
       "      <th>ClmProcedureCode_4</th>\n",
       "      <th>ClmProcedureCode_5</th>\n",
       "      <th>ClmProcedureCode_6</th>\n",
       "      <th>DOB</th>\n",
       "      <th>DOD</th>\n",
       "      <th>Gender</th>\n",
       "      <th>Race</th>\n",
       "      <th>RenalDiseaseIndicator</th>\n",
       "      <th>State</th>\n",
       "      <th>County</th>\n",
       "      <th>NoOfMonths_PartACov</th>\n",
       "      <th>NoOfMonths_PartBCov</th>\n",
       "      <th>ChronicCond_Alzheimer</th>\n",
       "      <th>ChronicCond_Heartfailure</th>\n",
       "      <th>ChronicCond_KidneyDisease</th>\n",
       "      <th>ChronicCond_Cancer</th>\n",
       "      <th>ChronicCond_ObstrPulmonary</th>\n",
       "      <th>ChronicCond_Depression</th>\n",
       "      <th>ChronicCond_Diabetes</th>\n",
       "      <th>ChronicCond_IschemicHeart</th>\n",
       "      <th>ChronicCond_Osteoporasis</th>\n",
       "      <th>ChronicCond_rheumatoidarthritis</th>\n",
       "      <th>ChronicCond_stroke</th>\n",
       "      <th>IPAnnualReimbursementAmt</th>\n",
       "      <th>IPAnnualDeductibleAmt</th>\n",
       "      <th>OPAnnualReimbursementAmt</th>\n",
       "      <th>OPAnnualDeductibleAmt</th>\n",
       "      <th>ApproxAge</th>\n",
       "      <th>Diseases</th>\n",
       "      <th>Age</th>\n",
       "      <th>TotalReimbursement</th>\n",
       "      <th>PotentialFraud</th>\n",
       "    </tr>\n",
       "  </thead>\n",
       "  <tbody>\n",
       "    <tr>\n",
       "      <td>0</td>\n",
       "      <td>0</td>\n",
       "      <td>BENE11001</td>\n",
       "      <td>CLM46614</td>\n",
       "      <td>2009-04-12</td>\n",
       "      <td>2009-04-18</td>\n",
       "      <td>PRV55912</td>\n",
       "      <td>26000</td>\n",
       "      <td>PHY390922</td>\n",
       "      <td>NaN</td>\n",
       "      <td>NaN</td>\n",
       "      <td>2009-04-12</td>\n",
       "      <td>7866</td>\n",
       "      <td>1068.0</td>\n",
       "      <td>2009-04-18</td>\n",
       "      <td>201</td>\n",
       "      <td>1970</td>\n",
       "      <td>4019</td>\n",
       "      <td>5853</td>\n",
       "      <td>7843</td>\n",
       "      <td>2768</td>\n",
       "      <td>71590</td>\n",
       "      <td>2724</td>\n",
       "      <td>19889</td>\n",
       "      <td>5849</td>\n",
       "      <td>NaN</td>\n",
       "      <td>NaN</td>\n",
       "      <td>NaN</td>\n",
       "      <td>NaN</td>\n",
       "      <td>NaN</td>\n",
       "      <td>NaN</td>\n",
       "      <td>NaN</td>\n",
       "      <td>1943-01-01</td>\n",
       "      <td>NaN</td>\n",
       "      <td>1</td>\n",
       "      <td>1</td>\n",
       "      <td>0</td>\n",
       "      <td>39</td>\n",
       "      <td>230</td>\n",
       "      <td>12</td>\n",
       "      <td>12</td>\n",
       "      <td>0</td>\n",
       "      <td>1</td>\n",
       "      <td>0</td>\n",
       "      <td>1</td>\n",
       "      <td>1</td>\n",
       "      <td>0</td>\n",
       "      <td>0</td>\n",
       "      <td>0</td>\n",
       "      <td>1</td>\n",
       "      <td>0</td>\n",
       "      <td>0</td>\n",
       "      <td>36000</td>\n",
       "      <td>3204</td>\n",
       "      <td>60</td>\n",
       "      <td>70</td>\n",
       "      <td>66</td>\n",
       "      <td>4</td>\n",
       "      <td>66</td>\n",
       "      <td>27068.0</td>\n",
       "      <td>Yes</td>\n",
       "    </tr>\n",
       "    <tr>\n",
       "      <td>1</td>\n",
       "      <td>1</td>\n",
       "      <td>BENE11001</td>\n",
       "      <td>CLM66048</td>\n",
       "      <td>2009-08-31</td>\n",
       "      <td>2009-09-02</td>\n",
       "      <td>PRV55907</td>\n",
       "      <td>5000</td>\n",
       "      <td>PHY318495</td>\n",
       "      <td>PHY318495</td>\n",
       "      <td>NaN</td>\n",
       "      <td>2009-08-31</td>\n",
       "      <td>6186</td>\n",
       "      <td>1068.0</td>\n",
       "      <td>2009-09-02</td>\n",
       "      <td>750</td>\n",
       "      <td>6186</td>\n",
       "      <td>2948</td>\n",
       "      <td>56400</td>\n",
       "      <td>NaN</td>\n",
       "      <td>NaN</td>\n",
       "      <td>NaN</td>\n",
       "      <td>NaN</td>\n",
       "      <td>NaN</td>\n",
       "      <td>NaN</td>\n",
       "      <td>NaN</td>\n",
       "      <td>7092.0</td>\n",
       "      <td>NaN</td>\n",
       "      <td>NaN</td>\n",
       "      <td>NaN</td>\n",
       "      <td>NaN</td>\n",
       "      <td>NaN</td>\n",
       "      <td>1943-01-01</td>\n",
       "      <td>NaN</td>\n",
       "      <td>1</td>\n",
       "      <td>1</td>\n",
       "      <td>0</td>\n",
       "      <td>39</td>\n",
       "      <td>230</td>\n",
       "      <td>12</td>\n",
       "      <td>12</td>\n",
       "      <td>0</td>\n",
       "      <td>1</td>\n",
       "      <td>0</td>\n",
       "      <td>1</td>\n",
       "      <td>1</td>\n",
       "      <td>0</td>\n",
       "      <td>0</td>\n",
       "      <td>0</td>\n",
       "      <td>1</td>\n",
       "      <td>0</td>\n",
       "      <td>0</td>\n",
       "      <td>36000</td>\n",
       "      <td>3204</td>\n",
       "      <td>60</td>\n",
       "      <td>70</td>\n",
       "      <td>66</td>\n",
       "      <td>4</td>\n",
       "      <td>66</td>\n",
       "      <td>6068.0</td>\n",
       "      <td>No</td>\n",
       "    </tr>\n",
       "    <tr>\n",
       "      <td>2</td>\n",
       "      <td>2</td>\n",
       "      <td>BENE11001</td>\n",
       "      <td>CLM68358</td>\n",
       "      <td>2009-09-17</td>\n",
       "      <td>2009-09-20</td>\n",
       "      <td>PRV56046</td>\n",
       "      <td>5000</td>\n",
       "      <td>PHY372395</td>\n",
       "      <td>NaN</td>\n",
       "      <td>PHY324689</td>\n",
       "      <td>2009-09-17</td>\n",
       "      <td>29590</td>\n",
       "      <td>1068.0</td>\n",
       "      <td>2009-09-20</td>\n",
       "      <td>883</td>\n",
       "      <td>29623</td>\n",
       "      <td>30390</td>\n",
       "      <td>71690</td>\n",
       "      <td>34590</td>\n",
       "      <td>V1581</td>\n",
       "      <td>32723</td>\n",
       "      <td>NaN</td>\n",
       "      <td>NaN</td>\n",
       "      <td>NaN</td>\n",
       "      <td>NaN</td>\n",
       "      <td>NaN</td>\n",
       "      <td>NaN</td>\n",
       "      <td>NaN</td>\n",
       "      <td>NaN</td>\n",
       "      <td>NaN</td>\n",
       "      <td>NaN</td>\n",
       "      <td>1943-01-01</td>\n",
       "      <td>NaN</td>\n",
       "      <td>1</td>\n",
       "      <td>1</td>\n",
       "      <td>0</td>\n",
       "      <td>39</td>\n",
       "      <td>230</td>\n",
       "      <td>12</td>\n",
       "      <td>12</td>\n",
       "      <td>0</td>\n",
       "      <td>1</td>\n",
       "      <td>0</td>\n",
       "      <td>1</td>\n",
       "      <td>1</td>\n",
       "      <td>0</td>\n",
       "      <td>0</td>\n",
       "      <td>0</td>\n",
       "      <td>1</td>\n",
       "      <td>0</td>\n",
       "      <td>0</td>\n",
       "      <td>36000</td>\n",
       "      <td>3204</td>\n",
       "      <td>60</td>\n",
       "      <td>70</td>\n",
       "      <td>66</td>\n",
       "      <td>4</td>\n",
       "      <td>66</td>\n",
       "      <td>6068.0</td>\n",
       "      <td>No</td>\n",
       "    </tr>\n",
       "    <tr>\n",
       "      <td>3</td>\n",
       "      <td>3</td>\n",
       "      <td>BENE11011</td>\n",
       "      <td>CLM38412</td>\n",
       "      <td>2009-02-14</td>\n",
       "      <td>2009-02-22</td>\n",
       "      <td>PRV52405</td>\n",
       "      <td>5000</td>\n",
       "      <td>PHY369659</td>\n",
       "      <td>PHY392961</td>\n",
       "      <td>PHY349768</td>\n",
       "      <td>2009-02-14</td>\n",
       "      <td>431</td>\n",
       "      <td>1068.0</td>\n",
       "      <td>2009-02-22</td>\n",
       "      <td>067</td>\n",
       "      <td>43491</td>\n",
       "      <td>2762</td>\n",
       "      <td>7843</td>\n",
       "      <td>32723</td>\n",
       "      <td>V1041</td>\n",
       "      <td>4254</td>\n",
       "      <td>25062</td>\n",
       "      <td>40390</td>\n",
       "      <td>4019</td>\n",
       "      <td>NaN</td>\n",
       "      <td>331.0</td>\n",
       "      <td>NaN</td>\n",
       "      <td>NaN</td>\n",
       "      <td>NaN</td>\n",
       "      <td>NaN</td>\n",
       "      <td>NaN</td>\n",
       "      <td>1914-03-01</td>\n",
       "      <td>NaN</td>\n",
       "      <td>2</td>\n",
       "      <td>2</td>\n",
       "      <td>0</td>\n",
       "      <td>1</td>\n",
       "      <td>360</td>\n",
       "      <td>12</td>\n",
       "      <td>12</td>\n",
       "      <td>1</td>\n",
       "      <td>0</td>\n",
       "      <td>0</td>\n",
       "      <td>1</td>\n",
       "      <td>1</td>\n",
       "      <td>0</td>\n",
       "      <td>0</td>\n",
       "      <td>1</td>\n",
       "      <td>1</td>\n",
       "      <td>0</td>\n",
       "      <td>0</td>\n",
       "      <td>5000</td>\n",
       "      <td>1068</td>\n",
       "      <td>250</td>\n",
       "      <td>320</td>\n",
       "      <td>94</td>\n",
       "      <td>5</td>\n",
       "      <td>94</td>\n",
       "      <td>6068.0</td>\n",
       "      <td>No</td>\n",
       "    </tr>\n",
       "    <tr>\n",
       "      <td>4</td>\n",
       "      <td>4</td>\n",
       "      <td>BENE11014</td>\n",
       "      <td>CLM63689</td>\n",
       "      <td>2009-08-13</td>\n",
       "      <td>2009-08-30</td>\n",
       "      <td>PRV56614</td>\n",
       "      <td>10000</td>\n",
       "      <td>PHY379376</td>\n",
       "      <td>PHY398258</td>\n",
       "      <td>NaN</td>\n",
       "      <td>2009-08-13</td>\n",
       "      <td>78321</td>\n",
       "      <td>1068.0</td>\n",
       "      <td>2009-08-30</td>\n",
       "      <td>975</td>\n",
       "      <td>042</td>\n",
       "      <td>3051</td>\n",
       "      <td>34400</td>\n",
       "      <td>5856</td>\n",
       "      <td>42732</td>\n",
       "      <td>486</td>\n",
       "      <td>5119</td>\n",
       "      <td>29620</td>\n",
       "      <td>20300</td>\n",
       "      <td>NaN</td>\n",
       "      <td>3893.0</td>\n",
       "      <td>NaN</td>\n",
       "      <td>NaN</td>\n",
       "      <td>NaN</td>\n",
       "      <td>NaN</td>\n",
       "      <td>NaN</td>\n",
       "      <td>1938-04-01</td>\n",
       "      <td>NaN</td>\n",
       "      <td>2</td>\n",
       "      <td>1</td>\n",
       "      <td>1</td>\n",
       "      <td>45</td>\n",
       "      <td>780</td>\n",
       "      <td>12</td>\n",
       "      <td>12</td>\n",
       "      <td>1</td>\n",
       "      <td>0</td>\n",
       "      <td>0</td>\n",
       "      <td>1</td>\n",
       "      <td>0</td>\n",
       "      <td>0</td>\n",
       "      <td>1</td>\n",
       "      <td>0</td>\n",
       "      <td>1</td>\n",
       "      <td>1</td>\n",
       "      <td>1</td>\n",
       "      <td>21260</td>\n",
       "      <td>2136</td>\n",
       "      <td>120</td>\n",
       "      <td>100</td>\n",
       "      <td>70</td>\n",
       "      <td>7</td>\n",
       "      <td>71</td>\n",
       "      <td>11068.0</td>\n",
       "      <td>No</td>\n",
       "    </tr>\n",
       "  </tbody>\n",
       "</table>\n",
       "</div>"
      ],
      "text/plain": [
       "   Unnamed: 0     BeneID   ClaimID ClaimStartDt  ClaimEndDt  Provider  \\\n",
       "0           0  BENE11001  CLM46614   2009-04-12  2009-04-18  PRV55912   \n",
       "1           1  BENE11001  CLM66048   2009-08-31  2009-09-02  PRV55907   \n",
       "2           2  BENE11001  CLM68358   2009-09-17  2009-09-20  PRV56046   \n",
       "3           3  BENE11011  CLM38412   2009-02-14  2009-02-22  PRV52405   \n",
       "4           4  BENE11014  CLM63689   2009-08-13  2009-08-30  PRV56614   \n",
       "\n",
       "   InscClaimAmtReimbursed AttendingPhysician OperatingPhysician  \\\n",
       "0                   26000          PHY390922                NaN   \n",
       "1                    5000          PHY318495          PHY318495   \n",
       "2                    5000          PHY372395                NaN   \n",
       "3                    5000          PHY369659          PHY392961   \n",
       "4                   10000          PHY379376          PHY398258   \n",
       "\n",
       "  OtherPhysician AdmissionDt ClmAdmitDiagnosisCode  DeductibleAmtPaid  \\\n",
       "0            NaN  2009-04-12                  7866             1068.0   \n",
       "1            NaN  2009-08-31                  6186             1068.0   \n",
       "2      PHY324689  2009-09-17                 29590             1068.0   \n",
       "3      PHY349768  2009-02-14                   431             1068.0   \n",
       "4            NaN  2009-08-13                 78321             1068.0   \n",
       "\n",
       "  DischargeDt DiagnosisGroupCode ClmDiagnosisCode_1 ClmDiagnosisCode_2  \\\n",
       "0  2009-04-18                201               1970               4019   \n",
       "1  2009-09-02                750               6186               2948   \n",
       "2  2009-09-20                883              29623              30390   \n",
       "3  2009-02-22                067              43491               2762   \n",
       "4  2009-08-30                975                042               3051   \n",
       "\n",
       "  ClmDiagnosisCode_3 ClmDiagnosisCode_4 ClmDiagnosisCode_5 ClmDiagnosisCode_6  \\\n",
       "0               5853               7843               2768              71590   \n",
       "1              56400                NaN                NaN                NaN   \n",
       "2              71690              34590              V1581              32723   \n",
       "3               7843              32723              V1041               4254   \n",
       "4              34400               5856              42732                486   \n",
       "\n",
       "  ClmDiagnosisCode_7 ClmDiagnosisCode_8 ClmDiagnosisCode_9  \\\n",
       "0               2724              19889               5849   \n",
       "1                NaN                NaN                NaN   \n",
       "2                NaN                NaN                NaN   \n",
       "3              25062              40390               4019   \n",
       "4               5119              29620              20300   \n",
       "\n",
       "  ClmDiagnosisCode_10  ClmProcedureCode_1  ClmProcedureCode_2  \\\n",
       "0                 NaN                 NaN                 NaN   \n",
       "1                 NaN              7092.0                 NaN   \n",
       "2                 NaN                 NaN                 NaN   \n",
       "3                 NaN               331.0                 NaN   \n",
       "4                 NaN              3893.0                 NaN   \n",
       "\n",
       "   ClmProcedureCode_3  ClmProcedureCode_4  ClmProcedureCode_5  \\\n",
       "0                 NaN                 NaN                 NaN   \n",
       "1                 NaN                 NaN                 NaN   \n",
       "2                 NaN                 NaN                 NaN   \n",
       "3                 NaN                 NaN                 NaN   \n",
       "4                 NaN                 NaN                 NaN   \n",
       "\n",
       "   ClmProcedureCode_6         DOB  DOD  Gender  Race  RenalDiseaseIndicator  \\\n",
       "0                 NaN  1943-01-01  NaN       1     1                      0   \n",
       "1                 NaN  1943-01-01  NaN       1     1                      0   \n",
       "2                 NaN  1943-01-01  NaN       1     1                      0   \n",
       "3                 NaN  1914-03-01  NaN       2     2                      0   \n",
       "4                 NaN  1938-04-01  NaN       2     1                      1   \n",
       "\n",
       "   State  County  NoOfMonths_PartACov  NoOfMonths_PartBCov  \\\n",
       "0     39     230                   12                   12   \n",
       "1     39     230                   12                   12   \n",
       "2     39     230                   12                   12   \n",
       "3      1     360                   12                   12   \n",
       "4     45     780                   12                   12   \n",
       "\n",
       "   ChronicCond_Alzheimer  ChronicCond_Heartfailure  ChronicCond_KidneyDisease  \\\n",
       "0                      0                         1                          0   \n",
       "1                      0                         1                          0   \n",
       "2                      0                         1                          0   \n",
       "3                      1                         0                          0   \n",
       "4                      1                         0                          0   \n",
       "\n",
       "   ChronicCond_Cancer  ChronicCond_ObstrPulmonary  ChronicCond_Depression  \\\n",
       "0                   1                           1                       0   \n",
       "1                   1                           1                       0   \n",
       "2                   1                           1                       0   \n",
       "3                   1                           1                       0   \n",
       "4                   1                           0                       0   \n",
       "\n",
       "   ChronicCond_Diabetes  ChronicCond_IschemicHeart  ChronicCond_Osteoporasis  \\\n",
       "0                     0                          0                         1   \n",
       "1                     0                          0                         1   \n",
       "2                     0                          0                         1   \n",
       "3                     0                          1                         1   \n",
       "4                     1                          0                         1   \n",
       "\n",
       "   ChronicCond_rheumatoidarthritis  ChronicCond_stroke  \\\n",
       "0                                0                   0   \n",
       "1                                0                   0   \n",
       "2                                0                   0   \n",
       "3                                0                   0   \n",
       "4                                1                   1   \n",
       "\n",
       "   IPAnnualReimbursementAmt  IPAnnualDeductibleAmt  OPAnnualReimbursementAmt  \\\n",
       "0                     36000                   3204                        60   \n",
       "1                     36000                   3204                        60   \n",
       "2                     36000                   3204                        60   \n",
       "3                      5000                   1068                       250   \n",
       "4                     21260                   2136                       120   \n",
       "\n",
       "   OPAnnualDeductibleAmt  ApproxAge  Diseases  Age  TotalReimbursement  \\\n",
       "0                     70         66         4   66             27068.0   \n",
       "1                     70         66         4   66              6068.0   \n",
       "2                     70         66         4   66              6068.0   \n",
       "3                    320         94         5   94              6068.0   \n",
       "4                    100         70         7   71             11068.0   \n",
       "\n",
       "  PotentialFraud  \n",
       "0            Yes  \n",
       "1             No  \n",
       "2             No  \n",
       "3             No  \n",
       "4             No  "
      ]
     },
     "execution_count": 116,
     "metadata": {},
     "output_type": "execute_result"
    }
   ],
   "source": [
    "ip.head()"
   ]
  },
  {
   "cell_type": "code",
   "execution_count": 117,
   "metadata": {},
   "outputs": [],
   "source": [
    "# Converting dt columns from str to dt\n",
    "\n",
    "def col_to_date(df, col_list) :\n",
    "    for x in col_list:\n",
    "        df[x] = pd.to_datetime(df[x])\n",
    "    return df\n",
    "\n",
    "dtcols_ip = ['ClaimStartDt','ClaimEndDt','AdmissionDt','DischargeDt','DOB']\n",
    "ip = col_to_date(ip, dtcols_ip)\n",
    "\n",
    "dtcols_op = ['ClaimStartDt','ClaimEndDt','DOB']\n",
    "op = col_to_date(op, dtcols_op)"
   ]
  },
  {
   "cell_type": "code",
   "execution_count": 118,
   "metadata": {
    "scrolled": false
   },
   "outputs": [],
   "source": [
    "# Making IP/OP table\n",
    "\n",
    "ip['Kind'] = 'IP'\n",
    "op['Kind'] = 'OP'\n",
    "\n",
    "ipop = pd.concat([ip, op], axis=0, sort=True)"
   ]
  },
  {
   "cell_type": "code",
   "execution_count": 119,
   "metadata": {},
   "outputs": [
    {
     "name": "stdout",
     "output_type": "stream",
     "text": [
      "40474\n",
      "517737\n",
      "558211\n"
     ]
    }
   ],
   "source": [
    "print(len(ip))\n",
    "print(len(op))\n",
    "print(len(ipop))"
   ]
  },
  {
   "cell_type": "code",
   "execution_count": 120,
   "metadata": {},
   "outputs": [
    {
     "data": {
      "text/plain": [
       "558211"
      ]
     },
     "execution_count": 120,
     "metadata": {},
     "output_type": "execute_result"
    }
   ],
   "source": [
    "40474 + 517737"
   ]
  },
  {
   "cell_type": "code",
   "execution_count": null,
   "metadata": {},
   "outputs": [],
   "source": []
  },
  {
   "cell_type": "code",
   "execution_count": null,
   "metadata": {},
   "outputs": [],
   "source": []
  },
  {
   "cell_type": "markdown",
   "metadata": {},
   "source": [
    "## Average Duration"
   ]
  },
  {
   "cell_type": "code",
   "execution_count": 129,
   "metadata": {},
   "outputs": [],
   "source": [
    "# Make duration column\n",
    "\n",
    "ip['Duration'] = (ip['ClaimEndDt']-ip['ClaimStartDt']).dt.days\n",
    "op['Duration'] = (op['ClaimEndDt']-op['ClaimStartDt']).dt.days\n",
    "ipop['Duration'] = (ipop['ClaimEndDt']-ipop['ClaimStartDt']).dt.days"
   ]
  },
  {
   "cell_type": "code",
   "execution_count": 130,
   "metadata": {},
   "outputs": [
    {
     "data": {
      "text/html": [
       "<div>\n",
       "<style scoped>\n",
       "    .dataframe tbody tr th:only-of-type {\n",
       "        vertical-align: middle;\n",
       "    }\n",
       "\n",
       "    .dataframe tbody tr th {\n",
       "        vertical-align: top;\n",
       "    }\n",
       "\n",
       "    .dataframe thead th {\n",
       "        text-align: right;\n",
       "    }\n",
       "</style>\n",
       "<table border=\"1\" class=\"dataframe\">\n",
       "  <thead>\n",
       "    <tr style=\"text-align: right;\">\n",
       "      <th></th>\n",
       "      <th>Provider</th>\n",
       "      <th>DurationMedianIP</th>\n",
       "      <th>DurationMeanIP</th>\n",
       "    </tr>\n",
       "  </thead>\n",
       "  <tbody>\n",
       "    <tr>\n",
       "      <td>0</td>\n",
       "      <td>PRV51001</td>\n",
       "      <td>4.0</td>\n",
       "      <td>5.000000</td>\n",
       "    </tr>\n",
       "    <tr>\n",
       "      <td>1</td>\n",
       "      <td>PRV51003</td>\n",
       "      <td>4.0</td>\n",
       "      <td>5.161290</td>\n",
       "    </tr>\n",
       "    <tr>\n",
       "      <td>2</td>\n",
       "      <td>PRV51007</td>\n",
       "      <td>5.0</td>\n",
       "      <td>5.333333</td>\n",
       "    </tr>\n",
       "    <tr>\n",
       "      <td>3</td>\n",
       "      <td>PRV51008</td>\n",
       "      <td>4.0</td>\n",
       "      <td>4.000000</td>\n",
       "    </tr>\n",
       "    <tr>\n",
       "      <td>4</td>\n",
       "      <td>PRV51011</td>\n",
       "      <td>5.0</td>\n",
       "      <td>5.000000</td>\n",
       "    </tr>\n",
       "  </tbody>\n",
       "</table>\n",
       "</div>"
      ],
      "text/plain": [
       "   Provider  DurationMedianIP  DurationMeanIP\n",
       "0  PRV51001               4.0        5.000000\n",
       "1  PRV51003               4.0        5.161290\n",
       "2  PRV51007               5.0        5.333333\n",
       "3  PRV51008               4.0        4.000000\n",
       "4  PRV51011               5.0        5.000000"
      ]
     },
     "execution_count": 130,
     "metadata": {},
     "output_type": "execute_result"
    }
   ],
   "source": [
    "# Find average per provider\n",
    "\n",
    "feat_duration_ip = ip.groupby('Provider')['Duration'].agg(['median','mean']).rename(columns={'median':'DurationMedianIP', 'mean':'DurationMeanIP'}).reset_index()\n",
    "feat_duration_op = op.groupby('Provider')['Duration'].agg(['median','mean']).rename(columns={'median':'DurationMedianOP', 'mean':'DurationMeanOP'}).reset_index()\n",
    "feat_duration_ipop = ipop.groupby('Provider')['Duration'].agg(['median','mean']).rename(columns={'median':'DurationMedianIP', 'mean':'DurationMeanOP'}).reset_index()\n",
    "feat_duration_ip.head()"
   ]
  },
  {
   "cell_type": "code",
   "execution_count": 126,
   "metadata": {},
   "outputs": [],
   "source": [
    "# Merge w/ flags\n",
    "\n",
    "# feat_duration_ip = feat_duration_ip.merge(flags, how='left', on='Provider')\n",
    "# feat_duration_op = feat_duration_ip.merge(flags, how='left', on='Provider')\n",
    "# feat_duration_ip = feat_duration_ip.merge(flags, how='left', on='Provider')"
   ]
  },
  {
   "cell_type": "code",
   "execution_count": 131,
   "metadata": {},
   "outputs": [
    {
     "data": {
      "image/png": "[encoded data removed]",
      "text/plain": [
       "<Figure size 432x288 with 2 Axes>"
      ]
     },
     "metadata": {
      "needs_background": "light"
     },
     "output_type": "display_data"
    },
    {
     "data": {
      "image/png": "[encoded data removed]",
      "text/plain": [
       "<Figure size 432x288 with 2 Axes>"
      ]
     },
     "metadata": {
      "needs_background": "light"
     },
     "output_type": "display_data"
    }
   ],
   "source": [
    "# Do we need an IP/OP split? Yes.\n",
    "\n",
    "feat_duration_ip.hist()\n",
    "plt.show()\n",
    "\n",
    "feat_duration_op.hist()\n",
    "plt.show()"
   ]
  },
  {
   "cell_type": "code",
   "execution_count": 191,
   "metadata": {},
   "outputs": [
    {
     "name": "stdout",
     "output_type": "stream",
     "text": [
      "5410\n"
     ]
    },
    {
     "data": {
      "text/html": [
       "<div>\n",
       "<style scoped>\n",
       "    .dataframe tbody tr th:only-of-type {\n",
       "        vertical-align: middle;\n",
       "    }\n",
       "\n",
       "    .dataframe tbody tr th {\n",
       "        vertical-align: top;\n",
       "    }\n",
       "\n",
       "    .dataframe thead th {\n",
       "        text-align: right;\n",
       "    }\n",
       "</style>\n",
       "<table border=\"1\" class=\"dataframe\">\n",
       "  <thead>\n",
       "    <tr style=\"text-align: right;\">\n",
       "      <th></th>\n",
       "      <th>Provider</th>\n",
       "      <th>PotentialFraud</th>\n",
       "      <th>DurationMedianIP</th>\n",
       "      <th>DurationMeanIP</th>\n",
       "      <th>DurationMedianOP</th>\n",
       "      <th>DurationMeanOP</th>\n",
       "    </tr>\n",
       "  </thead>\n",
       "  <tbody>\n",
       "    <tr>\n",
       "      <td>0</td>\n",
       "      <td>PRV51001</td>\n",
       "      <td>No</td>\n",
       "      <td>4.0</td>\n",
       "      <td>5.000000</td>\n",
       "      <td>0.0</td>\n",
       "      <td>0.550000</td>\n",
       "    </tr>\n",
       "    <tr>\n",
       "      <td>1</td>\n",
       "      <td>PRV51003</td>\n",
       "      <td>Yes</td>\n",
       "      <td>4.0</td>\n",
       "      <td>5.161290</td>\n",
       "      <td>0.0</td>\n",
       "      <td>2.357143</td>\n",
       "    </tr>\n",
       "    <tr>\n",
       "      <td>2</td>\n",
       "      <td>PRV51004</td>\n",
       "      <td>No</td>\n",
       "      <td>NaN</td>\n",
       "      <td>NaN</td>\n",
       "      <td>0.0</td>\n",
       "      <td>1.429530</td>\n",
       "    </tr>\n",
       "    <tr>\n",
       "      <td>3</td>\n",
       "      <td>PRV51005</td>\n",
       "      <td>Yes</td>\n",
       "      <td>NaN</td>\n",
       "      <td>NaN</td>\n",
       "      <td>0.0</td>\n",
       "      <td>1.088412</td>\n",
       "    </tr>\n",
       "    <tr>\n",
       "      <td>4</td>\n",
       "      <td>PRV51007</td>\n",
       "      <td>No</td>\n",
       "      <td>5.0</td>\n",
       "      <td>5.333333</td>\n",
       "      <td>0.0</td>\n",
       "      <td>0.768116</td>\n",
       "    </tr>\n",
       "  </tbody>\n",
       "</table>\n",
       "</div>"
      ],
      "text/plain": [
       "   Provider PotentialFraud  DurationMedianIP  DurationMeanIP  \\\n",
       "0  PRV51001             No               4.0        5.000000   \n",
       "1  PRV51003            Yes               4.0        5.161290   \n",
       "2  PRV51004             No               NaN             NaN   \n",
       "3  PRV51005            Yes               NaN             NaN   \n",
       "4  PRV51007             No               5.0        5.333333   \n",
       "\n",
       "   DurationMedianOP  DurationMeanOP  \n",
       "0               0.0        0.550000  \n",
       "1               0.0        2.357143  \n",
       "2               0.0        1.429530  \n",
       "3               0.0        1.088412  \n",
       "4               0.0        0.768116  "
      ]
     },
     "execution_count": 191,
     "metadata": {},
     "output_type": "execute_result"
    }
   ],
   "source": [
    "# Making final feature\n",
    "\n",
    "feat_duration_final = flags.merge(feat_duration_ip, how='left', on='Provider')\n",
    "feat_duration_final = feat_duration_final.merge(feat_duration_op, how='left', on='Provider')\n",
    "\n",
    "print(len(feat_duration_final))\n",
    "feat_duration_final.head()"
   ]
  },
  {
   "cell_type": "code",
   "execution_count": null,
   "metadata": {},
   "outputs": [],
   "source": []
  },
  {
   "cell_type": "code",
   "execution_count": null,
   "metadata": {},
   "outputs": [],
   "source": []
  },
  {
   "cell_type": "markdown",
   "metadata": {},
   "source": [
    "## Hospitals that Serve Both IP and OP"
   ]
  },
  {
   "cell_type": "code",
   "execution_count": 23,
   "metadata": {},
   "outputs": [],
   "source": [
    "# Make list of pros in ip and op separately\n",
    "\n",
    "ip_pros = list(set(ip['Provider']))\n",
    "op_pros = list(set(op['Provider']))"
   ]
  },
  {
   "cell_type": "code",
   "execution_count": 144,
   "metadata": {},
   "outputs": [
    {
     "data": {
      "text/html": [
       "<div>\n",
       "<style scoped>\n",
       "    .dataframe tbody tr th:only-of-type {\n",
       "        vertical-align: middle;\n",
       "    }\n",
       "\n",
       "    .dataframe tbody tr th {\n",
       "        vertical-align: top;\n",
       "    }\n",
       "\n",
       "    .dataframe thead th {\n",
       "        text-align: right;\n",
       "    }\n",
       "</style>\n",
       "<table border=\"1\" class=\"dataframe\">\n",
       "  <thead>\n",
       "    <tr style=\"text-align: right;\">\n",
       "      <th></th>\n",
       "      <th>Provider</th>\n",
       "      <th>Serves</th>\n",
       "    </tr>\n",
       "  </thead>\n",
       "  <tbody>\n",
       "    <tr>\n",
       "      <td>0</td>\n",
       "      <td>PRV55670</td>\n",
       "      <td>IP</td>\n",
       "    </tr>\n",
       "    <tr>\n",
       "      <td>1</td>\n",
       "      <td>PRV51030</td>\n",
       "      <td>Both</td>\n",
       "    </tr>\n",
       "    <tr>\n",
       "      <td>2</td>\n",
       "      <td>PRV57521</td>\n",
       "      <td>Both</td>\n",
       "    </tr>\n",
       "    <tr>\n",
       "      <td>3</td>\n",
       "      <td>PRV51851</td>\n",
       "      <td>Both</td>\n",
       "    </tr>\n",
       "    <tr>\n",
       "      <td>4</td>\n",
       "      <td>PRV57310</td>\n",
       "      <td>Both</td>\n",
       "    </tr>\n",
       "  </tbody>\n",
       "</table>\n",
       "</div>"
      ],
      "text/plain": [
       "   Provider Serves\n",
       "0  PRV55670     IP\n",
       "1  PRV51030   Both\n",
       "2  PRV57521   Both\n",
       "3  PRV51851   Both\n",
       "4  PRV57310   Both"
      ]
     },
     "metadata": {},
     "output_type": "display_data"
    },
    {
     "data": {
      "text/html": [
       "<div>\n",
       "<style scoped>\n",
       "    .dataframe tbody tr th:only-of-type {\n",
       "        vertical-align: middle;\n",
       "    }\n",
       "\n",
       "    .dataframe tbody tr th {\n",
       "        vertical-align: top;\n",
       "    }\n",
       "\n",
       "    .dataframe thead th {\n",
       "        text-align: right;\n",
       "    }\n",
       "</style>\n",
       "<table border=\"1\" class=\"dataframe\">\n",
       "  <thead>\n",
       "    <tr style=\"text-align: right;\">\n",
       "      <th></th>\n",
       "      <th>Provider</th>\n",
       "      <th>Serves</th>\n",
       "    </tr>\n",
       "  </thead>\n",
       "  <tbody>\n",
       "    <tr>\n",
       "      <td>0</td>\n",
       "      <td>PRV57692</td>\n",
       "      <td>OP</td>\n",
       "    </tr>\n",
       "    <tr>\n",
       "      <td>1</td>\n",
       "      <td>PRV56156</td>\n",
       "      <td>Both</td>\n",
       "    </tr>\n",
       "    <tr>\n",
       "      <td>2</td>\n",
       "      <td>PRV54530</td>\n",
       "      <td>OP</td>\n",
       "    </tr>\n",
       "    <tr>\n",
       "      <td>3</td>\n",
       "      <td>PRV54997</td>\n",
       "      <td>Both</td>\n",
       "    </tr>\n",
       "    <tr>\n",
       "      <td>4</td>\n",
       "      <td>PRV52063</td>\n",
       "      <td>Both</td>\n",
       "    </tr>\n",
       "  </tbody>\n",
       "</table>\n",
       "</div>"
      ],
      "text/plain": [
       "   Provider Serves\n",
       "0  PRV57692     OP\n",
       "1  PRV56156   Both\n",
       "2  PRV54530     OP\n",
       "3  PRV54997   Both\n",
       "4  PRV52063   Both"
      ]
     },
     "metadata": {},
     "output_type": "display_data"
    },
    {
     "data": {
      "text/html": [
       "<div>\n",
       "<style scoped>\n",
       "    .dataframe tbody tr th:only-of-type {\n",
       "        vertical-align: middle;\n",
       "    }\n",
       "\n",
       "    .dataframe tbody tr th {\n",
       "        vertical-align: top;\n",
       "    }\n",
       "\n",
       "    .dataframe thead th {\n",
       "        text-align: right;\n",
       "    }\n",
       "</style>\n",
       "<table border=\"1\" class=\"dataframe\">\n",
       "  <thead>\n",
       "    <tr style=\"text-align: right;\">\n",
       "      <th></th>\n",
       "      <th>Provider</th>\n",
       "      <th>Serves</th>\n",
       "      <th>PotentialFraud</th>\n",
       "    </tr>\n",
       "  </thead>\n",
       "  <tbody>\n",
       "    <tr>\n",
       "      <td>0</td>\n",
       "      <td>PRV55670</td>\n",
       "      <td>IP</td>\n",
       "      <td>Yes</td>\n",
       "    </tr>\n",
       "    <tr>\n",
       "      <td>1</td>\n",
       "      <td>PRV51030</td>\n",
       "      <td>Both</td>\n",
       "      <td>No</td>\n",
       "    </tr>\n",
       "    <tr>\n",
       "      <td>2</td>\n",
       "      <td>PRV57521</td>\n",
       "      <td>Both</td>\n",
       "      <td>No</td>\n",
       "    </tr>\n",
       "    <tr>\n",
       "      <td>3</td>\n",
       "      <td>PRV51851</td>\n",
       "      <td>Both</td>\n",
       "      <td>Yes</td>\n",
       "    </tr>\n",
       "    <tr>\n",
       "      <td>4</td>\n",
       "      <td>PRV57310</td>\n",
       "      <td>Both</td>\n",
       "      <td>Yes</td>\n",
       "    </tr>\n",
       "  </tbody>\n",
       "</table>\n",
       "</div>"
      ],
      "text/plain": [
       "   Provider Serves PotentialFraud\n",
       "0  PRV55670     IP            Yes\n",
       "1  PRV51030   Both             No\n",
       "2  PRV57521   Both             No\n",
       "3  PRV51851   Both            Yes\n",
       "4  PRV57310   Both            Yes"
      ]
     },
     "execution_count": 144,
     "metadata": {},
     "output_type": "execute_result"
    }
   ],
   "source": [
    "# Make df with IPs also in OP, and OPs also in IP, and then both!\n",
    "\n",
    "ip_pros_df = pd.DataFrame(ip_pros, columns=['Provider'])\n",
    "ip_pros_tf = ip_pros_df.isin(op_pros)\n",
    "feat_both_ip = pd.concat([ip_pros_df, ip_pros_df.isin(op_pros).rename(columns={'Provider':'Serves'})], axis=1)\n",
    "feat_both_ip['Serves'] = np.where(feat_both_ip['Serves']==0,'IP','Both')\n",
    "\n",
    "op_pros_df = pd.DataFrame(op_pros, columns=['Provider'])\n",
    "feat_both_op = pd.concat([op_pros_df, op_pros_df.isin(ip_pros).rename(columns={'Provider':'Serves'})], axis=1)\n",
    "feat_both_op['Serves'] = np.where(feat_both_op['Serves']==0,'OP','Both')\n",
    "\n",
    "feat_both_final = pd.concat([feat_both_ip, feat_both_op], axis=0, ignore_index=True).drop_duplicates()\n",
    "feat_both_final = feat_both_final.merge(flags, on='Provider')\n",
    "\n",
    "display(feat_both_ip.head())\n",
    "display(feat_both_op.head())\n",
    "feat_both_final.head()"
   ]
  },
  {
   "cell_type": "code",
   "execution_count": 143,
   "metadata": {},
   "outputs": [
    {
     "name": "stdout",
     "output_type": "stream",
     "text": [
      "2092\n",
      "5012\n",
      "5410\n"
     ]
    }
   ],
   "source": [
    "print(len(feat_both_ip))\n",
    "print(len(feat_both_op))\n",
    "print(len(feat_both_final))"
   ]
  },
  {
   "cell_type": "code",
   "execution_count": null,
   "metadata": {},
   "outputs": [],
   "source": []
  },
  {
   "cell_type": "code",
   "execution_count": null,
   "metadata": {},
   "outputs": [],
   "source": []
  },
  {
   "cell_type": "markdown",
   "metadata": {},
   "source": [
    "## Number of Chronic Conditions per Pt"
   ]
  },
  {
   "cell_type": "code",
   "execution_count": 145,
   "metadata": {},
   "outputs": [
    {
     "data": {
      "text/html": [
       "<div>\n",
       "<style scoped>\n",
       "    .dataframe tbody tr th:only-of-type {\n",
       "        vertical-align: middle;\n",
       "    }\n",
       "\n",
       "    .dataframe tbody tr th {\n",
       "        vertical-align: top;\n",
       "    }\n",
       "\n",
       "    .dataframe thead th {\n",
       "        text-align: right;\n",
       "    }\n",
       "</style>\n",
       "<table border=\"1\" class=\"dataframe\">\n",
       "  <thead>\n",
       "    <tr style=\"text-align: right;\">\n",
       "      <th></th>\n",
       "      <th>Provider</th>\n",
       "      <th>ChronCondsMedianIP</th>\n",
       "      <th>ChronCondsMeanIP</th>\n",
       "      <th>ChronConsModeIP</th>\n",
       "    </tr>\n",
       "  </thead>\n",
       "  <tbody>\n",
       "    <tr>\n",
       "      <td>0</td>\n",
       "      <td>PRV51001</td>\n",
       "      <td>5.0</td>\n",
       "      <td>5.400000</td>\n",
       "      <td>5</td>\n",
       "    </tr>\n",
       "    <tr>\n",
       "      <td>1</td>\n",
       "      <td>PRV51003</td>\n",
       "      <td>6.5</td>\n",
       "      <td>6.354839</td>\n",
       "      <td>7</td>\n",
       "    </tr>\n",
       "    <tr>\n",
       "      <td>2</td>\n",
       "      <td>PRV51007</td>\n",
       "      <td>6.0</td>\n",
       "      <td>5.666667</td>\n",
       "      <td>6</td>\n",
       "    </tr>\n",
       "    <tr>\n",
       "      <td>3</td>\n",
       "      <td>PRV51008</td>\n",
       "      <td>7.5</td>\n",
       "      <td>7.500000</td>\n",
       "      <td>[7, 8]</td>\n",
       "    </tr>\n",
       "    <tr>\n",
       "      <td>4</td>\n",
       "      <td>PRV51011</td>\n",
       "      <td>5.0</td>\n",
       "      <td>5.000000</td>\n",
       "      <td>5</td>\n",
       "    </tr>\n",
       "  </tbody>\n",
       "</table>\n",
       "</div>"
      ],
      "text/plain": [
       "   Provider  ChronCondsMedianIP  ChronCondsMeanIP ChronConsModeIP\n",
       "0  PRV51001                 5.0          5.400000               5\n",
       "1  PRV51003                 6.5          6.354839               7\n",
       "2  PRV51007                 6.0          5.666667               6\n",
       "3  PRV51008                 7.5          7.500000          [7, 8]\n",
       "4  PRV51011                 5.0          5.000000               5"
      ]
     },
     "execution_count": 145,
     "metadata": {},
     "output_type": "execute_result"
    }
   ],
   "source": [
    "feat_conditions_ip = ip.groupby('Provider')['Diseases'].agg(['median','mean']).rename(columns={'median':'ChronCondsMedianIP', 'mean':'ChronCondsMeanIP'})\n",
    "feat_conditions_ip['ChronConsModeIP'] = ip.groupby('Provider')['Diseases'].agg(pd.Series.mode)\n",
    "feat_conditions_ip.reset_index(inplace=True)\n",
    "\n",
    "feat_conditions_op = op.groupby('Provider')['Diseases'].agg(['median','mean']).rename(columns={'median':'ChronCondsMedianOP', 'mean':'ChronCondsMeanOP'})\n",
    "feat_conditions_op['ChronConsModeOP'] = op.groupby('Provider')['Diseases'].agg(lambda x:x.value_counts().index[0])\n",
    "feat_conditions_op.reset_index(inplace=True)\n",
    "\n",
    "feat_conditions_ipop = ipop.groupby('Provider')['Diseases'].agg(['median','mean']).rename(columns={'median':'ChronCondsMedian', 'mean':'ChronCondsMean'})\n",
    "feat_conditions_ipop['ChronConsMode'] = ipop.groupby('Provider')['Diseases'].agg(pd.Series.mode)\n",
    "feat_conditions_ipop.reset_index(inplace=True)\n",
    "\n",
    "feat_conditions_ip.head()"
   ]
  },
  {
   "cell_type": "code",
   "execution_count": 181,
   "metadata": {},
   "outputs": [
    {
     "data": {
      "image/png": "[encoded data removed]",
      "text/plain": [
       "<Figure size 432x288 with 2 Axes>"
      ]
     },
     "metadata": {
      "needs_background": "light"
     },
     "output_type": "display_data"
    },
    {
     "data": {
      "image/png": "[encoded data removed]",
      "text/plain": [
       "<Figure size 432x288 with 4 Axes>"
      ]
     },
     "metadata": {
      "needs_background": "light"
     },
     "output_type": "display_data"
    }
   ],
   "source": [
    "# Do we need an IP/OP split? No.\n",
    "\n",
    "feat_conditions_ip.hist()\n",
    "plt.show()\n",
    "\n",
    "feat_conditions_op.hist()\n",
    "plt.show()"
   ]
  },
  {
   "cell_type": "code",
   "execution_count": 190,
   "metadata": {},
   "outputs": [
    {
     "name": "stdout",
     "output_type": "stream",
     "text": [
      "5410\n"
     ]
    },
    {
     "data": {
      "text/html": [
       "<div>\n",
       "<style scoped>\n",
       "    .dataframe tbody tr th:only-of-type {\n",
       "        vertical-align: middle;\n",
       "    }\n",
       "\n",
       "    .dataframe tbody tr th {\n",
       "        vertical-align: top;\n",
       "    }\n",
       "\n",
       "    .dataframe thead th {\n",
       "        text-align: right;\n",
       "    }\n",
       "</style>\n",
       "<table border=\"1\" class=\"dataframe\">\n",
       "  <thead>\n",
       "    <tr style=\"text-align: right;\">\n",
       "      <th></th>\n",
       "      <th>Provider</th>\n",
       "      <th>PotentialFraud</th>\n",
       "      <th>ChronCondsMedian</th>\n",
       "      <th>ChronCondsMean</th>\n",
       "      <th>ChronConsMode</th>\n",
       "    </tr>\n",
       "  </thead>\n",
       "  <tbody>\n",
       "    <tr>\n",
       "      <td>0</td>\n",
       "      <td>PRV51001</td>\n",
       "      <td>No</td>\n",
       "      <td>6.0</td>\n",
       "      <td>5.760000</td>\n",
       "      <td>5.000000</td>\n",
       "    </tr>\n",
       "    <tr>\n",
       "      <td>1</td>\n",
       "      <td>PRV51003</td>\n",
       "      <td>Yes</td>\n",
       "      <td>7.0</td>\n",
       "      <td>6.674242</td>\n",
       "      <td>6.000000</td>\n",
       "    </tr>\n",
       "    <tr>\n",
       "      <td>2</td>\n",
       "      <td>PRV51004</td>\n",
       "      <td>No</td>\n",
       "      <td>7.0</td>\n",
       "      <td>6.812081</td>\n",
       "      <td>8.000000</td>\n",
       "    </tr>\n",
       "    <tr>\n",
       "      <td>3</td>\n",
       "      <td>PRV51005</td>\n",
       "      <td>Yes</td>\n",
       "      <td>7.0</td>\n",
       "      <td>6.886695</td>\n",
       "      <td>5.000000</td>\n",
       "    </tr>\n",
       "    <tr>\n",
       "      <td>4</td>\n",
       "      <td>PRV51007</td>\n",
       "      <td>No</td>\n",
       "      <td>7.0</td>\n",
       "      <td>6.986111</td>\n",
       "      <td>6.000000</td>\n",
       "    </tr>\n",
       "    <tr>\n",
       "      <td>5</td>\n",
       "      <td>PRV51008</td>\n",
       "      <td>No</td>\n",
       "      <td>7.0</td>\n",
       "      <td>7.325581</td>\n",
       "      <td>7.000000</td>\n",
       "    </tr>\n",
       "    <tr>\n",
       "      <td>6</td>\n",
       "      <td>PRV51011</td>\n",
       "      <td>No</td>\n",
       "      <td>7.0</td>\n",
       "      <td>6.620690</td>\n",
       "      <td>5.500000</td>\n",
       "    </tr>\n",
       "    <tr>\n",
       "      <td>7</td>\n",
       "      <td>PRV51012</td>\n",
       "      <td>No</td>\n",
       "      <td>6.5</td>\n",
       "      <td>6.520833</td>\n",
       "      <td>4.000000</td>\n",
       "    </tr>\n",
       "    <tr>\n",
       "      <td>8</td>\n",
       "      <td>PRV51013</td>\n",
       "      <td>No</td>\n",
       "      <td>7.0</td>\n",
       "      <td>6.826087</td>\n",
       "      <td>8.000000</td>\n",
       "    </tr>\n",
       "    <tr>\n",
       "      <td>9</td>\n",
       "      <td>PRV51014</td>\n",
       "      <td>No</td>\n",
       "      <td>7.0</td>\n",
       "      <td>6.933333</td>\n",
       "      <td>6.333333</td>\n",
       "    </tr>\n",
       "  </tbody>\n",
       "</table>\n",
       "</div>"
      ],
      "text/plain": [
       "   Provider PotentialFraud  ChronCondsMedian  ChronCondsMean  ChronConsMode\n",
       "0  PRV51001             No               6.0        5.760000       5.000000\n",
       "1  PRV51003            Yes               7.0        6.674242       6.000000\n",
       "2  PRV51004             No               7.0        6.812081       8.000000\n",
       "3  PRV51005            Yes               7.0        6.886695       5.000000\n",
       "4  PRV51007             No               7.0        6.986111       6.000000\n",
       "5  PRV51008             No               7.0        7.325581       7.000000\n",
       "6  PRV51011             No               7.0        6.620690       5.500000\n",
       "7  PRV51012             No               6.5        6.520833       4.000000\n",
       "8  PRV51013             No               7.0        6.826087       8.000000\n",
       "9  PRV51014             No               7.0        6.933333       6.333333"
      ]
     },
     "execution_count": 190,
     "metadata": {},
     "output_type": "execute_result"
    }
   ],
   "source": [
    "# Making final feature\n",
    "\n",
    "feat_conditions_final = flags.merge(feat_conditions_ipop, how='left', on='Provider')\n",
    "feat_conditions_final['ChronConsMode'] = feat_conditions_final['ChronConsMode']\\\n",
    "    .apply(lambda x: x.mean() if type(x) != np.int64 else x)\n",
    "\n",
    "print(len(feat_conditions_final))\n",
    "feat_conditions_final.head(10)"
   ]
  },
  {
   "cell_type": "code",
   "execution_count": null,
   "metadata": {},
   "outputs": [],
   "source": []
  },
  {
   "cell_type": "code",
   "execution_count": null,
   "metadata": {},
   "outputs": [],
   "source": []
  },
  {
   "cell_type": "markdown",
   "metadata": {},
   "source": [
    "## Average Age of Pt"
   ]
  },
  {
   "cell_type": "code",
   "execution_count": 195,
   "metadata": {},
   "outputs": [
    {
     "data": {
      "text/html": [
       "<div>\n",
       "<style scoped>\n",
       "    .dataframe tbody tr th:only-of-type {\n",
       "        vertical-align: middle;\n",
       "    }\n",
       "\n",
       "    .dataframe tbody tr th {\n",
       "        vertical-align: top;\n",
       "    }\n",
       "\n",
       "    .dataframe thead th {\n",
       "        text-align: right;\n",
       "    }\n",
       "</style>\n",
       "<table border=\"1\" class=\"dataframe\">\n",
       "  <thead>\n",
       "    <tr style=\"text-align: right;\">\n",
       "      <th></th>\n",
       "      <th>Provider</th>\n",
       "      <th>PtAgeMedianIP</th>\n",
       "      <th>PtAgeMeanIP</th>\n",
       "    </tr>\n",
       "  </thead>\n",
       "  <tbody>\n",
       "    <tr>\n",
       "      <td>0</td>\n",
       "      <td>PRV51001</td>\n",
       "      <td>74.0</td>\n",
       "      <td>77.600000</td>\n",
       "    </tr>\n",
       "    <tr>\n",
       "      <td>1</td>\n",
       "      <td>PRV51003</td>\n",
       "      <td>74.0</td>\n",
       "      <td>69.903226</td>\n",
       "    </tr>\n",
       "    <tr>\n",
       "      <td>2</td>\n",
       "      <td>PRV51007</td>\n",
       "      <td>78.0</td>\n",
       "      <td>77.666667</td>\n",
       "    </tr>\n",
       "    <tr>\n",
       "      <td>3</td>\n",
       "      <td>PRV51008</td>\n",
       "      <td>50.5</td>\n",
       "      <td>50.500000</td>\n",
       "    </tr>\n",
       "    <tr>\n",
       "      <td>4</td>\n",
       "      <td>PRV51011</td>\n",
       "      <td>97.0</td>\n",
       "      <td>97.000000</td>\n",
       "    </tr>\n",
       "  </tbody>\n",
       "</table>\n",
       "</div>"
      ],
      "text/plain": [
       "   Provider  PtAgeMedianIP  PtAgeMeanIP\n",
       "0  PRV51001           74.0    77.600000\n",
       "1  PRV51003           74.0    69.903226\n",
       "2  PRV51007           78.0    77.666667\n",
       "3  PRV51008           50.5    50.500000\n",
       "4  PRV51011           97.0    97.000000"
      ]
     },
     "execution_count": 195,
     "metadata": {},
     "output_type": "execute_result"
    }
   ],
   "source": [
    "feat_age_ip = ip.groupby('Provider')['Age'].agg(['median','mean']).rename(columns={'median':'PtAgeMedianIP', 'mean':'PtAgeMeanIP'}).reset_index()\n",
    "feat_age_op = op.groupby('Provider')['Age'].agg(['median','mean']).rename(columns={'median':'PtAgeMedianOP', 'mean':'PtAgeMeanOP'}).reset_index()\n",
    "feat_age_ipop = ipop.groupby('Provider')['Age'].agg(['median','mean']).rename(columns={'median':'PtAgeMedian', 'mean':'PtAgeMean'}).reset_index()\n",
    "feat_age_ip.head()\n"
   ]
  },
  {
   "cell_type": "code",
   "execution_count": 196,
   "metadata": {},
   "outputs": [
    {
     "data": {
      "image/png": "[encoded data removed]",
      "text/plain": [
       "<Figure size 432x288 with 2 Axes>"
      ]
     },
     "metadata": {
      "needs_background": "light"
     },
     "output_type": "display_data"
    },
    {
     "data": {
      "image/png": "[encoded data removed]",
      "text/plain": [
       "<Figure size 432x288 with 2 Axes>"
      ]
     },
     "metadata": {
      "needs_background": "light"
     },
     "output_type": "display_data"
    }
   ],
   "source": [
    "# Do we need an IP/OP split? No.\n",
    "\n",
    "feat_age_ip.hist()\n",
    "plt.show()\n",
    "\n",
    "feat_age_op.hist()\n",
    "plt.show()"
   ]
  },
  {
   "cell_type": "code",
   "execution_count": 189,
   "metadata": {},
   "outputs": [
    {
     "name": "stdout",
     "output_type": "stream",
     "text": [
      "5410\n"
     ]
    },
    {
     "data": {
      "text/html": [
       "<div>\n",
       "<style scoped>\n",
       "    .dataframe tbody tr th:only-of-type {\n",
       "        vertical-align: middle;\n",
       "    }\n",
       "\n",
       "    .dataframe tbody tr th {\n",
       "        vertical-align: top;\n",
       "    }\n",
       "\n",
       "    .dataframe thead th {\n",
       "        text-align: right;\n",
       "    }\n",
       "</style>\n",
       "<table border=\"1\" class=\"dataframe\">\n",
       "  <thead>\n",
       "    <tr style=\"text-align: right;\">\n",
       "      <th></th>\n",
       "      <th>Provider</th>\n",
       "      <th>PotentialFraud</th>\n",
       "      <th>PtAgeMedian</th>\n",
       "      <th>PtAgeMean</th>\n",
       "    </tr>\n",
       "  </thead>\n",
       "  <tbody>\n",
       "    <tr>\n",
       "      <td>0</td>\n",
       "      <td>PRV51001</td>\n",
       "      <td>No</td>\n",
       "      <td>79.0</td>\n",
       "      <td>77.880000</td>\n",
       "    </tr>\n",
       "    <tr>\n",
       "      <td>1</td>\n",
       "      <td>PRV51003</td>\n",
       "      <td>Yes</td>\n",
       "      <td>71.0</td>\n",
       "      <td>69.083333</td>\n",
       "    </tr>\n",
       "    <tr>\n",
       "      <td>2</td>\n",
       "      <td>PRV51004</td>\n",
       "      <td>No</td>\n",
       "      <td>72.0</td>\n",
       "      <td>71.261745</td>\n",
       "    </tr>\n",
       "    <tr>\n",
       "      <td>3</td>\n",
       "      <td>PRV51005</td>\n",
       "      <td>Yes</td>\n",
       "      <td>70.0</td>\n",
       "      <td>69.526180</td>\n",
       "    </tr>\n",
       "    <tr>\n",
       "      <td>4</td>\n",
       "      <td>PRV51007</td>\n",
       "      <td>No</td>\n",
       "      <td>69.5</td>\n",
       "      <td>68.305556</td>\n",
       "    </tr>\n",
       "  </tbody>\n",
       "</table>\n",
       "</div>"
      ],
      "text/plain": [
       "   Provider PotentialFraud  PtAgeMedian  PtAgeMean\n",
       "0  PRV51001             No         79.0  77.880000\n",
       "1  PRV51003            Yes         71.0  69.083333\n",
       "2  PRV51004             No         72.0  71.261745\n",
       "3  PRV51005            Yes         70.0  69.526180\n",
       "4  PRV51007             No         69.5  68.305556"
      ]
     },
     "execution_count": 189,
     "metadata": {},
     "output_type": "execute_result"
    }
   ],
   "source": [
    "# Making final feature\n",
    "\n",
    "feat_age_final = flags.merge(feat_age_ipop, how='left', on='Provider')\n",
    "print(len(feat_age_final))\n",
    "feat_age_final.head()"
   ]
  },
  {
   "cell_type": "code",
   "execution_count": null,
   "metadata": {},
   "outputs": [],
   "source": []
  },
  {
   "cell_type": "code",
   "execution_count": null,
   "metadata": {},
   "outputs": [],
   "source": []
  },
  {
   "cell_type": "code",
   "execution_count": null,
   "metadata": {},
   "outputs": [],
   "source": []
  },
  {
   "cell_type": "markdown",
   "metadata": {},
   "source": [
    "## Number of Pts"
   ]
  },
  {
   "cell_type": "code",
   "execution_count": 198,
   "metadata": {},
   "outputs": [
    {
     "data": {
      "text/html": [
       "<div>\n",
       "<style scoped>\n",
       "    .dataframe tbody tr th:only-of-type {\n",
       "        vertical-align: middle;\n",
       "    }\n",
       "\n",
       "    .dataframe tbody tr th {\n",
       "        vertical-align: top;\n",
       "    }\n",
       "\n",
       "    .dataframe thead th {\n",
       "        text-align: right;\n",
       "    }\n",
       "</style>\n",
       "<table border=\"1\" class=\"dataframe\">\n",
       "  <thead>\n",
       "    <tr style=\"text-align: right;\">\n",
       "      <th></th>\n",
       "      <th>Provider</th>\n",
       "      <th>NumPtsIP</th>\n",
       "    </tr>\n",
       "  </thead>\n",
       "  <tbody>\n",
       "    <tr>\n",
       "      <td>0</td>\n",
       "      <td>PRV51001</td>\n",
       "      <td>5</td>\n",
       "    </tr>\n",
       "    <tr>\n",
       "      <td>1</td>\n",
       "      <td>PRV51003</td>\n",
       "      <td>53</td>\n",
       "    </tr>\n",
       "    <tr>\n",
       "      <td>2</td>\n",
       "      <td>PRV51007</td>\n",
       "      <td>3</td>\n",
       "    </tr>\n",
       "    <tr>\n",
       "      <td>3</td>\n",
       "      <td>PRV51008</td>\n",
       "      <td>2</td>\n",
       "    </tr>\n",
       "    <tr>\n",
       "      <td>4</td>\n",
       "      <td>PRV51011</td>\n",
       "      <td>1</td>\n",
       "    </tr>\n",
       "  </tbody>\n",
       "</table>\n",
       "</div>"
      ],
      "text/plain": [
       "   Provider  NumPtsIP\n",
       "0  PRV51001         5\n",
       "1  PRV51003        53\n",
       "2  PRV51007         3\n",
       "3  PRV51008         2\n",
       "4  PRV51011         1"
      ]
     },
     "execution_count": 198,
     "metadata": {},
     "output_type": "execute_result"
    }
   ],
   "source": [
    "feat_patients_ip = pd.DataFrame(ip.groupby('Provider')['BeneID'].nunique()).rename(columns={'BeneID':'NumPtsIP'}).reset_index()\n",
    "feat_patients_op = pd.DataFrame(op.groupby('Provider')['BeneID'].nunique()).rename(columns={'BeneID':'NumPtsOP'}).reset_index()\n",
    "feat_patients_ipop = pd.DataFrame(op.groupby('Provider')['BeneID'].nunique()).rename(columns={'BeneID':'NumPts'}).reset_index()\n",
    "feat_patients_ip.head()"
   ]
  },
  {
   "cell_type": "code",
   "execution_count": 251,
   "metadata": {},
   "outputs": [
    {
     "data": {
      "image/png": "[encoded data removed]",
      "text/plain": [
       "<Figure size 432x288 with 1 Axes>"
      ]
     },
     "metadata": {
      "needs_background": "light"
     },
     "output_type": "display_data"
    },
    {
     "data": {
      "image/png": "[encoded data removed]",
      "text/plain": [
       "<Figure size 432x288 with 1 Axes>"
      ]
     },
     "metadata": {
      "needs_background": "light"
     },
     "output_type": "display_data"
    }
   ],
   "source": [
    "# Do we need an IP/OP split? Yes.\n",
    "\n",
    "feat_patients_ip.hist()\n",
    "plt.show()\n",
    "\n",
    "feat_patients_op.hist()\n",
    "plt.show()"
   ]
  },
  {
   "cell_type": "code",
   "execution_count": 252,
   "metadata": {},
   "outputs": [
    {
     "name": "stdout",
     "output_type": "stream",
     "text": [
      "5410\n"
     ]
    },
    {
     "data": {
      "text/html": [
       "<div>\n",
       "<style scoped>\n",
       "    .dataframe tbody tr th:only-of-type {\n",
       "        vertical-align: middle;\n",
       "    }\n",
       "\n",
       "    .dataframe tbody tr th {\n",
       "        vertical-align: top;\n",
       "    }\n",
       "\n",
       "    .dataframe thead th {\n",
       "        text-align: right;\n",
       "    }\n",
       "</style>\n",
       "<table border=\"1\" class=\"dataframe\">\n",
       "  <thead>\n",
       "    <tr style=\"text-align: right;\">\n",
       "      <th></th>\n",
       "      <th>Provider</th>\n",
       "      <th>PotentialFraud</th>\n",
       "      <th>NumPtsIP</th>\n",
       "      <th>NumPtsOP</th>\n",
       "      <th>NumPts</th>\n",
       "    </tr>\n",
       "  </thead>\n",
       "  <tbody>\n",
       "    <tr>\n",
       "      <td>0</td>\n",
       "      <td>PRV51001</td>\n",
       "      <td>No</td>\n",
       "      <td>5.0</td>\n",
       "      <td>19.0</td>\n",
       "      <td>19.0</td>\n",
       "    </tr>\n",
       "    <tr>\n",
       "      <td>1</td>\n",
       "      <td>PRV51003</td>\n",
       "      <td>Yes</td>\n",
       "      <td>53.0</td>\n",
       "      <td>66.0</td>\n",
       "      <td>66.0</td>\n",
       "    </tr>\n",
       "    <tr>\n",
       "      <td>2</td>\n",
       "      <td>PRV51004</td>\n",
       "      <td>No</td>\n",
       "      <td>NaN</td>\n",
       "      <td>138.0</td>\n",
       "      <td>138.0</td>\n",
       "    </tr>\n",
       "    <tr>\n",
       "      <td>3</td>\n",
       "      <td>PRV51005</td>\n",
       "      <td>Yes</td>\n",
       "      <td>NaN</td>\n",
       "      <td>495.0</td>\n",
       "      <td>495.0</td>\n",
       "    </tr>\n",
       "    <tr>\n",
       "      <td>4</td>\n",
       "      <td>PRV51007</td>\n",
       "      <td>No</td>\n",
       "      <td>3.0</td>\n",
       "      <td>56.0</td>\n",
       "      <td>56.0</td>\n",
       "    </tr>\n",
       "  </tbody>\n",
       "</table>\n",
       "</div>"
      ],
      "text/plain": [
       "   Provider PotentialFraud  NumPtsIP  NumPtsOP  NumPts\n",
       "0  PRV51001             No       5.0      19.0    19.0\n",
       "1  PRV51003            Yes      53.0      66.0    66.0\n",
       "2  PRV51004             No       NaN     138.0   138.0\n",
       "3  PRV51005            Yes       NaN     495.0   495.0\n",
       "4  PRV51007             No       3.0      56.0    56.0"
      ]
     },
     "execution_count": 252,
     "metadata": {},
     "output_type": "execute_result"
    }
   ],
   "source": [
    "# Making final feature\n",
    "\n",
    "feat_patients_final = flags.merge(feat_patients_ip, how='left', on='Provider')\n",
    "feat_patients_final = feat_patients_final.merge(feat_patients_op, how='left', on='Provider')\n",
    "feat_patients_final = feat_patients_final.merge(feat_patients_ipop, how='left', on='Provider')\n",
    "\n",
    "print(len(feat_patients_final))\n",
    "feat_patients_final.head()"
   ]
  },
  {
   "cell_type": "code",
   "execution_count": 55,
   "metadata": {},
   "outputs": [],
   "source": []
  },
  {
   "cell_type": "code",
   "execution_count": null,
   "metadata": {},
   "outputs": [],
   "source": []
  },
  {
   "cell_type": "code",
   "execution_count": null,
   "metadata": {},
   "outputs": [],
   "source": []
  },
  {
   "cell_type": "markdown",
   "metadata": {},
   "source": [
    "## States Served"
   ]
  },
  {
   "cell_type": "code",
   "execution_count": 201,
   "metadata": {},
   "outputs": [
    {
     "data": {
      "text/html": [
       "<div>\n",
       "<style scoped>\n",
       "    .dataframe tbody tr th:only-of-type {\n",
       "        vertical-align: middle;\n",
       "    }\n",
       "\n",
       "    .dataframe tbody tr th {\n",
       "        vertical-align: top;\n",
       "    }\n",
       "\n",
       "    .dataframe thead th {\n",
       "        text-align: right;\n",
       "    }\n",
       "</style>\n",
       "<table border=\"1\" class=\"dataframe\">\n",
       "  <thead>\n",
       "    <tr style=\"text-align: right;\">\n",
       "      <th></th>\n",
       "      <th>Provider</th>\n",
       "      <th>NumStatesIP</th>\n",
       "    </tr>\n",
       "  </thead>\n",
       "  <tbody>\n",
       "    <tr>\n",
       "      <td>0</td>\n",
       "      <td>PRV51001</td>\n",
       "      <td>1</td>\n",
       "    </tr>\n",
       "    <tr>\n",
       "      <td>1</td>\n",
       "      <td>PRV51003</td>\n",
       "      <td>3</td>\n",
       "    </tr>\n",
       "    <tr>\n",
       "      <td>2</td>\n",
       "      <td>PRV51007</td>\n",
       "      <td>1</td>\n",
       "    </tr>\n",
       "    <tr>\n",
       "      <td>3</td>\n",
       "      <td>PRV51008</td>\n",
       "      <td>1</td>\n",
       "    </tr>\n",
       "    <tr>\n",
       "      <td>4</td>\n",
       "      <td>PRV51011</td>\n",
       "      <td>1</td>\n",
       "    </tr>\n",
       "  </tbody>\n",
       "</table>\n",
       "</div>"
      ],
      "text/plain": [
       "   Provider  NumStatesIP\n",
       "0  PRV51001            1\n",
       "1  PRV51003            3\n",
       "2  PRV51007            1\n",
       "3  PRV51008            1\n",
       "4  PRV51011            1"
      ]
     },
     "execution_count": 201,
     "metadata": {},
     "output_type": "execute_result"
    }
   ],
   "source": [
    "feat_states_ip = pd.DataFrame(ip.groupby('Provider')['State'].nunique()).rename(columns={'State':'NumStatesIP'}).reset_index()\n",
    "feat_states_op = pd.DataFrame(op.groupby('Provider')['State'].nunique()).rename(columns={'State':'NumStatesOP'}).reset_index()\n",
    "feat_states_ipop = pd.DataFrame(op.groupby('Provider')['State'].nunique()).rename(columns={'State':'NumStates'}).reset_index()\n",
    "feat_states_ip.head()\n"
   ]
  },
  {
   "cell_type": "code",
   "execution_count": 207,
   "metadata": {},
   "outputs": [
    {
     "data": {
      "image/png": "[encoded data removed]",
      "text/plain": [
       "<Figure size 432x288 with 1 Axes>"
      ]
     },
     "metadata": {
      "needs_background": "light"
     },
     "output_type": "display_data"
    },
    {
     "data": {
      "image/png": "[encoded data removed]",
      "text/plain": [
       "<Figure size 432x288 with 1 Axes>"
      ]
     },
     "metadata": {
      "needs_background": "light"
     },
     "output_type": "display_data"
    },
    {
     "data": {
      "text/plain": [
       "Ttest_indResult(statistic=-15.371409811239857, pvalue=1.7697718514496237e-52)"
      ]
     },
     "execution_count": 207,
     "metadata": {},
     "output_type": "execute_result"
    }
   ],
   "source": [
    "# Do we need an IP/OP split? Yes.\n",
    "\n",
    "feat_states_ip.hist()\n",
    "plt.xlim(0,13)\n",
    "plt.show()\n",
    "\n",
    "feat_states_op.hist()\n",
    "plt.xlim(0,13)\n",
    "plt.show()\n",
    "\n",
    "from scipy import stats\n",
    "\n",
    "stats.ttest_ind(feat_states_ip['NumStatesIP'], feat_states_op['NumStatesOP'])"
   ]
  },
  {
   "cell_type": "code",
   "execution_count": 208,
   "metadata": {},
   "outputs": [
    {
     "name": "stdout",
     "output_type": "stream",
     "text": [
      "5410\n"
     ]
    },
    {
     "data": {
      "text/html": [
       "<div>\n",
       "<style scoped>\n",
       "    .dataframe tbody tr th:only-of-type {\n",
       "        vertical-align: middle;\n",
       "    }\n",
       "\n",
       "    .dataframe tbody tr th {\n",
       "        vertical-align: top;\n",
       "    }\n",
       "\n",
       "    .dataframe thead th {\n",
       "        text-align: right;\n",
       "    }\n",
       "</style>\n",
       "<table border=\"1\" class=\"dataframe\">\n",
       "  <thead>\n",
       "    <tr style=\"text-align: right;\">\n",
       "      <th></th>\n",
       "      <th>Provider</th>\n",
       "      <th>PotentialFraud</th>\n",
       "      <th>NumStatesIP</th>\n",
       "      <th>NumStatesOP</th>\n",
       "    </tr>\n",
       "  </thead>\n",
       "  <tbody>\n",
       "    <tr>\n",
       "      <td>0</td>\n",
       "      <td>PRV51001</td>\n",
       "      <td>No</td>\n",
       "      <td>1.0</td>\n",
       "      <td>1.0</td>\n",
       "    </tr>\n",
       "    <tr>\n",
       "      <td>1</td>\n",
       "      <td>PRV51003</td>\n",
       "      <td>Yes</td>\n",
       "      <td>3.0</td>\n",
       "      <td>3.0</td>\n",
       "    </tr>\n",
       "    <tr>\n",
       "      <td>2</td>\n",
       "      <td>PRV51004</td>\n",
       "      <td>No</td>\n",
       "      <td>NaN</td>\n",
       "      <td>9.0</td>\n",
       "    </tr>\n",
       "    <tr>\n",
       "      <td>3</td>\n",
       "      <td>PRV51005</td>\n",
       "      <td>Yes</td>\n",
       "      <td>NaN</td>\n",
       "      <td>4.0</td>\n",
       "    </tr>\n",
       "    <tr>\n",
       "      <td>4</td>\n",
       "      <td>PRV51007</td>\n",
       "      <td>No</td>\n",
       "      <td>1.0</td>\n",
       "      <td>2.0</td>\n",
       "    </tr>\n",
       "  </tbody>\n",
       "</table>\n",
       "</div>"
      ],
      "text/plain": [
       "   Provider PotentialFraud  NumStatesIP  NumStatesOP\n",
       "0  PRV51001             No          1.0          1.0\n",
       "1  PRV51003            Yes          3.0          3.0\n",
       "2  PRV51004             No          NaN          9.0\n",
       "3  PRV51005            Yes          NaN          4.0\n",
       "4  PRV51007             No          1.0          2.0"
      ]
     },
     "execution_count": 208,
     "metadata": {},
     "output_type": "execute_result"
    }
   ],
   "source": [
    "# Making final feature\n",
    "\n",
    "feat_states_final = flags.merge(feat_states_ip, how='left', on='Provider')\n",
    "feat_states_final = feat_states_final.merge(feat_states_op, how='left', on='Provider')\n",
    "\n",
    "print(len(feat_states_final))\n",
    "feat_states_final.head()"
   ]
  },
  {
   "cell_type": "code",
   "execution_count": null,
   "metadata": {},
   "outputs": [],
   "source": []
  },
  {
   "cell_type": "code",
   "execution_count": null,
   "metadata": {},
   "outputs": [],
   "source": []
  },
  {
   "cell_type": "markdown",
   "metadata": {},
   "source": [
    "## Merge All Zack Features"
   ]
  },
  {
   "cell_type": "code",
   "execution_count": 211,
   "metadata": {},
   "outputs": [],
   "source": [
    "from functools import reduce\n",
    "\n",
    "full_ip = reduce(lambda x,y: pd.merge(x,y, on='Provider', how='outer'), [feat_duration_ip, feat_both_ip, feat_conditions_ip,feat_age_ip,feat_patients_ip,feat_states_ip])\n",
    "full_op = reduce(lambda x,y: pd.merge(x,y, on='Provider', how='outer'), [feat_duration_op, feat_both_op, feat_conditions_op,feat_age_op,feat_patients_op,feat_states_op])\n",
    "full_ipop = reduce(lambda x,y: pd.merge(x,y, on='Provider', how='outer'), [feat_duration_ipop, feat_both_ipop, feat_conditions_ipop,feat_age_ipop,feat_patients_ipop,feat_states_ipop])\n",
    "\n",
    "full_final = reduce(lambda x,y: pd.merge(x,y, on=['Provider','PotentialFraud'], how='outer'), [feat_duration_final, feat_both_final, feat_conditions_final,feat_age_final,feat_patients_final,feat_states_final])\n",
    "\n"
   ]
  },
  {
   "cell_type": "code",
   "execution_count": 213,
   "metadata": {},
   "outputs": [
    {
     "name": "stdout",
     "output_type": "stream",
     "text": [
      "5410\n"
     ]
    },
    {
     "data": {
      "text/html": [
       "<div>\n",
       "<style scoped>\n",
       "    .dataframe tbody tr th:only-of-type {\n",
       "        vertical-align: middle;\n",
       "    }\n",
       "\n",
       "    .dataframe tbody tr th {\n",
       "        vertical-align: top;\n",
       "    }\n",
       "\n",
       "    .dataframe thead th {\n",
       "        text-align: right;\n",
       "    }\n",
       "</style>\n",
       "<table border=\"1\" class=\"dataframe\">\n",
       "  <thead>\n",
       "    <tr style=\"text-align: right;\">\n",
       "      <th></th>\n",
       "      <th>Provider</th>\n",
       "      <th>PotentialFraud</th>\n",
       "      <th>DurationMedianIP</th>\n",
       "      <th>DurationMeanIP</th>\n",
       "      <th>DurationMedianOP</th>\n",
       "      <th>DurationMeanOP</th>\n",
       "      <th>Serves</th>\n",
       "      <th>ChronCondsMedian</th>\n",
       "      <th>ChronCondsMean</th>\n",
       "      <th>ChronConsMode</th>\n",
       "      <th>PtAgeMedian</th>\n",
       "      <th>PtAgeMean</th>\n",
       "      <th>NumPtsIP</th>\n",
       "      <th>NumPtsOP</th>\n",
       "      <th>NumStatesIP</th>\n",
       "      <th>NumStatesOP</th>\n",
       "    </tr>\n",
       "  </thead>\n",
       "  <tbody>\n",
       "    <tr>\n",
       "      <td>0</td>\n",
       "      <td>PRV51001</td>\n",
       "      <td>No</td>\n",
       "      <td>4.0</td>\n",
       "      <td>5.000000</td>\n",
       "      <td>0.0</td>\n",
       "      <td>0.550000</td>\n",
       "      <td>Both</td>\n",
       "      <td>6.0</td>\n",
       "      <td>5.760000</td>\n",
       "      <td>5.0</td>\n",
       "      <td>79.0</td>\n",
       "      <td>77.880000</td>\n",
       "      <td>5.0</td>\n",
       "      <td>19.0</td>\n",
       "      <td>1.0</td>\n",
       "      <td>1.0</td>\n",
       "    </tr>\n",
       "    <tr>\n",
       "      <td>1</td>\n",
       "      <td>PRV51003</td>\n",
       "      <td>Yes</td>\n",
       "      <td>4.0</td>\n",
       "      <td>5.161290</td>\n",
       "      <td>0.0</td>\n",
       "      <td>2.357143</td>\n",
       "      <td>Both</td>\n",
       "      <td>7.0</td>\n",
       "      <td>6.674242</td>\n",
       "      <td>6.0</td>\n",
       "      <td>71.0</td>\n",
       "      <td>69.083333</td>\n",
       "      <td>53.0</td>\n",
       "      <td>66.0</td>\n",
       "      <td>3.0</td>\n",
       "      <td>3.0</td>\n",
       "    </tr>\n",
       "    <tr>\n",
       "      <td>2</td>\n",
       "      <td>PRV51004</td>\n",
       "      <td>No</td>\n",
       "      <td>NaN</td>\n",
       "      <td>NaN</td>\n",
       "      <td>0.0</td>\n",
       "      <td>1.429530</td>\n",
       "      <td>OP</td>\n",
       "      <td>7.0</td>\n",
       "      <td>6.812081</td>\n",
       "      <td>8.0</td>\n",
       "      <td>72.0</td>\n",
       "      <td>71.261745</td>\n",
       "      <td>NaN</td>\n",
       "      <td>138.0</td>\n",
       "      <td>NaN</td>\n",
       "      <td>9.0</td>\n",
       "    </tr>\n",
       "    <tr>\n",
       "      <td>3</td>\n",
       "      <td>PRV51005</td>\n",
       "      <td>Yes</td>\n",
       "      <td>NaN</td>\n",
       "      <td>NaN</td>\n",
       "      <td>0.0</td>\n",
       "      <td>1.088412</td>\n",
       "      <td>OP</td>\n",
       "      <td>7.0</td>\n",
       "      <td>6.886695</td>\n",
       "      <td>5.0</td>\n",
       "      <td>70.0</td>\n",
       "      <td>69.526180</td>\n",
       "      <td>NaN</td>\n",
       "      <td>495.0</td>\n",
       "      <td>NaN</td>\n",
       "      <td>4.0</td>\n",
       "    </tr>\n",
       "    <tr>\n",
       "      <td>4</td>\n",
       "      <td>PRV51007</td>\n",
       "      <td>No</td>\n",
       "      <td>5.0</td>\n",
       "      <td>5.333333</td>\n",
       "      <td>0.0</td>\n",
       "      <td>0.768116</td>\n",
       "      <td>Both</td>\n",
       "      <td>7.0</td>\n",
       "      <td>6.986111</td>\n",
       "      <td>6.0</td>\n",
       "      <td>69.5</td>\n",
       "      <td>68.305556</td>\n",
       "      <td>3.0</td>\n",
       "      <td>56.0</td>\n",
       "      <td>1.0</td>\n",
       "      <td>2.0</td>\n",
       "    </tr>\n",
       "  </tbody>\n",
       "</table>\n",
       "</div>"
      ],
      "text/plain": [
       "   Provider PotentialFraud  DurationMedianIP  DurationMeanIP  \\\n",
       "0  PRV51001             No               4.0        5.000000   \n",
       "1  PRV51003            Yes               4.0        5.161290   \n",
       "2  PRV51004             No               NaN             NaN   \n",
       "3  PRV51005            Yes               NaN             NaN   \n",
       "4  PRV51007             No               5.0        5.333333   \n",
       "\n",
       "   DurationMedianOP  DurationMeanOP Serves  ChronCondsMedian  ChronCondsMean  \\\n",
       "0               0.0        0.550000   Both               6.0        5.760000   \n",
       "1               0.0        2.357143   Both               7.0        6.674242   \n",
       "2               0.0        1.429530     OP               7.0        6.812081   \n",
       "3               0.0        1.088412     OP               7.0        6.886695   \n",
       "4               0.0        0.768116   Both               7.0        6.986111   \n",
       "\n",
       "   ChronConsMode  PtAgeMedian  PtAgeMean  NumPtsIP  NumPtsOP  NumStatesIP  \\\n",
       "0            5.0         79.0  77.880000       5.0      19.0          1.0   \n",
       "1            6.0         71.0  69.083333      53.0      66.0          3.0   \n",
       "2            8.0         72.0  71.261745       NaN     138.0          NaN   \n",
       "3            5.0         70.0  69.526180       NaN     495.0          NaN   \n",
       "4            6.0         69.5  68.305556       3.0      56.0          1.0   \n",
       "\n",
       "   NumStatesOP  \n",
       "0          1.0  \n",
       "1          3.0  \n",
       "2          9.0  \n",
       "3          4.0  \n",
       "4          2.0  "
      ]
     },
     "execution_count": 213,
     "metadata": {},
     "output_type": "execute_result"
    }
   ],
   "source": [
    "print(len(full_final))\n",
    "full_final.head()"
   ]
  },
  {
   "cell_type": "code",
   "execution_count": null,
   "metadata": {},
   "outputs": [],
   "source": []
  },
  {
   "cell_type": "code",
   "execution_count": null,
   "metadata": {},
   "outputs": [],
   "source": []
  },
  {
   "cell_type": "markdown",
   "metadata": {},
   "source": [
    "## Analysis of Zack's Full Final Table"
   ]
  },
  {
   "cell_type": "code",
   "execution_count": 216,
   "metadata": {},
   "outputs": [
    {
     "data": {
      "text/plain": [
       "Provider               0\n",
       "PotentialFraud         0\n",
       "DurationMedianIP    3318\n",
       "DurationMeanIP      3318\n",
       "DurationMedianOP     398\n",
       "DurationMeanOP       398\n",
       "Serves                 0\n",
       "ChronCondsMedian       0\n",
       "ChronCondsMean         0\n",
       "ChronConsMode          0\n",
       "PtAgeMedian            0\n",
       "PtAgeMean              0\n",
       "NumPtsIP            3318\n",
       "NumPtsOP             398\n",
       "NumStatesIP         3318\n",
       "NumStatesOP          398\n",
       "dtype: int64"
      ]
     },
     "execution_count": 216,
     "metadata": {},
     "output_type": "execute_result"
    }
   ],
   "source": [
    "full_final.isna().sum()"
   ]
  },
  {
   "cell_type": "code",
   "execution_count": 217,
   "metadata": {},
   "outputs": [
    {
     "data": {
      "text/plain": [
       "OP      3318\n",
       "Both    1694\n",
       "IP       398\n",
       "Name: Serves, dtype: int64"
      ]
     },
     "execution_count": 217,
     "metadata": {},
     "output_type": "execute_result"
    }
   ],
   "source": [
    "full_final.Serves.value_counts()"
   ]
  },
  {
   "cell_type": "code",
   "execution_count": null,
   "metadata": {},
   "outputs": [],
   "source": []
  },
  {
   "cell_type": "code",
   "execution_count": 231,
   "metadata": {},
   "outputs": [],
   "source": [
    "# Make fraud/no_fraud tables\n",
    "\n",
    "no_fraud = full_final.loc[full_final['PotentialFraud'] == 'No']\n",
    "fraud = full_final.loc[full_final['PotentialFraud'] == 'Yes']"
   ]
  },
  {
   "cell_type": "code",
   "execution_count": null,
   "metadata": {},
   "outputs": [],
   "source": []
  },
  {
   "cell_type": "code",
   "execution_count": 246,
   "metadata": {
    "scrolled": false
   },
   "outputs": [
    {
     "data": {
      "image/png": "[encoded data removed]",
      "text/plain": [
       "<Figure size 432x288 with 1 Axes>"
      ]
     },
     "metadata": {
      "needs_background": "light"
     },
     "output_type": "display_data"
    },
    {
     "data": {
      "image/png": "[encoded data removed]",
      "text/plain": [
       "<Figure size 432x288 with 1 Axes>"
      ]
     },
     "metadata": {
      "needs_background": "light"
     },
     "output_type": "display_data"
    },
    {
     "data": {
      "image/png": "[encoded data removed]",
      "text/plain": [
       "<Figure size 432x288 with 1 Axes>"
      ]
     },
     "metadata": {
      "needs_background": "light"
     },
     "output_type": "display_data"
    },
    {
     "data": {
      "image/png": "[encoded data removed]",
      "text/plain": [
       "<Figure size 432x288 with 1 Axes>"
      ]
     },
     "metadata": {
      "needs_background": "light"
     },
     "output_type": "display_data"
    },
    {
     "data": {
      "image/png": "[encoded data removed]",
      "text/plain": [
       "<Figure size 432x288 with 1 Axes>"
      ]
     },
     "metadata": {
      "needs_background": "light"
     },
     "output_type": "display_data"
    },
    {
     "data": {
      "image/png": "[encoded data removed]",
      "text/plain": [
       "<Figure size 432x288 with 1 Axes>"
      ]
     },
     "metadata": {
      "needs_background": "light"
     },
     "output_type": "display_data"
    },
    {
     "data": {
      "image/png": "[encoded data removed]",
      "text/plain": [
       "<Figure size 432x288 with 1 Axes>"
      ]
     },
     "metadata": {
      "needs_background": "light"
     },
     "output_type": "display_data"
    },
    {
     "data": {
      "image/png": "[encoded data removed]",
      "text/plain": [
       "<Figure size 432x288 with 1 Axes>"
      ]
     },
     "metadata": {
      "needs_background": "light"
     },
     "output_type": "display_data"
    },
    {
     "data": {
      "image/png": "[encoded data removed]",
      "text/plain": [
       "<Figure size 432x288 with 1 Axes>"
      ]
     },
     "metadata": {
      "needs_background": "light"
     },
     "output_type": "display_data"
    },
    {
     "data": {
      "image/png": "[encoded data removed]",
      "text/plain": [
       "<Figure size 432x288 with 1 Axes>"
      ]
     },
     "metadata": {
      "needs_background": "light"
     },
     "output_type": "display_data"
    },
    {
     "data": {
      "image/png": "[encoded data removed]",
      "text/plain": [
       "<Figure size 432x288 with 1 Axes>"
      ]
     },
     "metadata": {
      "needs_background": "light"
     },
     "output_type": "display_data"
    },
    {
     "data": {
      "image/png": "[encoded data removed]",
      "text/plain": [
       "<Figure size 432x288 with 1 Axes>"
      ]
     },
     "metadata": {
      "needs_background": "light"
     },
     "output_type": "display_data"
    },
    {
     "data": {
      "image/png": "[encoded data removed]",
      "text/plain": [
       "<Figure size 432x288 with 1 Axes>"
      ]
     },
     "metadata": {
      "needs_background": "light"
     },
     "output_type": "display_data"
    }
   ],
   "source": [
    "# Plot all features, separating fraud and no_fraud\n",
    "\n",
    "col_list = list(full_final.columns)[2:]\n",
    "col_list.remove('Serves')\n",
    "col_list\n",
    "\n",
    "for x in col_list:\n",
    "    sns.distplot(no_fraud[[x]], hist=False, rug=True)\n",
    "    sns.distplot(fraud[[x]], hist=False, rug=True)\n",
    "    plt.title(x)\n",
    "    plt.show()"
   ]
  },
  {
   "cell_type": "code",
   "execution_count": null,
   "metadata": {},
   "outputs": [],
   "source": []
  },
  {
   "cell_type": "code",
   "execution_count": null,
   "metadata": {},
   "outputs": [],
   "source": []
  },
  {
   "cell_type": "markdown",
   "metadata": {},
   "source": [
    "## Final Provider Table"
   ]
  },
  {
   "cell_type": "code",
   "execution_count": null,
   "metadata": {},
   "outputs": [],
   "source": [
    "# Read in collaborator tables\n",
    "\n",
    "pat = pd.read_csv('../../patrice/processed_data/final.csv')\n",
    "lu = pd.read_csv('../../lu/processed_data/hner.csv')\n",
    "el = pd.read_csv('../../elina/processed_data/hner.csv')\n",
    "\n",
    "print('Pat ', len(pat))\n",
    "display(pat.head())\n",
    "print('Lu ', len(lu))\n",
    "display(lu.head())\n",
    "print('Elina ', len(el))\n",
    "el.head()"
   ]
  },
  {
   "cell_type": "code",
   "execution_count": 253,
   "metadata": {},
   "outputs": [],
   "source": [
    "# Drop PotentialFraud and Reset Index?\n",
    "\n"
   ]
  },
  {
   "cell_type": "code",
   "execution_count": null,
   "metadata": {},
   "outputs": [],
   "source": [
    "# Merge all\n",
    "\n",
    "from functools import reduce\n",
    "\n",
    "final = reduce(lambda x,y: pd.merge(x,y, on=['Provider'], how='outer'), [full_final, pat, lu, el])\n"
   ]
  },
  {
   "cell_type": "code",
   "execution_count": null,
   "metadata": {},
   "outputs": [],
   "source": [
    "# Check to make sure things merged in line!"
   ]
  },
  {
   "cell_type": "code",
   "execution_count": null,
   "metadata": {},
   "outputs": [],
   "source": []
  }
 ],
 "metadata": {
  "kernelspec": {
   "display_name": "Python 3",
   "language": "python",
   "name": "python3"
  },
  "language_info": {
   "codemirror_mode": {
    "name": "ipython",
    "version": 3
   },
   "file_extension": ".py",
   "mimetype": "text/x-python",
   "name": "python",
   "nbconvert_exporter": "python",
   "pygments_lexer": "ipython3",
   "version": "3.7.4"
  }
 },
 "nbformat": 4,
 "nbformat_minor": 2
}
